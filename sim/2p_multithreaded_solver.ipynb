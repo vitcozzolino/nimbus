{
 "cells": [
  {
   "cell_type": "code",
   "execution_count": 2,
   "metadata": {
    "scrolled": true
   },
   "outputs": [
    {
     "name": "stdout",
     "output_type": "stream",
     "text": [
      "Parallel loading of APs data ...\n",
      "Activating threads now\n"
     ]
    },
    {
     "name": "stderr",
     "output_type": "stream",
     "text": [
      "100%|██████████| 2/2 [00:00<00:00, 11.95it/s]]\n",
      "100%|██████████| 1/1 [00:00<00:00,  8.72it/s]]\n",
      "  8%|▊         | 2/24 [00:00<00:02,  9.60it/s]\n",
      "100%|██████████| 3/3 [00:00<00:00, 10.79it/s]\n",
      "100%|██████████| 1/1 [00:00<00:00, 10.49it/s]]\n",
      "100%|██████████| 3/3 [00:00<00:00,  8.61it/s]\n",
      "100%|██████████| 2/2 [00:00<00:00,  8.90it/s]\n",
      "100%|██████████| 2/2 [00:00<00:00,  9.33it/s]]\n",
      "100%|██████████| 5/5 [00:00<00:00,  9.70it/s]]\n",
      "100%|██████████| 6/6 [00:00<00:00,  6.57it/s]s]\n",
      " 50%|█████     | 12/24 [00:01<00:01,  6.15it/s]\n",
      " 12%|█▎        | 7/56 [00:01<00:08,  5.65it/s]]"
     ]
    },
    {
     "name": "stdout",
     "output_type": "stream",
     "text": [
      "File not found!\n"
     ]
    },
    {
     "name": "stderr",
     "output_type": "stream",
     "text": [
      "100%|██████████| 16/16 [00:02<00:00,  7.31it/s]\n",
      " 80%|████████  | 4/5 [00:00<00:00,  4.57it/s]]]\n",
      " 58%|█████▊    | 11/19 [00:01<00:01,  5.03it/s]\n",
      "100%|██████████| 7/7 [00:01<00:00,  4.39it/s]s]\n",
      " 18%|█▊        | 10/56 [00:01<00:10,  4.56it/s]\n",
      " 69%|██████▉   | 9/13 [00:01<00:00,  4.57it/s]]\n",
      " 30%|███       | 3/10 [00:00<00:01,  5.02it/s]]\n",
      " 39%|███▊      | 12/31 [00:02<00:04,  4.50it/s]\n",
      "  7%|▋         | 1/14 [00:00<00:02,  4.68it/s]]\n",
      " 14%|█▍        | 2/14 [00:00<00:02,  4.94it/s]]]\n",
      " 45%|████▌     | 14/31 [00:02<00:04,  4.12it/s]\n",
      " 25%|██▌       | 14/56 [00:02<00:10,  4.09it/s]]\n",
      "  0%|          | 0/21 [00:00<?, ?it/s]5.49it/s]\n",
      " 10%|▉         | 2/21 [00:00<00:04,  4.13it/s]]]\n",
      "\n",
      " 49%|████▊     | 17/35 [00:03<00:04,  3.94it/s]]\n",
      " 10%|▉         | 15/152 [00:02<00:30,  4.50it/s]\n",
      " 79%|███████▊  | 11/14 [00:02<00:00,  4.05it/s]\n",
      " 33%|███▎      | 13/39 [00:02<00:06,  4.32it/s]\n",
      "100%|██████████| 5/5 [00:01<00:00,  4.42it/s]]]\n",
      "100%|██████████| 24/24 [00:04<00:00,  5.52it/s]]\n",
      " 24%|██▍       | 5/21 [00:01<00:03,  4.21it/s]]\n",
      "100%|██████████| 5/5 [00:01<00:00,  3.65it/s]s]]\n",
      " 32%|███▏      | 18/56 [00:03<00:09,  4.14it/s]\n",
      "  0%|          | 0/1 [00:00<?, ?it/s] 4.01it/s]\n",
      "\n",
      " 67%|██████▋   | 2/3 [00:00<00:00,  4.30it/s]s]"
     ]
    },
    {
     "name": "stdout",
     "output_type": "stream",
     "text": [
      "File not found!\n"
     ]
    },
    {
     "name": "stderr",
     "output_type": "stream",
     "text": [
      "  0%|          | 0/7 [00:00<?, ?it/s]3.77it/s]]]\n",
      " 18%|█▊        | 3/17 [00:00<00:02,  5.31it/s]]\n",
      "100%|██████████| 4/4 [00:00<00:00,  4.35it/s]s]\n",
      " 13%|█▎        | 3/23 [00:00<00:03,  5.16it/s]]]\n",
      "\n",
      " 69%|██████▉   | 11/16 [00:02<00:01,  4.86it/s]\n",
      "100%|██████████| 1/1 [00:00<00:00,  3.79it/s]s]]\n"
     ]
    },
    {
     "name": "stdout",
     "output_type": "stream",
     "text": [
      "File not found!\n"
     ]
    },
    {
     "name": "stderr",
     "output_type": "stream",
     "text": [
      " 90%|█████████ | 18/20 [00:04<00:00,  3.97it/s]]\n",
      " 81%|████████▏ | 13/16 [00:03<00:00,  4.18it/s]\n",
      " 86%|████████▌ | 12/14 [00:03<00:00,  4.09it/s]]\n",
      " 91%|█████████ | 20/22 [00:04<00:00,  4.18it/s]"
     ]
    },
    {
     "name": "stdout",
     "output_type": "stream",
     "text": [
      "File not found!\n"
     ]
    },
    {
     "name": "stderr",
     "output_type": "stream",
     "text": [
      "  5%|▍         | 1/22 [00:00<00:04,  4.89it/s]]]\n",
      " 38%|███▊      | 5/13 [00:01<00:01,  4.46it/s]"
     ]
    },
    {
     "name": "stdout",
     "output_type": "stream",
     "text": [
      "File not found!\n"
     ]
    },
    {
     "name": "stderr",
     "output_type": "stream",
     "text": [
      " 67%|██████▋   | 24/36 [00:05<00:03,  3.76it/s]\n",
      " 18%|█▊        | 3/17 [00:00<00:03,  4.09it/s]]]\n"
     ]
    },
    {
     "name": "stdout",
     "output_type": "stream",
     "text": [
      "File not found!\n"
     ]
    },
    {
     "name": "stderr",
     "output_type": "stream",
     "text": [
      "\n",
      " 65%|██████▍   | 24/37 [00:05<00:03,  3.55it/s]\n",
      " 88%|████████▊ | 7/8 [00:01<00:00,  3.95it/s]"
     ]
    },
    {
     "name": "stdout",
     "output_type": "stream",
     "text": [
      "File not found!\n"
     ]
    },
    {
     "name": "stderr",
     "output_type": "stream",
     "text": [
      " 57%|█████▋    | 30/53 [00:06<00:06,  3.47it/s]\n",
      "100%|██████████| 8/8 [00:01<00:00,  4.03it/s]]]]\n",
      "  4%|▍         | 2/52 [00:00<00:09,  5.12it/s]]\n",
      " 24%|██▎       | 4/17 [00:01<00:03,  3.88it/s]]]\n",
      "  7%|▋         | 2/27 [00:00<00:07,  3.41it/s]]]\n",
      " 67%|██████▋   | 26/39 [00:06<00:03,  3.42it/s]\n",
      " 76%|███████▌  | 16/21 [00:04<00:01,  3.47it/s]]"
     ]
    },
    {
     "name": "stdout",
     "output_type": "stream",
     "text": [
      "File not found!\n"
     ]
    },
    {
     "name": "stderr",
     "output_type": "stream",
     "text": [
      " 81%|████████  | 30/37 [00:07<00:02,  2.94it/s]]"
     ]
    },
    {
     "name": "stdout",
     "output_type": "stream",
     "text": [
      "File not found!\n"
     ]
    },
    {
     "name": "stderr",
     "output_type": "stream",
     "text": [
      " 41%|████      | 9/22 [00:02<00:04,  3.07it/s]]\n",
      " 33%|███▎      | 1/3 [00:00<00:00,  2.46it/s]s]\n",
      "\n",
      "100%|██████████| 2/2 [00:00<00:00,  2.24it/s]]]]"
     ]
    },
    {
     "name": "stdout",
     "output_type": "stream",
     "text": [
      "File not found!\n"
     ]
    },
    {
     "name": "stderr",
     "output_type": "stream",
     "text": [
      "  5%|▍         | 1/21 [00:00<00:04,  4.07it/s]]\n",
      "\n",
      " 14%|█▍        | 12/83 [00:03<00:21,  3.24it/s]\n",
      " 17%|█▋        | 9/53 [00:02<00:13,  3.24it/s]]]"
     ]
    },
    {
     "name": "stdout",
     "output_type": "stream",
     "text": [
      "File not found!\n"
     ]
    },
    {
     "name": "stderr",
     "output_type": "stream",
     "text": [
      " 44%|████▍     | 4/9 [00:01<00:01,  2.91it/s]]]\n",
      "  0%|          | 0/29 [00:00<?, ?it/s].95it/s]]\n",
      " 33%|███▎      | 1/3 [00:00<00:00,  4.02it/s]]]\n",
      "100%|██████████| 11/11 [00:03<00:00,  3.51it/s]"
     ]
    },
    {
     "name": "stdout",
     "output_type": "stream",
     "text": [
      "File not found!\n"
     ]
    },
    {
     "name": "stderr",
     "output_type": "stream",
     "text": [
      " 17%|█▋        | 1/6 [00:00<00:01,  4.05it/s]]]]\n",
      " 92%|█████████▏| 34/37 [00:08<00:01,  2.92it/s]\n",
      " 74%|███████▎  | 39/53 [00:09<00:05,  2.71it/s]\n",
      " 67%|██████▋   | 8/12 [00:02<00:01,  2.76it/s]]]"
     ]
    },
    {
     "name": "stdout",
     "output_type": "stream",
     "text": [
      "File not found!\n"
     ]
    },
    {
     "name": "stderr",
     "output_type": "stream",
     "text": [
      " 78%|███████▊  | 7/9 [00:02<00:00,  2.67it/s]s]]\n",
      "100%|██████████| 13/13 [00:04<00:00,  2.57it/s]\n",
      " 64%|██████▎   | 14/22 [00:04<00:03,  2.66it/s]\n",
      " 29%|██▊       | 6/21 [00:01<00:04,  3.16it/s]]]"
     ]
    },
    {
     "name": "stdout",
     "output_type": "stream",
     "text": [
      "File not found!\n"
     ]
    },
    {
     "name": "stderr",
     "output_type": "stream",
     "text": [
      " 40%|████      | 12/30 [00:03<00:05,  3.25it/s]"
     ]
    },
    {
     "name": "stdout",
     "output_type": "stream",
     "text": [
      "File not found!\n"
     ]
    },
    {
     "name": "stderr",
     "output_type": "stream",
     "text": [
      " 77%|███████▋  | 41/53 [00:10<00:05,  2.38it/s]"
     ]
    },
    {
     "name": "stdout",
     "output_type": "stream",
     "text": [
      "File not found!\n"
     ]
    },
    {
     "name": "stderr",
     "output_type": "stream",
     "text": [
      " 26%|██▌       | 18/69 [00:05<00:17,  2.85it/s]]"
     ]
    },
    {
     "name": "stdout",
     "output_type": "stream",
     "text": [
      "File not found!\n"
     ]
    },
    {
     "name": "stderr",
     "output_type": "stream",
     "text": [
      "100%|██████████| 8/8 [00:02<00:00,  3.27it/s]s]\n",
      " 79%|███████▉  | 42/53 [00:10<00:04,  2.52it/s]"
     ]
    },
    {
     "name": "stdout",
     "output_type": "stream",
     "text": [
      "File not found!\n"
     ]
    },
    {
     "name": "stderr",
     "output_type": "stream",
     "text": [
      "\n",
      "\n",
      "\n",
      "100%|██████████| 6/6 [00:01<00:00,  3.10it/s]\n",
      " 22%|██▏       | 2/9 [00:00<00:02,  2.57it/s]s]]\n",
      "100%|██████████| 17/17 [00:05<00:00,  3.06it/s]\n",
      " 94%|█████████▍| 16/17 [00:05<00:00,  3.01it/s]\n",
      " 92%|█████████▏| 11/12 [00:04<00:00,  2.37it/s]\n",
      " 50%|█████     | 5/10 [00:01<00:01,  2.93it/s]]]\n",
      " 28%|██▊       | 43/152 [00:10<00:35,  3.03it/s]\n",
      " 88%|████████▊ | 14/16 [00:04<00:00,  3.09it/s]\n",
      "  0%|          | 0/1 [00:00<?, ?it/s]2.84it/s]]\n",
      " 85%|████████▍ | 45/53 [00:11<00:02,  3.02it/s]"
     ]
    },
    {
     "name": "stdout",
     "output_type": "stream",
     "text": [
      "File not found!\n"
     ]
    },
    {
     "name": "stderr",
     "output_type": "stream",
     "text": [
      " 77%|███████▋  | 43/56 [00:11<00:05,  2.59it/s]]\n",
      " 36%|███▋      | 8/22 [00:02<00:04,  2.95it/s]]\n",
      "100%|██████████| 1/1 [00:00<00:00,  2.92it/s]s]\n",
      " 70%|███████   | 7/10 [00:02<00:01,  2.61it/s]]]\n",
      "\n",
      " 47%|████▋     | 8/17 [00:02<00:03,  2.95it/s]]]\n",
      "100%|██████████| 11/11 [00:04<00:00,  2.57it/s]\n",
      "\n",
      "100%|██████████| 4/4 [00:01<00:00,  2.58it/s]\n",
      " 23%|██▎       | 6/26 [00:02<00:08,  2.49it/s]]\n",
      " 73%|███████▎  | 11/15 [00:03<00:01,  3.51it/s]]\n",
      " 33%|███▎      | 2/6 [00:00<00:01,  3.56it/s]s]"
     ]
    },
    {
     "name": "stdout",
     "output_type": "stream",
     "text": [
      "File not found!\n"
     ]
    },
    {
     "name": "stderr",
     "output_type": "stream",
     "text": [
      "\n",
      " 80%|████████  | 12/15 [00:03<00:00,  3.97it/s]]"
     ]
    },
    {
     "name": "stdout",
     "output_type": "stream",
     "text": [
      "File not found!\n"
     ]
    },
    {
     "name": "stderr",
     "output_type": "stream",
     "text": [
      "100%|██████████| 6/6 [00:02<00:00,  2.51it/s]s]\n",
      " 40%|███▉      | 21/53 [00:06<00:11,  2.79it/s]\n",
      " 44%|████▍     | 18/41 [00:06<00:07,  3.21it/s]\n",
      " 45%|████▍     | 13/29 [00:04<00:05,  3.12it/s]\n",
      " 93%|█████████▎| 14/15 [00:03<00:00,  4.18it/s]]"
     ]
    },
    {
     "name": "stdout",
     "output_type": "stream",
     "text": [
      "File not found!\n"
     ]
    },
    {
     "name": "stderr",
     "output_type": "stream",
     "text": [
      "100%|██████████| 3/3 [00:00<00:00,  4.35it/s]s]\n",
      " 38%|███▊      | 10/26 [00:03<00:05,  3.19it/s]\n",
      " 12%|█▎        | 1/8 [00:00<00:02,  2.63it/s]s]]\n",
      " 42%|████▏     | 11/26 [00:03<00:05,  2.83it/s]\n",
      " 50%|█████     | 2/4 [00:00<00:00,  3.22it/s]]"
     ]
    },
    {
     "name": "stdout",
     "output_type": "stream",
     "text": [
      "File not found!\n"
     ]
    },
    {
     "name": "stderr",
     "output_type": "stream",
     "text": [
      "  0%|          | 0/17 [00:00<?, ?it/s]2.87it/s]]\n",
      "100%|██████████| 53/53 [00:14<00:00,  2.86it/s]"
     ]
    },
    {
     "name": "stdout",
     "output_type": "stream",
     "text": [
      "File not found!\n"
     ]
    },
    {
     "name": "stderr",
     "output_type": "stream",
     "text": [
      " 50%|█████     | 1/2 [00:00<00:00,  3.59it/s]s]\n",
      " 33%|███▎      | 5/15 [00:01<00:02,  3.47it/s]]]"
     ]
    },
    {
     "name": "stdout",
     "output_type": "stream",
     "text": [
      "File not found!\n",
      "File not found!\n"
     ]
    },
    {
     "name": "stderr",
     "output_type": "stream",
     "text": [
      " 46%|████▌     | 12/26 [00:04<00:04,  2.97it/s]\n",
      " 82%|████████▏ | 18/22 [00:05<00:01,  3.07it/s]]\n",
      " 40%|████      | 6/15 [00:01<00:02,  3.18it/s]\n",
      "100%|██████████| 19/19 [00:07<00:00,  2.60it/s]\n",
      " 33%|███▎      | 3/9 [00:01<00:02,  2.61it/s]s]\n",
      "100%|██████████| 1/1 [00:00<00:00,  3.71it/s]]]\n",
      "\n",
      "100%|██████████| 7/7 [00:02<00:00,  2.95it/s]"
     ]
    },
    {
     "name": "stdout",
     "output_type": "stream",
     "text": [
      "File not found!\n"
     ]
    },
    {
     "name": "stderr",
     "output_type": "stream",
     "text": [
      "\n",
      "  0%|          | 0/32 [00:00<?, ?it/s]\n",
      " 62%|██████▎   | 25/40 [00:08<00:04,  3.45it/s]\n",
      " 47%|████▋     | 7/15 [00:02<00:02,  3.22it/s]]]"
     ]
    },
    {
     "name": "stdout",
     "output_type": "stream",
     "text": [
      "File not found!\n"
     ]
    },
    {
     "name": "stderr",
     "output_type": "stream",
     "text": [
      " 50%|█████     | 6/12 [00:01<00:02,  2.99it/s]]\n",
      "  4%|▍         | 2/45 [00:00<00:10,  4.08it/s]]\n"
     ]
    },
    {
     "name": "stdout",
     "output_type": "stream",
     "text": [
      "File not found!\n"
     ]
    },
    {
     "name": "stderr",
     "output_type": "stream",
     "text": [
      " 56%|█████▌    | 29/52 [00:09<00:06,  3.31it/s]\n",
      " 65%|██████▌   | 26/40 [00:08<00:04,  3.39it/s]\n",
      "100%|██████████| 1/1 [00:00<00:00,  3.39it/s]s]]\n",
      " 60%|██████    | 9/15 [00:02<00:01,  3.44it/s]]\n",
      "100%|██████████| 56/56 [00:15<00:00,  3.55it/s]]\n",
      "\n",
      "100%|██████████| 7/7 [00:02<00:00,  3.24it/s]]s]\n",
      "\n",
      " 50%|█████     | 2/4 [00:00<00:00,  3.67it/s]s]\n",
      " 41%|████      | 34/83 [00:11<00:15,  3.24it/s]"
     ]
    },
    {
     "name": "stdout",
     "output_type": "stream",
     "text": [
      "File not found!\n"
     ]
    },
    {
     "name": "stderr",
     "output_type": "stream",
     "text": [
      "  0%|          | 0/1 [00:00<?, ?it/s] 3.59it/s]]\n",
      " 47%|████▋     | 8/17 [00:02<00:02,  3.75it/s]]\n",
      " 83%|████████▎ | 24/29 [00:07<00:01,  3.31it/s]"
     ]
    },
    {
     "name": "stdout",
     "output_type": "stream",
     "text": [
      "File not found!\n"
     ]
    },
    {
     "name": "stderr",
     "output_type": "stream",
     "text": [
      "  0%|          | 0/15 [00:00<?, ?it/s]22it/s]\n",
      " 96%|█████████▌| 24/25 [00:07<00:00,  3.28it/s]]\n",
      "100%|██████████| 12/12 [00:03<00:00,  3.43it/s]\n",
      "\n",
      " 59%|█████▉    | 10/17 [00:02<00:01,  3.74it/s]]\n",
      "\n",
      " 26%|██▋       | 9/34 [00:02<00:06,  4.17it/s]]\n",
      "100%|██████████| 1/1 [00:00<00:00,  4.66it/s]s]\n",
      " 25%|██▌       | 5/20 [00:01<00:03,  4.43it/s]]\n",
      " 58%|█████▊    | 40/69 [00:12<00:08,  3.34it/s]]\n",
      " 88%|████████▊ | 23/26 [00:07<00:00,  4.17it/s]\n",
      " 93%|█████████▎| 27/29 [00:08<00:00,  3.53it/s]\n",
      "100%|██████████| 1/1 [00:00<00:00,  2.63it/s]s]]\n",
      " 40%|████      | 8/20 [00:01<00:02,  4.07it/s]]]"
     ]
    },
    {
     "name": "stdout",
     "output_type": "stream",
     "text": [
      "File not found!\n"
     ]
    },
    {
     "name": "stderr",
     "output_type": "stream",
     "text": [
      " 77%|███████▋  | 40/52 [00:11<00:02,  4.06it/s]]\n"
     ]
    },
    {
     "name": "stdout",
     "output_type": "stream",
     "text": [
      "File not found!\n"
     ]
    },
    {
     "name": "stderr",
     "output_type": "stream",
     "text": [
      "100%|██████████| 26/26 [00:08<00:00,  3.21it/s]\n",
      "\n",
      "  0%|          | 0/13 [00:00<?, ?it/s].37it/s]]\n",
      "  0%|          | 0/13 [00:00<?, ?it/s].46it/s]]]\n",
      " 57%|█████▋    | 4/7 [00:01<00:00,  3.78it/s]\n",
      " 30%|███       | 6/20 [00:01<00:02,  4.85it/s]]"
     ]
    },
    {
     "name": "stdout",
     "output_type": "stream",
     "text": [
      "File not found!\n",
      "File not found!\n"
     ]
    },
    {
     "name": "stderr",
     "output_type": "stream",
     "text": [
      " 33%|███▎      | 15/45 [00:04<00:08,  3.34it/s]]\n",
      " 98%|█████████▊| 39/40 [00:12<00:00,  3.45it/s]]\n",
      " 93%|█████████▎| 14/15 [00:03<00:00,  3.93it/s]]\n",
      "100%|██████████| 7/7 [00:02<00:00,  3.28it/s]s]\n",
      " 71%|███████   | 49/69 [00:14<00:05,  3.55it/s]\n",
      "100%|██████████| 8/8 [00:02<00:00,  3.68it/s]s]]\n",
      " 39%|███▉      | 27/69 [00:07<00:11,  3.59it/s]\n",
      "  0%|          | 0/13 [00:00<?, ?it/s]3.45it/s]\n",
      " 92%|█████████▏| 11/12 [00:03<00:00,  3.89it/s]\n",
      " 46%|████▌     | 6/13 [00:01<00:01,  4.07it/s]s]\n",
      " 10%|█         | 1/10 [00:00<00:02,  3.97it/s]]\n",
      " 87%|████████▋ | 13/15 [00:03<00:00,  3.38it/s]\n",
      " 62%|██████▎   | 20/32 [00:04<00:02,  4.24it/s]]\n",
      "  7%|▋         | 4/57 [00:01<00:15,  3.50it/s]]\n",
      " 20%|██        | 2/10 [00:00<00:02,  3.69it/s]]\n",
      "  8%|▊         | 1/13 [00:00<00:03,  3.62it/s]]\n",
      "  4%|▍         | 2/53 [00:00<00:09,  5.32it/s]]]"
     ]
    },
    {
     "name": "stdout",
     "output_type": "stream",
     "text": [
      "File not found!\n"
     ]
    },
    {
     "name": "stderr",
     "output_type": "stream",
     "text": [
      " 70%|███████   | 14/20 [00:03<00:01,  3.67it/s]\n",
      " 78%|███████▊  | 25/32 [00:06<00:01,  3.75it/s]]\n",
      "\n",
      " 53%|█████▎    | 24/45 [00:06<00:07,  2.95it/s]]\n",
      " 12%|█▏        | 2/17 [00:00<00:04,  3.38it/s]]\n",
      " 85%|████████▌ | 17/20 [00:04<00:00,  3.68it/s]]\n",
      " 25%|██▌       | 4/16 [00:01<00:03,  3.71it/s]\n",
      " 64%|██████▍   | 16/25 [00:04<00:02,  3.37it/s]]\n",
      "\n",
      "\n",
      " 58%|█████▊    | 26/45 [00:07<00:06,  3.10it/s]\n",
      " 19%|█▉        | 11/57 [00:03<00:12,  3.59it/s]\n",
      "100%|██████████| 3/3 [00:01<00:00,  2.69it/s]]]]\n",
      " 27%|██▋       | 3/11 [00:00<00:02,  3.23it/s]\n",
      "\n",
      "100%|██████████| 16/16 [00:05<00:00,  3.10it/s]\n",
      " 91%|█████████ | 29/32 [00:07<00:00,  3.42it/s]\n",
      " 53%|█████▎    | 80/152 [00:22<00:21,  3.41it/s]\n",
      " 97%|█████████▋| 31/32 [00:08<00:00,  4.05it/s]\n",
      " 22%|██▏       | 5/23 [00:01<00:04,  3.78it/s]]]"
     ]
    },
    {
     "name": "stdout",
     "output_type": "stream",
     "text": [
      "File not found!\n"
     ]
    },
    {
     "name": "stderr",
     "output_type": "stream",
     "text": [
      "\n",
      "  8%|▊         | 5/63 [00:01<00:18,  3.22it/s]]]\n",
      "100%|██████████| 32/32 [00:08<00:00,  3.75it/s]\n",
      " 53%|█████▎    | 9/17 [00:02<00:02,  3.45it/s]]"
     ]
    },
    {
     "name": "stdout",
     "output_type": "stream",
     "text": [
      "File not found!\n"
     ]
    },
    {
     "name": "stderr",
     "output_type": "stream",
     "text": [
      " 50%|█████     | 1/2 [00:00<00:00,  5.55it/s]s]\n",
      "100%|██████████| 7/7 [00:01<00:00,  4.55it/s]]]\n",
      " 26%|██▌       | 6/23 [00:01<00:04,  3.49it/s]]\n",
      " 30%|███       | 3/10 [00:00<00:01,  3.52it/s]]]\n",
      " 26%|██▋       | 14/53 [00:03<00:09,  4.03it/s]\n",
      "100%|██████████| 24/24 [00:06<00:00,  3.96it/s]\n",
      " 40%|████      | 4/10 [00:01<00:01,  3.37it/s]]\n",
      " 30%|██▉       | 8/27 [00:02<00:04,  4.44it/s]\n",
      " 76%|███████▌  | 63/83 [00:19<00:06,  2.86it/s]]\n",
      " 39%|███▉      | 9/23 [00:02<00:03,  3.54it/s]]]\n",
      " 17%|█▋        | 11/63 [00:03<00:13,  3.77it/s]]\n",
      " 22%|██▏       | 5/23 [00:01<00:04,  3.77it/s]\n",
      " 59%|█████▉    | 10/17 [00:02<00:02,  3.38it/s]]\n",
      " 56%|█████▋    | 9/16 [00:02<00:02,  3.44it/s]]\n",
      " 75%|███████▌  | 3/4 [00:00<00:00,  4.13it/s]s]]\n",
      " 25%|██▌       | 1/4 [00:00<00:00,  3.65it/s]]]\n",
      " 21%|██        | 13/63 [00:03<00:13,  3.75it/s]\n",
      " 30%|███       | 7/23 [00:01<00:04,  3.45it/s]]\n",
      "100%|██████████| 4/4 [00:01<00:00,  3.19it/s]s]]\n",
      " 12%|█▏        | 6/49 [00:01<00:12,  3.50it/s]]\n",
      " 17%|█▋        | 1/6 [00:00<00:01,  2.69it/s]/s]\n",
      "100%|██████████| 10/10 [00:02<00:00,  3.86it/s]"
     ]
    },
    {
     "name": "stdout",
     "output_type": "stream",
     "text": [
      "File not found!\n"
     ]
    },
    {
     "name": "stderr",
     "output_type": "stream",
     "text": [
      " 61%|██████    | 14/23 [00:04<00:02,  3.02it/s]\n",
      " 20%|██        | 1/5 [00:00<00:01,  2.76it/s]s]]\n",
      "\n"
     ]
    },
    {
     "name": "stdout",
     "output_type": "stream",
     "text": [
      "File not found!\n"
     ]
    },
    {
     "name": "stderr",
     "output_type": "stream",
     "text": [
      "  0%|          | 0/6 [00:00<?, ?it/s].40it/s]\n",
      " 40%|████      | 2/5 [00:00<00:01,  2.81it/s]s]]\n",
      " 17%|█▋        | 1/6 [00:00<00:00,  5.06it/s]s]"
     ]
    },
    {
     "name": "stdout",
     "output_type": "stream",
     "text": [
      "File not found!\n"
     ]
    },
    {
     "name": "stderr",
     "output_type": "stream",
     "text": [
      "\n"
     ]
    },
    {
     "name": "stdout",
     "output_type": "stream",
     "text": [
      "File not found!\n"
     ]
    },
    {
     "name": "stderr",
     "output_type": "stream",
     "text": [
      "100%|██████████| 3/3 [00:00<00:00,  3.15it/s]s]]\n",
      "\n",
      "\n",
      "100%|██████████| 16/16 [00:04<00:00,  3.68it/s]\n",
      "\n",
      " 22%|██▏       | 11/49 [00:03<00:12,  3.16it/s]]\n",
      "100%|██████████| 17/17 [00:05<00:00,  3.27it/s]\n",
      "100%|██████████| 1/1 [00:00<00:00,  5.05it/s]s]\n",
      "  0%|          | 0/8 [00:00<?, ?it/s] 3.50it/s]\n",
      "100%|██████████| 1/1 [00:00<00:00,  5.00it/s]s]\n",
      "100%|██████████| 26/26 [00:07<00:00,  3.40it/s]]\n",
      "100%|██████████| 45/45 [00:13<00:00,  3.44it/s]\n",
      " 89%|████████▉ | 74/83 [00:22<00:02,  3.00it/s]\n",
      " 32%|███▏      | 20/63 [00:05<00:13,  3.08it/s]\n",
      "\n",
      " 89%|████████▉ | 17/19 [00:03<00:00,  4.63it/s]\n",
      " 57%|█████▋    | 30/53 [00:07<00:05,  3.93it/s]]\n",
      "100%|██████████| 13/13 [00:03<00:00,  3.98it/s]]\n",
      " 84%|████████▍ | 58/69 [00:16<00:03,  3.66it/s]\n",
      "100%|██████████| 19/19 [00:04<00:00,  4.26it/s]\n",
      " 43%|████▎     | 20/47 [00:05<00:06,  4.29it/s]]\n",
      " 58%|█████▊    | 33/57 [00:09<00:06,  3.94it/s]\n",
      " 22%|██▏       | 2/9 [00:00<00:01,  3.92it/s]s]]\n",
      " 13%|█▎        | 2/15 [00:00<00:02,  4.33it/s]/s]\n",
      " 44%|████▍     | 4/9 [00:00<00:01,  4.26it/s]]]\n",
      "100%|██████████| 1/1 [00:00<00:00,  4.55it/s]]]s]\n",
      "100%|██████████| 4/4 [00:00<00:00,  4.33it/s]s]\n",
      " 57%|█████▋    | 8/14 [00:01<00:01,  4.79it/s]/s]\n",
      " 44%|████▍     | 28/63 [00:07<00:09,  3.89it/s]\n",
      "\n",
      " 68%|██████▊   | 36/53 [00:09<00:04,  3.96it/s]\n",
      " 95%|█████████▍| 18/19 [00:04<00:00,  3.72it/s]\n",
      " 96%|█████████▌| 22/23 [00:06<00:00,  3.70it/s]\n",
      " 20%|██        | 1/5 [00:00<00:00,  5.42it/s]]/s]\n",
      "  0%|          | 0/9 [00:00<?, ?it/s] 3.70it/s]s]\n",
      "\n",
      " 40%|████      | 2/5 [00:00<00:00,  4.64it/s]]]\n",
      "100%|██████████| 1/1 [00:00<00:00,  4.58it/s]s]\n",
      "  6%|▌         | 1/17 [00:00<00:03,  4.46it/s]]\n",
      "\n",
      "100%|██████████| 9/9 [00:02<00:00,  4.36it/s]t/s]\n",
      " 60%|█████▉    | 28/47 [00:07<00:04,  4.37it/s]\n",
      " 12%|█▏        | 2/17 [00:00<00:03,  4.34it/s]]\n",
      "\n",
      "  0%|          | 0/1 [00:00<?, ?it/s].39it/s]]]s]\n",
      "100%|██████████| 2/2 [00:00<00:00,  4.22it/s]s]"
     ]
    },
    {
     "name": "stdout",
     "output_type": "stream",
     "text": [
      "File not found!\n"
     ]
    },
    {
     "name": "stderr",
     "output_type": "stream",
     "text": [
      "100%|██████████| 5/5 [00:01<00:00,  4.08it/s]\n",
      " 70%|███████   | 107/152 [00:30<00:12,  3.56it/s]\n",
      "  0%|          | 0/13 [00:00<?, ?it/s]\n",
      "100%|██████████| 14/14 [00:03<00:00,  4.35it/s]\n",
      "100%|██████████| 10/10 [00:02<00:00,  5.02it/s]\n",
      "  0%|          | 0/2 [00:00<?, ?it/s]\n",
      "100%|██████████| 5/5 [00:01<00:00,  4.06it/s]\n",
      " 66%|██████▌   | 31/47 [00:08<00:03,  4.57it/s]"
     ]
    },
    {
     "name": "stdout",
     "output_type": "stream",
     "text": [
      "File not found!\n"
     ]
    },
    {
     "name": "stderr",
     "output_type": "stream",
     "text": [
      "\n",
      " 55%|█████▌    | 27/49 [00:07<00:05,  4.22it/s]s]\n",
      "  0%|          | 0/8 [00:00<?, ?it/s]4.55it/s]]\n",
      " 57%|█████▋    | 28/49 [00:07<00:04,  4.69it/s]"
     ]
    },
    {
     "name": "stdout",
     "output_type": "stream",
     "text": [
      "File not found!\n"
     ]
    },
    {
     "name": "stderr",
     "output_type": "stream",
     "text": [
      " 93%|█████████▎| 14/15 [00:03<00:00,  5.09it/s]s]\n",
      "100%|██████████| 2/2 [00:00<00:00,  4.86it/s]]]\n",
      "100%|██████████| 1/1 [00:00<00:00,  4.49it/s]\n",
      " 76%|███████▌  | 35/46 [00:09<00:02,  4.66it/s]s]\n",
      "  0%|          | 0/10 [00:00<?, ?it/s]4.30it/s]\n",
      " 10%|█         | 1/10 [00:00<00:01,  6.56it/s]/s]\n",
      "100%|██████████| 1/1 [00:00<00:00,  5.31it/s]\n",
      " 63%|██████▎   | 31/49 [00:07<00:03,  4.95it/s]\n",
      " 81%|████████  | 38/47 [00:09<00:01,  5.11it/s]s]\n",
      " 75%|███████▌  | 114/152 [00:32<00:08,  4.39it/s]\n",
      "\n",
      "  2%|▏         | 1/63 [00:00<00:10,  5.89it/s]]s]\n",
      "  0%|          | 0/27 [00:00<?, ?it/s].35it/s]]\n",
      "  3%|▎         | 1/31 [00:00<00:05,  5.23it/s]]s]\n",
      "  0%|          | 0/12 [00:00<?, ?it/s].33it/s]]\n",
      "  9%|▉         | 3/32 [00:00<00:06,  4.28it/s]]s]\n",
      "\n",
      "100%|██████████| 10/10 [00:02<00:00,  4.77it/s]\n",
      " 53%|█████▎    | 9/17 [00:01<00:01,  4.65it/s]/s]\n",
      " 16%|█▌        | 5/31 [00:01<00:05,  4.73it/s]]s]\n",
      "100%|██████████| 1/1 [00:00<00:00,  4.72it/s]s]\n",
      " 21%|██        | 16/78 [00:03<00:16,  3.73it/s]\n",
      " 22%|██▏       | 17/78 [00:03<00:16,  3.72it/s]s]\n",
      " 52%|█████▏    | 12/23 [00:02<00:02,  4.61it/s]s]\n",
      " 42%|████▏     | 5/12 [00:01<00:01,  3.84it/s]]\n",
      "  0%|          | 0/6 [00:00<?, ?it/s].80it/s]s]\n",
      "100%|██████████| 25/25 [00:05<00:00,  3.71it/s]s]\n",
      " 75%|███████▌  | 3/4 [00:00<00:00,  4.29it/s]]]\n",
      " 17%|█▋        | 1/6 [00:00<00:01,  4.02it/s]]]s]\n",
      "100%|██████████| 7/7 [00:01<00:00,  3.58it/s]]]\n",
      " 61%|██████    | 14/23 [00:03<00:02,  3.91it/s]s]\n",
      "  3%|▎         | 2/61 [00:00<00:11,  5.00it/s]]\n",
      "  5%|▍         | 3/61 [00:00<00:13,  4.36it/s]]s]\n",
      "100%|██████████| 8/8 [00:02<00:00,  3.69it/s]s]\n",
      "\n",
      " 45%|████▌     | 14/31 [00:03<00:04,  3.98it/s]\n",
      " 84%|████████▎ | 127/152 [00:36<00:08,  2.85it/s]\n",
      "100%|██████████| 1/1 [00:00<00:00,  2.82it/s]]]s]\n",
      " 95%|█████████▌| 60/63 [00:15<00:00,  3.54it/s]\n",
      "  5%|▍         | 1/22 [00:00<00:04,  4.23it/s]]\n",
      " 67%|██████▋   | 4/6 [00:01<00:00,  3.54it/s]]\n",
      " 20%|██        | 2/10 [00:00<00:03,  2.61it/s]]\n",
      " 46%|████▌     | 18/39 [00:04<00:05,  3.87it/s]s]\n",
      " 42%|████▏     | 5/12 [00:01<00:02,  3.50it/s]"
     ]
    },
    {
     "name": "stdout",
     "output_type": "stream",
     "text": [
      "File not found!\n"
     ]
    },
    {
     "name": "stderr",
     "output_type": "stream",
     "text": [
      " 86%|████████▌ | 18/21 [00:04<00:00,  3.42it/s]\n",
      " 13%|█▎        | 8/61 [00:02<00:15,  3.53it/s]]s]\n",
      "100%|██████████| 1/1 [00:00<00:00,  2.10it/s]s]"
     ]
    },
    {
     "name": "stdout",
     "output_type": "stream",
     "text": [
      "File not found!\n"
     ]
    },
    {
     "name": "stderr",
     "output_type": "stream",
     "text": [
      " 61%|██████▏   | 19/31 [00:04<00:03,  3.42it/s]\n",
      " 67%|██████▋   | 18/27 [00:04<00:02,  3.05it/s]\n",
      " 70%|███████   | 19/27 [00:05<00:02,  3.25it/s]\n",
      " 77%|███████▋  | 10/13 [00:02<00:00,  4.38it/s]\n",
      "100%|██████████| 23/23 [00:06<00:00,  3.04it/s]s]\n",
      " 33%|███▎      | 4/12 [00:01<00:02,  3.48it/s]]\n",
      " 63%|██████▎   | 12/19 [00:03<00:02,  3.15it/s]s]\n",
      " 58%|█████▊    | 14/24 [00:03<00:02,  4.42it/s]\n",
      " 58%|█████▊    | 19/33 [00:05<00:03,  3.86it/s]\n",
      " 74%|███████▍  | 23/31 [00:05<00:01,  4.10it/s]s]\n",
      "100%|██████████| 10/10 [00:02<00:00,  3.63it/s]s]\n",
      " 67%|██████▋   | 26/39 [00:06<00:02,  4.56it/s]s]\n",
      " 72%|███████▏  | 23/32 [00:06<00:02,  3.69it/s]\n",
      " 93%|█████████▎| 25/27 [00:06<00:00,  3.80it/s]\n",
      " 69%|██████▉   | 18/26 [00:05<00:02,  3.87it/s]s]\n",
      " 48%|████▊     | 30/63 [00:07<00:06,  4.75it/s]s]\n",
      "100%|██████████| 19/19 [00:05<00:00,  3.63it/s]\n",
      "100%|██████████| 27/27 [00:07<00:00,  3.80it/s]\n",
      " 85%|████████▍ | 28/33 [00:07<00:00,  5.88it/s]s]\n",
      " 53%|█████▎    | 41/78 [00:09<00:06,  5.58it/s]s]\n",
      "100%|██████████| 30/30 [00:07<00:00,  3.88it/s]s]\n",
      " 94%|█████████▍| 143/152 [00:40<00:01,  5.01it/s]\n",
      "100%|██████████| 33/33 [00:07<00:00,  4.22it/s]\n",
      "100%|██████████| 26/26 [00:06<00:00,  3.87it/s]s]\n",
      "100%|██████████| 39/39 [00:08<00:00,  4.49it/s]\n",
      "100%|██████████| 22/22 [00:04<00:00,  4.66it/s]s]\n",
      "100%|██████████| 152/152 [00:42<00:00,  3.62it/s]\n",
      "100%|██████████| 63/63 [00:10<00:00,  5.75it/s]\n",
      "100%|██████████| 78/78 [00:13<00:00,  5.96it/s]\n",
      "100%|██████████| 61/61 [00:08<00:00,  7.39it/s]\n"
     ]
    }
   ],
   "source": [
    "import os, time\n",
    "import numpy as np\n",
    "import pandas as pd\n",
    "import config.hyperparams as hp\n",
    "from tqdm.notebook import trange, tqdm\n",
    "from entities.solver_process_ns import SolverProcessNS\n",
    "from lib.common import disarrange\n",
    "import powerlaw\n",
    "import matplotlib.pyplot as plt\n",
    "import seaborn as sns\n",
    "import datetime as dt\n",
    "from multiprocessing import Queue\n",
    "from lib import wlanlrz_loader, rtt_matrix_loader, inference_loader, solver\n",
    "\n",
    "### WLAN-LRZ AP Data Loader ####\n",
    "desc = wlanlrz_loader.load_data_description(hp.AP_DESCR)\n",
    "original_data, coord_dataframe_list, total_ap, original_merged_raw_ap_data = \\\n",
    "wlanlrz_loader.load_data_parallel(hp.BUILDING, desc, mass_load=True)"
   ]
  },
  {
   "cell_type": "code",
   "execution_count": 3,
   "metadata": {},
   "outputs": [
    {
     "name": "stdout",
     "output_type": "stream",
     "text": [
      "Total APs: 4371\n",
      "Loading rtt matrix from dataset\n"
     ]
    }
   ],
   "source": [
    "from lib.common import generate_agents, generate_edge_nodes\n",
    "\n",
    "T1_RATIO_VEC_ABS = np.array([100])\n",
    "T2_RATIO_VEC_ABS = np.array([50])\n",
    "T3_RATIO_VEC_ABS = np.array([2])\n",
    "\n",
    "target_ma = 1000\n",
    "\n",
    "RESULTS = []\n",
    "\n",
    "print(\"Total APs: {}\".format(total_ap))\n",
    "original_data['timestamp'] = original_data.index\n",
    "\n",
    "data = original_data[(original_data.total >= target_ma) & (original_data.total < (target_ma*1.1))].sample()\n",
    "merged_raw_ap_data = original_merged_raw_ap_data[original_merged_raw_ap_data.index.isin(data.index)]\n",
    "merged_raw_ap_data = merged_raw_ap_data.loc[:, (merged_raw_ap_data > 0).all()]\n",
    "\n",
    "MA = int(data.total)\n",
    "total_ap = len(merged_raw_ap_data.columns)\n",
    "\n",
    "TIER_1_EN = T1_RATIO_VEC_ABS[0]\n",
    "TIER_2_EN = T2_RATIO_VEC_ABS[0]\n",
    "TIER_3_EN = T3_RATIO_VEC_ABS[0]\n",
    "\n",
    "EN_RATIO = (TIER_1_EN, TIER_2_EN, TIER_3_EN)\n",
    "TOTAL_EN = int(TIER_1_EN + TIER_2_EN + TIER_3_EN)\n",
    "\n",
    "if hp.dataset_rtt:\n",
    "    ### LOAD LATENCY MATRIX FROM DATASET ###\n",
    "    print(\"Loading rtt matrix from dataset\")\n",
    "    clf = rtt_matrix_loader.analyze_data(source=hp.dataset_rtt, drange=1000, threshold=250, k=3)\n",
    "    rtt_matrix = rtt_matrix_loader.generate_data(clf, n=total_ap, m=TOTAL_EN)\n",
    "else:\n",
    "    # Prepare latency matrixes for all the EN classes with increasing latency based on distance from the edge \n",
    "    rtt_matrix_en_t1 = np.round(abs(np.random.normal(1, 0.2, (TIER_1_EN, TIER_1_EN))))\n",
    "    rtt_matrix_en_t2 = np.round(abs(np.random.normal(3, 1, (TIER_1_EN, TIER_2_EN))))\n",
    "    rtt_matrix_en_t3 = np.round(abs(np.random.normal(10, 1, (TIER_1_EN, TIER_3_EN))))\n",
    "\n",
    "    sns.distplot(rtt_matrix_en_t1.flatten(), hist=False, rug=True)\n",
    "    sns.distplot(rtt_matrix_en_t2.flatten(), hist=False, rug=True)\n",
    "    sns.distplot(rtt_matrix_en_t3.flatten(), hist=False, rug=True)\n",
    "\n",
    "    rtt_matrix = np.hstack([rtt_matrix_en_t1, rtt_matrix_en_t2, rtt_matrix_en_t3])\n",
    "\n",
    "for i in range(round(TIER_1_EN)):\n",
    "    rtt_matrix[i][i] = 1\n",
    "        \n",
    "disarrange(rtt_matrix, axis=0)"
   ]
  },
  {
   "cell_type": "code",
   "execution_count": 4,
   "metadata": {},
   "outputs": [],
   "source": [
    "thread_nr = 6\n",
    "\n",
    "## Tier 1\n",
    "t1_list = np.zeros(thread_nr, dtype=np.int)\n",
    "# add = np.floor(len(a)/thread_nr)\n",
    "for i in range(TIER_1_EN):\n",
    "    t1_list[i % thread_nr] += 1\n",
    "    \n",
    "## Tier 2\n",
    "t2_list = np.zeros(thread_nr, dtype=np.int)\n",
    "# add = np.floor(6/len(a))\n",
    "for i in range(TIER_2_EN):\n",
    "    t2_list[i % thread_nr] += 1\n",
    "    \n",
    "## Tier 3\n",
    "t3_list = np.zeros(thread_nr, dtype=np.int)\n",
    "# add = np.floor(6/len(t3_list))\n",
    "for i in range(TIER_3_EN):\n",
    "    t3_list[i % thread_nr] += 1"
   ]
  },
  {
   "cell_type": "code",
   "execution_count": 5,
   "metadata": {
    "scrolled": true
   },
   "outputs": [
    {
     "name": "stdout",
     "output_type": "stream",
     "text": [
      "Set: 0\n"
     ]
    }
   ],
   "source": [
    "from multiprocessing import Queue\n",
    "from entities.en_tier import Tier\n",
    "import time \n",
    "\n",
    "dim = 0\n",
    "iterations = 100\n",
    "\n",
    "FPS = [10]\n",
    "k = [0]\n",
    "greed = [False]\n",
    "cloud = [False]\n",
    "alpha = [0.7]\n",
    "beta = [0.3]\n",
    "RESULT = []\n",
    "\n",
    "conv_centr = []\n",
    "\n",
    "for j in range(len(FPS)):\n",
    "    print(\"Set: {}\".format(j))\n",
    "    hp.FPS = np.random.normal(FPS[j], 2, 50)\n",
    "    hp.local_search_scope = k[j]\n",
    "    hp.greedy = greed[j]\n",
    "    hp.alpha = alpha[j]\n",
    "    hp.beta = beta[j]\n",
    "    \n",
    "    gb = merged_raw_ap_data.groupby(np.arange(merged_raw_ap_data.shape[1]) // (merged_raw_ap_data.shape[1]/thread_nr), axis=1)\n",
    "    mapls = [group for _, group in gb]\n",
    "    \n",
    "    for i in range(iterations):\n",
    "        processes = []\n",
    "        result_queue = Queue(maxsize=0)\n",
    "        edge_nodes_g = []\n",
    "        excluded_agents = []\n",
    "    \n",
    "        for nt1,nt2,nt3,ml in zip(t1_list, t2_list, t3_list, mapls):\n",
    "            en_rat = (nt1, nt2, nt3)\n",
    "            agents = generate_agents(MA, ml, dim)\n",
    "            edge_nodes_l = generate_edge_nodes(en_rat, ml, dim)\n",
    "            \n",
    "            t = SolverProcessNS(result_queue, agents, edge_nodes_l, rtt_matrix, ml, cloud[j])\n",
    "\n",
    "            processes.append(t)\n",
    "            t.start()\n",
    "\n",
    "        while 1:\n",
    "            time.sleep(0.01)\n",
    "            running = any(p.is_alive() for p in processes)\n",
    "            while not result_queue.empty():\n",
    "                s = result_queue.get()\n",
    "                RESULT.append(s)\n",
    "                excluded_agents.append(s[4])\n",
    "                edge_nodes_g.append(s[2])\n",
    "            if not running:\n",
    "                break\n",
    "        \n",
    "        # Phase 2\n",
    "        if excluded_agents and not cloud[j]:\n",
    "            start = time.time()\n",
    "            solver.algorithm_p2(np.concatenate(excluded_agents), np.concatenate(edge_nodes_g), 5, 4, 100, None, None, rtt_matrix, merged_raw_ap_data, suppress_output=True)\n",
    "            stop = time.time()\n",
    "            conv_centr.append(stop - start)\n",
    "#         print(\"Iteration: {}\".format(i))"
   ]
  },
  {
   "cell_type": "code",
   "execution_count": 6,
   "metadata": {},
   "outputs": [
    {
     "data": {
      "image/png": "[encoded data removed]",
      "text/plain": [
       "<Figure size 1152x144 with 4 Axes>"
      ]
     },
     "metadata": {
      "needs_background": "light"
     },
     "output_type": "display_data"
    }
   ],
   "source": [
    "from entities.mobile_agent import Offloaded\n",
    "\n",
    "fig, ax = plt.subplots(1, 4, figsize=(16, 2), constrained_layout=False)\n",
    "fig.tight_layout()\n",
    "\n",
    "agents_ls = []\n",
    "list_of_groups2 = zip(*(iter(RESULT),) * (iterations*(thread_nr)))\n",
    "LABELS = [\"2PMT_Wicker\"]\n",
    "\n",
    "lat_list = []\n",
    "conv_list = []\n",
    "df = pd.DataFrame(columns=['Algorithm', 'MA', 'Location'])\n",
    "\n",
    "## Latency\n",
    "for i, gr in enumerate(list_of_groups2):\n",
    "    curr_lat = list(map(lambda a: a.total_latency(), np.concatenate(list(map(lambda z: z[1], gr)))))\n",
    "    \n",
    "    #powerlaw.plot_cdf(data=curr_lat, ax=ax[0], label=label)\n",
    "    sns.distplot(curr_lat, hist=False, ax=ax[0], label=LABELS[i])\n",
    "\n",
    "    lat_list.append(curr_lat)\n",
    "    conv_list.append(np.median(list(map(lambda b: b[3], gr))))\n",
    "    \n",
    "    agents = np.concatenate(list(map(lambda z: z[1], gr))) \n",
    "    \n",
    "    loc = len(list(filter(lambda a: a.offload_target == Offloaded.Local ,agents))) / iterations\n",
    "    edge = len(list(filter(lambda a: a.offload_target == Offloaded.Edge ,agents))) / iterations\n",
    "    cloud = len(list(filter(lambda a: a.offload_target == Offloaded.Cloud ,agents))) / iterations\n",
    "\n",
    "    df = df.append({'Algorithm': LABELS[i], 'MA': loc, 'Location': 'Local'}, ignore_index=True) \\\n",
    "        .append({'Algorithm': LABELS[i], 'MA': edge, 'Location': 'Edge'}, ignore_index=True) \\\n",
    "        .append({'Algorithm': LABELS[i], 'MA': cloud, 'Location': 'Cloud'}, ignore_index=True)\n",
    "    \n",
    "sns.boxplot(x=LABELS, y=lat_list, ax=ax[1])\n",
    "sns.barplot(x=LABELS, y=conv_list+np.median(conv_centr), ax=ax[2])\n",
    "g = sns.barplot(x=\"Algorithm\", y=\"MA\", hue=\"Location\", data=df, ax=ax[3])\n",
    "\n",
    "#g.text(2,10,4, color='red', ha=\"center\")\n",
    "\n",
    "ax[0].set_xlabel(\"[ms]\")\n",
    "ax[1].set_ylabel(\"[ms]\")\n",
    "ax[2].set_ylabel(\"[s]\")\n",
    "\n",
    "fig.subplots_adjust(hspace=0.2)\n",
    "fig.savefig(\"../plots/multithread/comparison.pdf\",  bbox_inches=\"tight\")"
   ]
  },
  {
   "cell_type": "code",
   "execution_count": 26,
   "metadata": {},
   "outputs": [
    {
     "data": {
      "image/png": "[encoded data removed]",
      "text/plain": [
       "<Figure size 432x180 with 2 Axes>"
      ]
     },
     "metadata": {
      "needs_background": "light"
     },
     "output_type": "display_data"
    }
   ],
   "source": [
    "# weird - too packed\n",
    "fig,axs = plt.subplots(1,2,figsize=(6,2.5), constrained_layout=False)\n",
    "fig.tight_layout()\n",
    "\n",
    "sns.boxplot(x=LABELS, y=lat_list, ax=axs[0], showfliers=False, palette=\"YlGnBu\")\n",
    "sns.barplot(x=\"Algorithm\", y=\"MA\", hue=\"Location\", data=df, ax=axs[1], palette=\"YlGnBu\", edgecolor=\"black\")\n",
    "\n",
    "axin1 = axs[0].inset_axes([0.70, 0.74, 0.2, 0.2])\n",
    "\n",
    "sns.barplot(x=LABELS, y=conv_list+np.median(conv_centr), ax=axin1, palette=\"YlGnBu\", edgecolor=\"black\")\n",
    "\n",
    "axs[0].set_ylabel(\"[ms]\")\n",
    "\n",
    "axin1.set_ylabel(\"[s]\")\n",
    "\n",
    "fig.savefig(\"../plots/multithread/2p_threads_scaling_inset.pdf\",  bbox_inches=\"tight\")"
   ]
  },
  {
   "cell_type": "code",
   "execution_count": 54,
   "metadata": {},
   "outputs": [
    {
     "name": "stdout",
     "output_type": "stream",
     "text": [
      "Threads: 2\n",
      "Set: 0\n",
      "Threads: 4\n",
      "Set: 0\n",
      "Threads: 6\n",
      "Set: 0\n",
      "Threads: 8\n",
      "Set: 0\n",
      "Threads: 10\n",
      "Set: 0\n"
     ]
    }
   ],
   "source": [
    "iterations = 50\n",
    "thread_nr = [2,4,6,8,10]\n",
    "\n",
    "dim = 0\n",
    "\n",
    "FPS = [10]\n",
    "k = [0]\n",
    "greed = [False]\n",
    "cloud = [False]\n",
    "alpha = [0.7]\n",
    "beta = [0.3]\n",
    "RESULT_S = []\n",
    "\n",
    "conv_centr = []\n",
    "\n",
    "for tnr in thread_nr:\n",
    "    \n",
    "    print(\"Threads: {}\".format(tnr))\n",
    "\n",
    "    ## Tier 1\n",
    "    t1_list = np.zeros(tnr, dtype=np.int)\n",
    "    # add = np.floor(len(a)/thread_nr)\n",
    "    for i in range(TIER_1_EN):\n",
    "        t1_list[i % tnr] += 1\n",
    "\n",
    "    ## Tier 2\n",
    "    t2_list = np.zeros(tnr, dtype=np.int)\n",
    "    # add = np.floor(6/len(a))\n",
    "    for i in range(TIER_2_EN):\n",
    "        t2_list[i % tnr] += 1\n",
    "\n",
    "    ## Tier 3\n",
    "    t3_list = np.zeros(tnr, dtype=np.int)\n",
    "    # add = np.floor(6/len(t3_list))\n",
    "    for i in range(TIER_3_EN):\n",
    "        t3_list[i % tnr] += 1\n",
    "\n",
    "    for j in range(len(FPS)):\n",
    "        print(\"Set: {}\".format(j))\n",
    "        hp.FPS = np.random.normal(FPS[j], 2, 50)\n",
    "        hp.local_search_scope = k[j]\n",
    "        hp.greedy = greed[j]\n",
    "        hp.alpha = alpha[j]\n",
    "        hp.beta = beta[j]\n",
    "\n",
    "        gb = merged_raw_ap_data.groupby(np.arange(merged_raw_ap_data.shape[1]) // (merged_raw_ap_data.shape[1]/tnr), axis=1)\n",
    "        mapls = [group for _, group in gb]\n",
    "\n",
    "        for i in range(iterations):\n",
    "            processes = []\n",
    "            result_queue = Queue(maxsize=0)\n",
    "            edge_nodes_g = []\n",
    "            excluded_agents = []\n",
    "\n",
    "            for nt1,nt2,nt3,ml in zip(t1_list, t2_list, t3_list, mapls):\n",
    "                en_rat = (nt1, nt2, nt3)\n",
    "                agents = generate_agents(MA, ml, dim)\n",
    "                edge_nodes_l = generate_edge_nodes(en_rat, ml, dim)\n",
    "\n",
    "                t = SolverProcessNS(result_queue, agents, edge_nodes_l, rtt_matrix, ml, cloud[j])\n",
    "\n",
    "                processes.append(t)\n",
    "                t.start()\n",
    "\n",
    "            while 1:\n",
    "                time.sleep(0.01)\n",
    "                running = any(p.is_alive() for p in processes)\n",
    "                while not result_queue.empty():\n",
    "                    s = result_queue.get()\n",
    "                    RESULT_S.append(s)\n",
    "                    excluded_agents.append(s[4])\n",
    "                    edge_nodes_g.append(s[2])\n",
    "                if not running:\n",
    "                    break\n",
    "\n",
    "            # Phase 2\n",
    "            if excluded_agents and not cloud[j]:\n",
    "                start = time.time()\n",
    "                solver.algorithm_p2(np.concatenate(excluded_agents), np.concatenate(edge_nodes_g), 5, 4, 100, None, None, rtt_matrix, merged_raw_ap_data, suppress_output=True)\n",
    "                stop = time.time()\n",
    "                conv_centr.append(stop - start)"
   ]
  },
  {
   "cell_type": "code",
   "execution_count": 39,
   "metadata": {},
   "outputs": [
    {
     "data": {
      "image/png": "[encoded data removed]",
      "text/plain": [
       "<Figure size 1152x144 with 4 Axes>"
      ]
     },
     "metadata": {
      "needs_background": "light"
     },
     "output_type": "display_data"
    }
   ],
   "source": [
    "from entities.mobile_agent import Offloaded\n",
    "\n",
    "fig, ax = plt.subplots(1, 4, figsize=(16, 2), constrained_layout=False)\n",
    "fig.tight_layout()\n",
    "\n",
    "agents_ls = []\n",
    "lmt = []\n",
    "marker = 0\n",
    "\n",
    "df = pd.DataFrame(columns=['Threads', 'MA', 'Location'])\n",
    "\n",
    "for trn in thread_nr:\n",
    "    lmt.append(RESULT_S[marker:(marker+((trn)*iterations))])\n",
    "    marker = marker+(trn)*iterations\n",
    "\n",
    "list_of_conv_centr = zip(*(iter(conv_centr),) * (iterations))\n",
    "\n",
    "median_conv_list = []\n",
    "\n",
    "for elem in list_of_conv_centr:\n",
    "    median_conv_list.append(np.median(elem))\n",
    "\n",
    "lat_list = []\n",
    "conv_list = []\n",
    "\n",
    "## Latency\n",
    "for i, elem in enumerate(lmt):\n",
    "    curr_lat = list(map(lambda a: a.total_latency(), np.concatenate(list(map(lambda z: z[1], elem)))))\n",
    "    \n",
    "    #powerlaw.plot_cdf(data=curr_lat, ax=ax[0], label=label)\n",
    "    sns.distplot(curr_lat, hist=False, ax=ax[0], label=thread_nr[i])\n",
    "\n",
    "    lat_list.append(curr_lat)\n",
    "    conv_list.append(np.median(list(map(lambda b: b[3], elem))))\n",
    "    \n",
    "    agents = np.concatenate(list(map(lambda z: z[1], elem))) \n",
    "\n",
    "    loc = len(list(filter(lambda a: a.offload_target == Offloaded.Local ,agents))) / iterations\n",
    "    edge = len(list(filter(lambda a: a.offload_target == Offloaded.Edge ,agents))) / iterations\n",
    "    cloud = len(list(filter(lambda a: a.offload_target == Offloaded.Cloud ,agents))) / iterations\n",
    "\n",
    "    df = df.append({'Threads': thread_nr[i], 'MA': loc, 'Location': 'Local'}, ignore_index=True) \\\n",
    "        .append({'Threads': thread_nr[i], 'MA': edge, 'Location': 'Edge'}, ignore_index=True) \\\n",
    "        .append({'Threads': thread_nr[i], 'MA': cloud, 'Location': 'Cloud'}, ignore_index=True)\n",
    "\n",
    "p = tuple(sum(t) for t in zip(conv_list, median_conv_list))    \n",
    "\n",
    "sns.barplot(x=thread_nr, y=p, ax=ax[2], label=thread_nr)\n",
    "sns.barplot(x=\"Threads\", y=\"MA\", hue=\"Location\", data=df, ax=ax[3])\n",
    "# sns.boxplot(thread_nr, lat_list, ax=ax[1])\n",
    "ax[1].boxplot(lat_list, labels=thread_nr)\n",
    "#g.text(2,10,4, color='red', ha=\"center\")\n",
    "\n",
    "ax[0].set_xlabel(\"[ms]\")\n",
    "ax[1].set_ylabel(\"[ms]\")\n",
    "\n",
    "ax[1].set_xlabel(\"Threads\")\n",
    "ax[2].set_xlabel(\"Threads\")\n",
    "ax[2].set_ylabel(\"[s]\")\n",
    "\n",
    "fig.subplots_adjust(hspace=0.2)\n",
    "fig.savefig(\"../plots/multithread/2p_threads_scaling.pdf\",  bbox_inches=\"tight\")"
   ]
  },
  {
   "cell_type": "code",
   "execution_count": 139,
   "metadata": {},
   "outputs": [
    {
     "data": {
      "image/png": "[encoded data removed]",
      "text/plain": [
       "<Figure size 504x252 with 2 Axes>"
      ]
     },
     "metadata": {
      "needs_background": "light"
     },
     "output_type": "display_data"
    }
   ],
   "source": [
    "fig,axs = plt.subplots(1,2,figsize=(7,3.5), constrained_layout=False)\n",
    "fig.tight_layout()\n",
    "\n",
    "data = {'Threads': thread_nr,\n",
    "        'MT': conv_list,\n",
    "        'ST': median_conv_list\n",
    "        }\n",
    "\n",
    "mydf = pd.DataFrame(data)\n",
    "\n",
    "# sns.barplot(x=thread_nr, y=p, ax=axs[0], palette=\"plasma\", edgecolor=\"black\")\n",
    "mydf.plot(x=\"Threads\", kind='bar', stacked=True, edgecolor=\"black\", color=plt.cm.get_cmap(\"plasma\", 6).colors, ax=axs[0])\n",
    "plt.setp(axs[0].get_xticklabels(), rotation=0)\n",
    "\n",
    "sns.barplot(x=\"Threads\", y=\"MA\", hue=\"Location\", data=df, ax=axs[1], palette=\"YlGnBu\", edgecolor=\"black\")\n",
    "\n",
    "axs[1].legend(ncol=3,borderpad=0.2, loc=9,\n",
    "                labelspacing=0.1, handletextpad=0.3,\n",
    "                borderaxespad=0.15, columnspacing=0.2, title='Location:')\n",
    "\n",
    "axin1 = axs[0].inset_axes([0.40, 0.44, 0.59, 0.50])\n",
    "sns.boxplot(x=thread_nr, y=lat_list, ax=axin1, showfliers=False, palette=\"plasma\")\n",
    "\n",
    "axs[0].set_xlabel(\"Threads\")\n",
    "axs[0].set_ylabel(\"Convergence Time [s]\")\n",
    "axs[0].legend(loc=2)\n",
    "\n",
    "# axin1.set_ylabel(\"[ms]\")\n",
    "axin1.grid(axis='y')\n",
    "\n",
    "axs[0].set_ylim(top=2) \n",
    "axs[1].set_ylim(top=1000)\n",
    "axs[1].set_ylabel('Mobile Agents', labelpad=-5)\n",
    "axin1.set_title('Task Execution [ms]', fontsize=9, pad=3)\n",
    "\n",
    "for ax in axs:\n",
    "    ax.grid(axis='y')\n",
    "\n",
    "fig.savefig(\"../plots/multithread/2p_threads_scaling_inset.pdf\",  bbox_inches=\"tight\")"
   ]
  },
  {
   "cell_type": "markdown",
   "metadata": {},
   "source": [
    "# added plots"
   ]
  },
  {
   "cell_type": "code",
   "execution_count": 141,
   "metadata": {},
   "outputs": [],
   "source": [
    "## This will change the style of the plots a bit\n",
    "import matplotlib\n",
    "\n",
    "plt.style.use('classic')\n",
    "\n",
    "matplotlib.rcParams['axes.facecolor'] = 'w'\n",
    "matplotlib.rcParams['axes.edgecolor'] = 'k'\n",
    "matplotlib.rcParams['figure.facecolor'] = 'w'\n",
    "matplotlib.rcParams['axes.titlesize'] = 22\n",
    "matplotlib.rcParams['axes.labelsize'] = 22\n",
    "matplotlib.rcParams['lines.linewidth'] = 2\n",
    "matplotlib.rcParams['lines.markersize'] = 3\n",
    "matplotlib.rcParams['lines.color'] = 'xkcd:blue'\n",
    "matplotlib.rcParams['xtick.labelsize'] = 20\n",
    "matplotlib.rcParams['ytick.labelsize'] = 20\n",
    "\n",
    "width = 7\n",
    "height = width / 1.618\n",
    "\n",
    "# Use matplotlib fonts\n",
    "matplotlib.rcParams['text.usetex']=True"
   ]
  },
  {
   "cell_type": "code",
   "execution_count": 188,
   "metadata": {},
   "outputs": [
    {
     "data": {
      "image/png": "[encoded data removed]",
      "text/plain": [
       "<Figure size 672x336 with 2 Axes>"
      ]
     },
     "metadata": {},
     "output_type": "display_data"
    }
   ],
   "source": [
    "fig,axs = plt.subplots(1,2,figsize=(8.4,4.2), constrained_layout=False)\n",
    "\n",
    "data = {'Threads': thread_nr,\n",
    "        'MT': conv_list,\n",
    "        'ST': median_conv_list\n",
    "        }\n",
    "\n",
    "mydf = pd.DataFrame(data)\n",
    "\n",
    "# sns.barplot(x=thread_nr, y=p, ax=axs[0], palette=\"plasma\", edgecolor=\"black\")\n",
    "mydf.plot(x=\"Threads\", kind='bar', stacked=True, edgecolor=\"black\", color=plt.cm.get_cmap(\"plasma\", 3).colors, ax=axs[0])\n",
    "plt.setp(axs[0].get_xticklabels(), rotation=0)\n",
    "\n",
    "sns.barplot(x=\"Threads\", y=\"MA\", hue=\"Location\", data=df, ax=axs[1], palette=\"YlGnBu\", edgecolor=\"black\")\n",
    "\n",
    "axs[1].legend(ncol=3,borderpad=0.2, loc=9,\n",
    "                labelspacing=0.1, handletextpad=0.3,\n",
    "                borderaxespad=0.15, columnspacing=0.2, title='')\n",
    "\n",
    "axin1 = axs[0].inset_axes([0.40, 0.44, 0.59, 0.50])\n",
    "sns.boxplot(x=thread_nr, y=lat_list, ax=axin1, showfliers=False, palette=\"plasma\")\n",
    "\n",
    "axs[0].set_ylabel(\"Convergence Time [s]\", labelpad=0.2)\n",
    "axs[0].legend(loc=2,borderpad=0.2,\n",
    "                labelspacing=0.1, handletextpad=0.3,\n",
    "                borderaxespad=0.2, columnspacing=0.2)\n",
    "\n",
    "# axin1.set_ylabel(\"[ms]\")\n",
    "axin1.grid(axis='y')\n",
    "\n",
    "axs[0].set_ylim(top=2) \n",
    "axs[1].set_ylim(top=1000)\n",
    "axs[1].set_ylabel('Mobile Agents', labelpad=-8)\n",
    "axin1.set_title('Task Execution [ms]', fontsize=12.75, pad=3)\n",
    "\n",
    "for ax in axs:\n",
    "    ax.grid(axis='y')\n",
    "    ax.set_xlabel(\"Threads\", labelpad=-2.9)\n",
    "\n",
    "plt.tight_layout(pad=0, w_pad=0.4)\n",
    "\n",
    "## the aspect ratio should have remained the same\n",
    "## don't forget to change the file name\n",
    "fig.savefig(\"../plots/multithread/2p_threads_scaling_inset.pdf\",  bbox_inches=\"tight\")"
   ]
  },
  {
   "cell_type": "code",
   "execution_count": null,
   "metadata": {},
   "outputs": [],
   "source": []
  }
 ],
 "metadata": {
  "kernelspec": {
   "display_name": "Python 3.6.9 64-bit ('ec_solver': venv)",
   "language": "python",
   "name": "python36964bitecsolvervenv8f840cae860849e0b06ea0c4969e9c05"
  },
  "language_info": {
   "codemirror_mode": {
    "name": "ipython",
    "version": 3
   },
   "file_extension": ".py",
   "mimetype": "text/x-python",
   "name": "python",
   "nbconvert_exporter": "python",
   "pygments_lexer": "ipython3",
   "version": "3.6.9"
  }
 },
 "nbformat": 4,
 "nbformat_minor": 2
}
