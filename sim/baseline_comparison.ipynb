{
 "cells": [
  {
   "cell_type": "code",
   "execution_count": 1,
   "metadata": {
    "scrolled": true
   },
   "outputs": [
    {
     "name": "stdout",
     "output_type": "stream",
     "text": [
      "Parallel loading of APs data ...\n",
      "Activating threads now\n"
     ]
    },
    {
     "name": "stderr",
     "output_type": "stream",
     "text": [
      " 33%|███▎      | 1/3 [00:00<00:00,  8.42it/s]]\n",
      "100%|██████████| 1/1 [00:00<00:00,  6.54it/s]\n",
      "  0%|          | 0/19 [00:00<?, ?it/s]\n",
      "  0%|          | 0/37 [00:00<?, ?it/s].24it/s]\n",
      " 60%|██████    | 3/5 [00:00<00:00,  6.66it/s]]\n",
      "100%|██████████| 2/2 [00:00<00:00,  5.11it/s]\n",
      "  5%|▌         | 2/37 [00:00<00:06,  5.51it/s]\n",
      "  0%|          | 0/16 [00:00<?, ?it/s].99it/s]]\n",
      "  0%|          | 0/21 [00:00<?, ?it/s]37it/s]]]\n",
      " 50%|█████     | 1/2 [00:00<00:00,  2.50it/s]]\n",
      " 40%|████      | 2/5 [00:00<00:01,  2.51it/s]]\n",
      "  8%|▊         | 4/53 [00:01<00:13,  3.72it/s]\n",
      " 50%|█████     | 2/4 [00:00<00:00,  2.62it/s]s]\n",
      " 50%|█████     | 1/2 [00:00<00:00,  2.86it/s]]\n",
      " 12%|█▎        | 2/16 [00:00<00:05,  2.68it/s]"
     ]
    },
    {
     "name": "stdout",
     "output_type": "stream",
     "text": [
      "File not found!\n"
     ]
    },
    {
     "name": "stderr",
     "output_type": "stream",
     "text": [
      " 20%|██        | 2/10 [00:00<00:03,  2.38it/s]\n",
      "  4%|▍         | 1/23 [00:00<00:05,  4.22it/s]\n",
      " 40%|████      | 2/5 [00:00<00:01,  2.64it/s]\n",
      " 18%|█▊        | 4/22 [00:01<00:06,  2.96it/s]"
     ]
    },
    {
     "name": "stdout",
     "output_type": "stream",
     "text": [
      "File not found!\n"
     ]
    },
    {
     "name": "stderr",
     "output_type": "stream",
     "text": [
      " 75%|███████▌  | 3/4 [00:01<00:00,  2.65it/s]]\n",
      "  9%|▉         | 5/56 [00:01<00:16,  3.02it/s]\n",
      " 12%|█▎        | 1/8 [00:00<00:02,  2.56it/s]]]\n",
      "  0%|          | 0/13 [00:00<?, ?it/s]\n",
      " 14%|█▍        | 1/7 [00:00<00:03,  1.85it/s]]\n",
      " 21%|██▏       | 3/14 [00:01<00:04,  2.55it/s]\n",
      "100%|██████████| 4/4 [00:01<00:00,  2.39it/s]]"
     ]
    },
    {
     "name": "stdout",
     "output_type": "stream",
     "text": [
      "File not found!\n"
     ]
    },
    {
     "name": "stderr",
     "output_type": "stream",
     "text": [
      " 11%|█▏        | 6/53 [00:02<00:17,  2.67it/s]\n",
      "100%|██████████| 1/1 [00:00<00:00,  1.70it/s]]\n",
      "\n",
      "100%|██████████| 1/1 [00:00<00:00,  1.73it/s]\n",
      " 12%|█▏        | 2/17 [00:01<00:07,  1.95it/s]\n",
      " 57%|█████▋    | 4/7 [00:01<00:01,  2.31it/s]]\n",
      "  9%|▉         | 1/11 [00:00<00:05,  1.91it/s]]\n",
      "  2%|▎         | 1/40 [00:00<00:21,  1.82it/s]]"
     ]
    },
    {
     "name": "stdout",
     "output_type": "stream",
     "text": [
      "File not found!\n"
     ]
    },
    {
     "name": "stderr",
     "output_type": "stream",
     "text": [
      " 43%|████▎     | 3/7 [00:01<00:02,  1.94it/s]]"
     ]
    },
    {
     "name": "stdout",
     "output_type": "stream",
     "text": [
      "File not found!\n"
     ]
    },
    {
     "name": "stderr",
     "output_type": "stream",
     "text": [
      "  3%|▎         | 1/30 [00:00<00:17,  1.67it/s]\n",
      " 19%|█▉        | 7/37 [00:02<00:13,  2.15it/s]\n",
      "  5%|▍         | 1/22 [00:00<00:10,  2.03it/s]"
     ]
    },
    {
     "name": "stdout",
     "output_type": "stream",
     "text": [
      "File not found!\n"
     ]
    },
    {
     "name": "stderr",
     "output_type": "stream",
     "text": [
      " 38%|███▊      | 3/8 [00:01<00:02,  1.96it/s]\n",
      " 50%|█████     | 2/4 [00:01<00:01,  1.52it/s]]\n",
      " 56%|█████▋    | 9/16 [00:03<00:03,  1.94it/s]\n",
      "100%|██████████| 4/4 [00:02<00:00,  1.82it/s]]\n",
      " 86%|████████▌ | 6/7 [00:02<00:00,  1.92it/s]]\n",
      "  5%|▌         | 2/40 [00:01<00:22,  1.68it/s]]"
     ]
    },
    {
     "name": "stdout",
     "output_type": "stream",
     "text": [
      "File not found!\n"
     ]
    },
    {
     "name": "stderr",
     "output_type": "stream",
     "text": [
      " 17%|█▋        | 2/12 [00:01<00:05,  1.72it/s]"
     ]
    },
    {
     "name": "stdout",
     "output_type": "stream",
     "text": [
      "File not found!\n",
      "File not found!\n"
     ]
    },
    {
     "name": "stderr",
     "output_type": "stream",
     "text": [
      "  5%|▍         | 1/21 [00:00<00:12,  1.64it/s]\n",
      " 50%|█████     | 4/8 [00:02<00:02,  1.73it/s]]"
     ]
    },
    {
     "name": "stdout",
     "output_type": "stream",
     "text": [
      "File not found!\n"
     ]
    },
    {
     "name": "stderr",
     "output_type": "stream",
     "text": [
      " 75%|███████▌  | 3/4 [00:02<00:00,  1.51it/s]]"
     ]
    },
    {
     "name": "stdout",
     "output_type": "stream",
     "text": [
      "File not found!\n"
     ]
    },
    {
     "name": "stderr",
     "output_type": "stream",
     "text": [
      " 29%|██▊       | 6/21 [00:03<00:08,  1.85it/s]"
     ]
    },
    {
     "name": "stdout",
     "output_type": "stream",
     "text": [
      "File not found!\n"
     ]
    },
    {
     "name": "stderr",
     "output_type": "stream",
     "text": [
      " 14%|█▍        | 8/56 [00:03<00:25,  1.86it/s]]\n",
      " 71%|███████▏  | 5/7 [00:02<00:01,  1.67it/s]]]\n",
      "\n",
      "  6%|▌         | 5/83 [00:02<00:44,  1.77it/s]]\n",
      "\n",
      "  0%|          | 0/2 [00:00<?, ?it/s]1.61it/s]]\n",
      " 47%|████▋     | 9/19 [00:04<00:06,  1.54it/s]]\n",
      "100%|██████████| 5/5 [00:03<00:00,  1.48it/s]]]\n",
      " 75%|███████▌  | 6/8 [00:03<00:01,  1.50it/s]]\n",
      "100%|██████████| 1/1 [00:00<00:00,  1.21it/s]]\n",
      " 22%|██▏       | 2/9 [00:01<00:05,  1.33it/s]]"
     ]
    },
    {
     "name": "stdout",
     "output_type": "stream",
     "text": [
      "File not found!\n"
     ]
    },
    {
     "name": "stderr",
     "output_type": "stream",
     "text": [
      "  8%|▊         | 2/26 [00:01<00:16,  1.44it/s]\n",
      " 75%|███████▌  | 6/8 [00:03<00:01,  1.43it/s]]]"
     ]
    },
    {
     "name": "stdout",
     "output_type": "stream",
     "text": [
      "File not found!\n"
     ]
    },
    {
     "name": "stderr",
     "output_type": "stream",
     "text": [
      "  0%|          | 0/4 [00:00<?, ?it/s]1.36it/s]]\n",
      " 50%|█████     | 2/4 [00:01<00:01,  1.28it/s]s]]"
     ]
    },
    {
     "name": "stdout",
     "output_type": "stream",
     "text": [
      "File not found!\n"
     ]
    },
    {
     "name": "stderr",
     "output_type": "stream",
     "text": [
      " 38%|███▊      | 5/13 [00:03<00:05,  1.49it/s]]\n",
      " 12%|█▏        | 5/41 [00:03<00:26,  1.36it/s]]\n",
      " 16%|█▌        | 4/25 [00:02<00:15,  1.37it/s]]\n",
      " 18%|█▊        | 4/22 [00:02<00:13,  1.36it/s]]"
     ]
    },
    {
     "name": "stdout",
     "output_type": "stream",
     "text": [
      "File not found!\n"
     ]
    },
    {
     "name": "stderr",
     "output_type": "stream",
     "text": [
      " 39%|███▊      | 12/31 [00:06<00:14,  1.34it/s]"
     ]
    },
    {
     "name": "stdout",
     "output_type": "stream",
     "text": [
      "File not found!\n"
     ]
    },
    {
     "name": "stderr",
     "output_type": "stream",
     "text": [
      "  3%|▎         | 2/69 [00:01<00:52,  1.27it/s]\n",
      "  0%|          | 0/1 [00:00<?, ?it/s].29it/s]]s]"
     ]
    },
    {
     "name": "stdout",
     "output_type": "stream",
     "text": [
      "File not found!\n"
     ]
    },
    {
     "name": "stderr",
     "output_type": "stream",
     "text": [
      " 50%|█████     | 3/6 [00:02<00:02,  1.22it/s]]"
     ]
    },
    {
     "name": "stdout",
     "output_type": "stream",
     "text": [
      "File not found!\n"
     ]
    },
    {
     "name": "stderr",
     "output_type": "stream",
     "text": [
      " 15%|█▌        | 6/40 [00:04<00:25,  1.34it/s]]"
     ]
    },
    {
     "name": "stdout",
     "output_type": "stream",
     "text": [
      "File not found!\n"
     ]
    },
    {
     "name": "stderr",
     "output_type": "stream",
     "text": [
      " 50%|█████     | 11/22 [00:06<00:08,  1.30it/s]\n",
      "100%|██████████| 3/3 [00:01<00:00,  1.74it/s]\n",
      " 13%|█▎        | 2/15 [00:01<00:11,  1.17it/s]]\n",
      " 41%|████      | 7/17 [00:05<00:08,  1.24it/s]]\n",
      " 17%|█▋        | 5/29 [00:03<00:18,  1.28it/s]]\n",
      " 48%|████▊     | 10/21 [00:06<00:08,  1.36it/s]\n",
      " 58%|█████▊    | 7/12 [00:04<00:03,  1.31it/s]]"
     ]
    },
    {
     "name": "stdout",
     "output_type": "stream",
     "text": [
      "File not found!\n"
     ]
    },
    {
     "name": "stderr",
     "output_type": "stream",
     "text": [
      " 62%|██████▎   | 5/8 [00:01<00:01,  2.01it/s]\n",
      " 43%|████▎     | 9/21 [00:06<00:09,  1.28it/s]\n",
      " 25%|██▌       | 5/20 [00:04<00:12,  1.18it/s]"
     ]
    },
    {
     "name": "stdout",
     "output_type": "stream",
     "text": [
      "File not found!\n"
     ]
    },
    {
     "name": "stderr",
     "output_type": "stream",
     "text": [
      "  4%|▍         | 3/69 [00:02<00:56,  1.16it/s]]]\n",
      " 43%|████▎     | 3/7 [00:02<00:03,  1.12it/s]\n",
      " 88%|████████▊ | 14/16 [00:07<00:01,  1.17it/s]\n",
      "  0%|          | 0/1 [00:00<?, ?it/s].08it/s]s]"
     ]
    },
    {
     "name": "stdout",
     "output_type": "stream",
     "text": [
      "File not found!\n"
     ]
    },
    {
     "name": "stderr",
     "output_type": "stream",
     "text": [
      " 53%|█████▎    | 9/17 [00:06<00:06,  1.29it/s]\n",
      " 37%|███▋      | 13/35 [00:07<00:17,  1.25it/s]\n",
      "\n",
      "  0%|          | 0/1 [00:00<?, ?it/s]1.22it/s]]\n",
      " 23%|██▎       | 13/56 [00:07<00:32,  1.31it/s]\n",
      "  4%|▍         | 2/45 [00:01<00:37,  1.15it/s]\n",
      " 75%|███████▌  | 3/4 [00:02<00:00,  1.16it/s]s]"
     ]
    },
    {
     "name": "stdout",
     "output_type": "stream",
     "text": [
      "File not found!\n"
     ]
    },
    {
     "name": "stderr",
     "output_type": "stream",
     "text": [
      "  6%|▌         | 4/69 [00:03<00:54,  1.19it/s]s]"
     ]
    },
    {
     "name": "stdout",
     "output_type": "stream",
     "text": [
      "File not found!\n"
     ]
    },
    {
     "name": "stderr",
     "output_type": "stream",
     "text": [
      " 50%|█████     | 8/16 [00:05<00:06,  1.26it/s]\n",
      " 59%|█████▉    | 13/22 [00:08<00:07,  1.27it/s]\n",
      " 64%|██████▎   | 7/11 [00:05<00:03,  1.18it/s]]\n",
      "  0%|          | 0/4 [00:00<?, ?it/s]1.24it/s]]\n",
      "100%|██████████| 4/4 [00:03<00:00,  1.12it/s]]\n",
      " 69%|██████▉   | 9/13 [00:06<00:03,  1.14it/s]]\n",
      "100%|██████████| 2/2 [00:01<00:00,  1.13it/s]s]\n",
      " 33%|███▎      | 13/39 [00:08<00:21,  1.23it/s]\n",
      " 69%|██████▉   | 9/13 [00:07<00:03,  1.15it/s]]"
     ]
    },
    {
     "name": "stdout",
     "output_type": "stream",
     "text": [
      "File not found!\n"
     ]
    },
    {
     "name": "stderr",
     "output_type": "stream",
     "text": [
      "  4%|▍         | 1/25 [00:00<00:20,  1.18it/s]]]"
     ]
    },
    {
     "name": "stdout",
     "output_type": "stream",
     "text": [
      "File not found!\n"
     ]
    },
    {
     "name": "stderr",
     "output_type": "stream",
     "text": [
      " 13%|█▎        | 2/15 [00:01<00:10,  1.21it/s]\n",
      "100%|██████████| 6/6 [00:05<00:00,  1.14it/s]]]\n",
      "  0%|          | 0/57 [00:00<?, ?it/s]\n",
      "  4%|▍         | 1/24 [00:00<00:19,  1.17it/s]\n",
      "100%|██████████| 2/2 [00:00<00:00, 10.40it/s]]\n",
      "  0%|          | 0/3 [00:00<?, ?it/s].09it/s]\n",
      "  0%|          | 0/1 [00:00<?, ?it/s]1.34it/s]]\n",
      "100%|██████████| 1/1 [00:01<00:00,  1.00s/it]]]\n",
      " 38%|███▊      | 8/21 [00:06<00:11,  1.11it/s]]\n",
      " 40%|████      | 8/20 [00:07<00:10,  1.12it/s]]\n",
      "  0%|          | 0/26 [00:00<?, ?it/s]1.14it/s]\n",
      " 71%|███████   | 17/24 [00:10<00:06,  1.11it/s]]\n",
      " 92%|█████████▏| 12/13 [00:09<00:00,  1.15it/s]\n",
      "100%|██████████| 14/14 [00:10<00:00,  1.37it/s]\n",
      "\n",
      " 67%|██████▋   | 6/9 [00:05<00:02,  1.12it/s]]]\n",
      " 94%|█████████▍| 17/18 [00:10<00:00,  1.05it/s]\n",
      " 44%|████▍     | 16/36 [00:10<00:17,  1.13it/s]\n",
      "  0%|          | 0/11 [00:00<?, ?it/s].11it/s]]\n",
      " 33%|███▎      | 4/12 [00:03<00:07,  1.13it/s]]]\n",
      "100%|██████████| 13/13 [00:09<00:00,  1.30it/s]\n",
      "\n"
     ]
    },
    {
     "name": "stdout",
     "output_type": "stream",
     "text": [
      "File not found!\n"
     ]
    },
    {
     "name": "stderr",
     "output_type": "stream",
     "text": [
      "  6%|▌         | 1/17 [00:01<00:16,  1.01s/it]]"
     ]
    },
    {
     "name": "stdout",
     "output_type": "stream",
     "text": [
      "File not found!\n"
     ]
    },
    {
     "name": "stderr",
     "output_type": "stream",
     "text": [
      " 25%|██▌       | 5/20 [00:04<00:13,  1.08it/s]]\n",
      " 11%|█         | 1/9 [00:01<00:08,  1.07s/it]s]\n",
      " 22%|██▏       | 4/18 [00:04<00:14,  1.00s/it]]\n",
      " 45%|████▌     | 10/22 [00:08<00:11,  1.04it/s]]\n",
      " 58%|█████▊    | 18/31 [00:12<00:11,  1.10it/s]\n",
      " 14%|█▍        | 1/7 [00:00<00:05,  1.14it/s]]]\n",
      " 71%|███████   | 12/17 [00:10<00:05,  1.01s/it]\n",
      " 86%|████████▌ | 6/7 [00:05<00:01,  1.00s/it]]]\n",
      " 52%|█████▏    | 11/21 [00:09<00:09,  1.03it/s]\n",
      "  0%|          | 0/10 [00:00<?, ?it/s]1.03it/s]\n",
      "100%|██████████| 13/13 [00:11<00:00,  1.02s/it]\n",
      " 71%|███████▏  | 5/7 [00:04<00:01,  1.05it/s]]]"
     ]
    },
    {
     "name": "stdout",
     "output_type": "stream",
     "text": [
      "File not found!\n"
     ]
    },
    {
     "name": "stderr",
     "output_type": "stream",
     "text": [
      " 55%|█████▍    | 12/22 [00:10<00:10,  1.02s/it]\n",
      " 13%|█▎        | 9/69 [00:08<00:56,  1.05it/s]]"
     ]
    },
    {
     "name": "stdout",
     "output_type": "stream",
     "text": [
      "File not found!\n"
     ]
    },
    {
     "name": "stderr",
     "output_type": "stream",
     "text": [
      " 59%|█████▉    | 13/22 [00:11<00:08,  1.07it/s]\n",
      "  0%|          | 0/49 [00:00<?, ?it/s].06it/s]]]\n",
      "  8%|▊         | 1/12 [00:01<00:11,  1.06s/it]\n",
      " 82%|████████▏ | 18/22 [00:13<00:04,  1.02s/it]\n",
      " 17%|█▋        | 1/6 [00:01<00:05,  1.04s/it]]]\n",
      " 30%|███       | 3/10 [00:03<00:07,  1.03s/it]\n",
      " 26%|██▋       | 14/53 [00:11<00:39,  1.00s/it]\n",
      " 57%|█████▋    | 12/21 [00:10<00:08,  1.00it/s]\n",
      " 86%|████████▌ | 6/7 [00:05<00:00,  1.02it/s]]]\n",
      " 64%|██████▎   | 14/22 [00:12<00:08,  1.01s/it]\n",
      "  0%|          | 0/5 [00:00<?, ?it/s]1.01it/s]\n",
      " 43%|████▎     | 3/7 [00:02<00:03,  1.04it/s]it]\n",
      " 27%|██▋       | 3/11 [00:03<00:08,  1.06s/it]]\n",
      " 82%|████████▏ | 14/17 [00:12<00:03,  1.09s/it]\n",
      " 67%|██████▋   | 4/6 [00:04<00:02,  1.01s/it]s]\n",
      " 62%|██████▏   | 13/21 [00:11<00:08,  1.01s/it]\n",
      " 40%|███▉      | 21/53 [00:15<00:33,  1.04s/it]\n",
      " 92%|█████████▏| 22/24 [00:15<00:01,  1.02it/s]\n",
      " 19%|█▉        | 5/26 [00:05<00:22,  1.06s/it]]]\n",
      " 67%|██████▋   | 8/12 [00:07<00:04,  1.04s/it]]\n",
      "100%|██████████| 8/8 [00:07<00:00,  1.03it/s]t]\n",
      " 58%|█████▊    | 21/36 [00:15<00:15,  1.00s/it]\n",
      "  9%|▊         | 4/46 [00:04<00:46,  1.10s/it]]"
     ]
    },
    {
     "name": "stdout",
     "output_type": "stream",
     "text": [
      "File not found!\n"
     ]
    },
    {
     "name": "stderr",
     "output_type": "stream",
     "text": [
      " 64%|██████▎   | 14/22 [00:12<00:08,  1.04s/it]\n",
      " 45%|████▌     | 5/11 [00:05<00:06,  1.03s/it]]\n",
      "  0%|          | 0/9 [00:00<?, ?it/s].11s/it]]]]\n",
      " 29%|██▉       | 5/17 [00:05<00:12,  1.04s/it]]\n",
      " 86%|████████▌ | 18/21 [00:16<00:03,  1.12s/it]\n",
      "  0%|          | 0/15 [00:00<?, ?it/s].01s/it]\n",
      " 11%|█         | 5/47 [00:05<00:42,  1.01s/it]]\n",
      " 55%|█████▍    | 6/11 [00:06<00:05,  1.07s/it]]\n",
      " 16%|█▌        | 5/32 [00:05<00:29,  1.09s/it]]\n",
      " 45%|████▌     | 9/20 [00:09<00:12,  1.15s/it]]\n",
      " 13%|█▎        | 7/53 [00:07<00:49,  1.08s/it]]\n",
      " 33%|███▎      | 2/6 [00:02<00:04,  1.09s/it]t]]"
     ]
    },
    {
     "name": "stdout",
     "output_type": "stream",
     "text": [
      "File not found!\n"
     ]
    },
    {
     "name": "stderr",
     "output_type": "stream",
     "text": [
      " 67%|██████▋   | 2/3 [00:02<00:01,  1.05s/it]]]\n",
      " 11%|█         | 1/9 [00:01<00:08,  1.05s/it]s]\n",
      " 37%|███▋      | 19/52 [00:16<00:33,  1.03s/it]\n",
      "\n",
      "100%|██████████| 22/22 [00:18<00:00,  1.22it/s]\n",
      "100%|██████████| 2/2 [00:02<00:00,  1.17s/it]"
     ]
    },
    {
     "name": "stdout",
     "output_type": "stream",
     "text": [
      "File not found!\n"
     ]
    },
    {
     "name": "stderr",
     "output_type": "stream",
     "text": [
      "100%|██████████| 17/17 [00:16<00:00,  1.03it/s]\n",
      " 25%|██▌       | 1/4 [00:01<00:03,  1.01s/it]t]\n",
      " 21%|██        | 4/19 [00:04<00:15,  1.04s/it]\n",
      "\n",
      " 29%|██▊       | 2/7 [00:02<00:05,  1.15s/it]]]\n",
      " 56%|█████▌    | 10/18 [00:10<00:08,  1.11s/it]\n",
      "  0%|          | 0/2 [00:00<?, ?it/s] 1.10s/it]\n",
      " 77%|███████▋  | 24/31 [00:18<00:07,  1.09s/it]\n",
      " 62%|██████▏   | 8/13 [00:08<00:05,  1.15s/it]]\n",
      "100%|██████████| 9/9 [00:09<00:00,  1.12s/it]]]]\n",
      " 59%|█████▉    | 23/39 [00:18<00:16,  1.06s/it]\n",
      "100%|██████████| 6/6 [00:06<00:00,  1.10s/it]t]\n",
      " 67%|██████▋   | 24/36 [00:19<00:12,  1.04s/it]\n",
      " 46%|████▌     | 11/24 [00:10<00:13,  1.05s/it]\n",
      " 44%|████▍     | 11/25 [00:10<00:14,  1.05s/it]\n",
      " 13%|█▎        | 2/15 [00:02<00:13,  1.08s/it]]\n",
      " 95%|█████████▍| 18/19 [00:16<00:01,  1.14s/it]\n",
      " 50%|█████     | 2/4 [00:02<00:02,  1.04s/it]]]\n",
      " 86%|████████▋ | 19/22 [00:17<00:03,  1.11s/it]\n",
      " 73%|███████▎  | 8/11 [00:08<00:03,  1.12s/it]]\n",
      " 35%|███▍      | 9/26 [00:09<00:18,  1.11s/it]\n",
      "100%|██████████| 5/5 [00:05<00:00,  1.09s/it]]]]\n",
      " 86%|████████▌ | 18/21 [00:17<00:03,  1.04s/it]\n",
      " 91%|█████████▏| 21/23 [00:18<00:02,  1.13s/it]\n",
      " 69%|██████▉   | 25/36 [00:20<00:11,  1.03s/it]\n",
      " 58%|█████▊    | 7/12 [00:07<00:05,  1.13s/it]]\n",
      " 49%|████▉     | 26/53 [00:20<00:29,  1.08s/it]\n",
      " 72%|███████▏  | 18/25 [00:17<00:07,  1.14s/it]\n",
      " 93%|█████████▎| 14/15 [00:13<00:01,  1.12s/it]\n",
      " 25%|██▌       | 8/32 [00:08<00:26,  1.10s/it]]\n",
      " 75%|███████▌  | 12/16 [00:12<00:04,  1.06s/it]"
     ]
    },
    {
     "name": "stdout",
     "output_type": "stream",
     "text": [
      "File not found!\n"
     ]
    },
    {
     "name": "stderr",
     "output_type": "stream",
     "text": [
      " 25%|██▌       | 21/83 [00:19<01:10,  1.14s/it]\n",
      " 82%|████████▏ | 9/11 [00:09<00:02,  1.13s/it]]\n",
      " 84%|████████▍ | 26/31 [00:20<00:05,  1.12s/it]]\n",
      " 19%|█▉        | 11/57 [00:11<00:49,  1.09s/it]"
     ]
    },
    {
     "name": "stdout",
     "output_type": "stream",
     "text": [
      "File not found!\n"
     ]
    },
    {
     "name": "stderr",
     "output_type": "stream",
     "text": [
      " 77%|███████▋  | 10/13 [00:11<00:03,  1.16s/it]\n",
      "  8%|▊         | 1/13 [00:01<00:12,  1.01s/it]]\n",
      " 67%|██████▋   | 4/6 [00:04<00:02,  1.10s/it]t]\n",
      "100%|██████████| 6/6 [00:06<00:00,  1.11s/it]t]\n",
      " 42%|████▏     | 22/52 [00:19<00:31,  1.03s/it]\n",
      " 37%|███▋      | 7/19 [00:07<00:12,  1.02s/it]]\n",
      "\n",
      " 54%|█████▍    | 7/13 [00:07<00:06,  1.08s/it]]\n",
      " 62%|██████▎   | 10/16 [00:11<00:06,  1.16s/it]\n",
      " 25%|██▍       | 17/69 [00:16<00:56,  1.09s/it]\n",
      "100%|██████████| 4/4 [00:04<00:00,  1.10s/it]t]\n",
      " 72%|███████▏  | 13/18 [00:13<00:05,  1.08s/it]\n",
      " 77%|███████▋  | 27/35 [00:21<00:08,  1.03s/it]]"
     ]
    },
    {
     "name": "stdout",
     "output_type": "stream",
     "text": [
      "File not found!\n"
     ]
    },
    {
     "name": "stderr",
     "output_type": "stream",
     "text": [
      " 16%|█▋        | 8/49 [00:08<00:43,  1.06s/it]]\n",
      "100%|██████████| 1/1 [00:01<00:00,  1.12s/it]t]\n",
      "\n",
      " 44%|████▍     | 23/52 [00:20<00:29,  1.02s/it]\n",
      "  0%|          | 0/39 [00:00<?, ?it/s]1.04s/it]\n",
      "  8%|▊         | 1/13 [00:00<00:11,  1.01it/s]\n",
      " 56%|█████▌    | 14/25 [00:14<00:11,  1.04s/it]\n",
      " 88%|████████▊ | 14/16 [00:14<00:02,  1.02s/it]\n",
      " 80%|████████  | 28/35 [00:22<00:07,  1.01s/it]]\n",
      " 53%|█████▎    | 18/34 [00:16<00:14,  1.07it/s]\n",
      " 77%|███████▋  | 20/26 [00:19<00:05,  1.04it/s]\n",
      " 78%|███████▊  | 28/36 [00:23<00:07,  1.01it/s]"
     ]
    },
    {
     "name": "stdout",
     "output_type": "stream",
     "text": [
      "File not found!\n"
     ]
    },
    {
     "name": "stderr",
     "output_type": "stream",
     "text": [
      "\n",
      " 50%|█████     | 28/56 [00:23<00:29,  1.06s/it]\n",
      "100%|██████████| 6/6 [00:06<00:00,  1.04s/it]\n",
      "100%|██████████| 6/6 [00:06<00:00,  1.08s/it]t]\n",
      " 94%|█████████▍| 16/17 [00:17<00:01,  1.14s/it]\n",
      " 40%|████      | 6/15 [00:06<00:09,  1.00s/it]]\n",
      " 24%|██▎       | 4/17 [00:04<00:13,  1.00s/it]\n",
      "  0%|          | 0/1 [00:00<?, ?it/s] 1.07s/it]\n",
      " 10%|▉         | 2/21 [00:01<00:18,  1.02it/s]]]\n",
      " 50%|█████     | 13/26 [00:13<00:13,  1.03s/it]\n",
      " 60%|██████    | 6/10 [00:06<00:04,  1.03s/it]]\n",
      "  0%|          | 0/3 [00:00<?, ?it/s] 1.03s/it]\n",
      " 20%|██        | 10/49 [00:10<00:40,  1.04s/it]\n",
      "100%|██████████| 3/3 [00:02<00:00,  1.08it/s]t]"
     ]
    },
    {
     "name": "stdout",
     "output_type": "stream",
     "text": [
      "File not found!\n"
     ]
    },
    {
     "name": "stderr",
     "output_type": "stream",
     "text": [
      "\n",
      " 31%|███       | 4/13 [00:04<00:09,  1.02s/it]]\n"
     ]
    },
    {
     "name": "stdout",
     "output_type": "stream",
     "text": [
      "File not found!\n"
     ]
    },
    {
     "name": "stderr",
     "output_type": "stream",
     "text": [
      " 29%|██▉       | 5/17 [00:05<00:12,  1.02s/it]]\n",
      "  6%|▋         | 2/32 [00:01<00:27,  1.10it/s]\n",
      "  0%|          | 0/11 [00:00<?, ?it/s]10it/s]]]\n",
      " 85%|████████▌ | 17/20 [00:17<00:03,  1.05s/it]\n",
      " 57%|█████▊    | 23/40 [00:22<00:17,  1.04s/it]]\n",
      " 14%|█▍        | 3/21 [00:02<00:17,  1.05it/s]]\n",
      " 54%|█████▎    | 30/56 [00:24<00:25,  1.02it/s]\n",
      " 59%|█████▉    | 19/32 [00:18<00:12,  1.07it/s]\n",
      " 58%|█████▊    | 31/53 [00:25<00:22,  1.02s/it]\n",
      " 59%|█████▉    | 19/32 [00:19<00:13,  1.01s/it]]\n",
      "  0%|          | 0/1 [00:00<?, ?it/s].02s/it]]]\n",
      "100%|██████████| 17/17 [00:17<00:00,  1.02s/it]\n",
      " 18%|█▊        | 2/11 [00:01<00:08,  1.08it/s]]\n",
      " 86%|████████▌ | 6/7 [00:05<00:00,  1.06it/s]\n",
      " 39%|███▉      | 27/69 [00:25<00:40,  1.04it/s]\n",
      "\n",
      " 30%|███       | 14/46 [00:15<00:34,  1.07s/it]]\n",
      " 68%|██████▊   | 13/19 [00:13<00:05,  1.00it/s]\n",
      " 16%|█▌        | 3/19 [00:02<00:13,  1.18it/s]]\n",
      " 70%|███████   | 7/10 [00:06<00:02,  1.10it/s]]\n",
      " 50%|█████     | 4/8 [00:03<00:03,  1.07it/s]t]\n",
      " 86%|████████▋ | 32/37 [00:27<00:05,  1.09s/it]\n",
      "100%|██████████| 20/20 [00:20<00:00,  1.04s/it]\n",
      " 50%|█████     | 3/6 [00:02<00:02,  1.06it/s]t]\n",
      "100%|██████████| 25/25 [00:24<00:00,  1.01it/s]\n",
      "100%|██████████| 1/1 [00:01<00:00,  1.03s/it]t]]\n",
      " 34%|███▎      | 28/83 [00:26<00:57,  1.05s/it]\n",
      " 26%|██▌       | 6/23 [00:06<00:17,  1.04s/it]]\n",
      " 10%|▉         | 6/63 [00:05<00:56,  1.01it/s]\n",
      " 74%|███████▎  | 14/19 [00:13<00:04,  1.03it/s]\n",
      " 69%|██████▉   | 22/32 [00:21<00:09,  1.03it/s]\n",
      "  5%|▍         | 3/61 [00:02<00:53,  1.08it/s]\n",
      " 59%|█████▉    | 16/27 [00:16<00:10,  1.04it/s]\n",
      " 23%|██▎       | 3/13 [00:02<00:09,  1.09it/s]]\n",
      " 40%|████      | 10/25 [00:09<00:14,  1.01it/s]\n",
      " 71%|███████   | 24/34 [00:22<00:09,  1.04it/s]\n",
      " 30%|███       | 3/10 [00:03<00:07,  1.01s/it]]]\n",
      "100%|██████████| 20/20 [00:21<00:00,  1.06s/it]\n",
      " 45%|████▌     | 5/11 [00:04<00:05,  1.13it/s]]\n",
      "100%|██████████| 15/15 [00:16<00:00,  1.03s/it]\n",
      " 36%|███▌      | 25/69 [00:24<00:39,  1.11it/s]\n",
      " 25%|██▌       | 3/12 [00:02<00:08,  1.01it/s]]\n",
      " 75%|███████▌  | 12/16 [00:12<00:03,  1.03it/s]]\n",
      " 40%|████      | 4/10 [00:03<00:05,  1.14it/s]]\n",
      " 55%|█████▍    | 6/11 [00:05<00:04,  1.15it/s]]"
     ]
    },
    {
     "name": "stdout",
     "output_type": "stream",
     "text": [
      "File not found!\n"
     ]
    },
    {
     "name": "stderr",
     "output_type": "stream",
     "text": [
      " 45%|████▍     | 31/69 [00:28<00:33,  1.14it/s]\n",
      " 67%|██████▋   | 6/9 [00:05<00:02,  1.18it/s]]]\n",
      "100%|██████████| 19/19 [00:17<00:00,  1.11it/s]\n",
      "100%|██████████| 10/10 [00:09<00:00,  1.03it/s]]\n",
      " 78%|███████▊  | 25/32 [00:24<00:05,  1.17it/s]\n",
      " 56%|█████▋    | 18/32 [00:18<00:12,  1.09it/s]\n",
      " 38%|███▊      | 20/53 [00:20<00:30,  1.08it/s]\n",
      " 85%|████████▍ | 11/13 [00:10<00:01,  1.13it/s]\n",
      " 48%|████▊     | 10/21 [00:09<00:09,  1.19it/s]\n",
      " 75%|███████▌  | 30/40 [00:28<00:08,  1.21it/s]\n",
      " 39%|███▊      | 32/83 [00:29<00:43,  1.18it/s]]\n",
      " 33%|███▎      | 8/24 [00:06<00:12,  1.23it/s]]\n",
      " 27%|██▋       | 6/22 [00:05<00:13,  1.20it/s]]\n",
      " 76%|███████▋  | 13/17 [00:12<00:03,  1.18it/s]\n",
      "\n",
      " 42%|████▏     | 22/53 [00:21<00:24,  1.25it/s]]\n",
      " 39%|███▉      | 19/49 [00:18<00:25,  1.19it/s]"
     ]
    },
    {
     "name": "stdout",
     "output_type": "stream",
     "text": [
      "File not found!\n"
     ]
    },
    {
     "name": "stderr",
     "output_type": "stream",
     "text": [
      " 57%|█████▋    | 12/21 [00:10<00:06,  1.30it/s]\n",
      " 71%|███████▏  | 40/56 [00:32<00:11,  1.34it/s]\n",
      " 67%|██████▋   | 8/12 [00:06<00:02,  1.35it/s]]\n"
     ]
    },
    {
     "name": "stdout",
     "output_type": "stream",
     "text": [
      "File not found!\n"
     ]
    },
    {
     "name": "stderr",
     "output_type": "stream",
     "text": [
      " 62%|██████▏   | 13/21 [00:11<00:05,  1.44it/s]]"
     ]
    },
    {
     "name": "stdout",
     "output_type": "stream",
     "text": [
      "File not found!\n"
     ]
    },
    {
     "name": "stderr",
     "output_type": "stream",
     "text": [
      " 80%|████████  | 8/10 [00:06<00:01,  1.29it/s]]\n",
      " 41%|████      | 13/32 [00:10<00:12,  1.47it/s]]\n",
      " 39%|███▊      | 12/31 [00:10<00:13,  1.36it/s]\n",
      "\n",
      " 44%|████▍     | 25/57 [00:24<00:23,  1.39it/s]\n",
      " 77%|███████▋  | 43/56 [00:33<00:07,  1.77it/s]\n",
      " 67%|██████▋   | 14/21 [00:11<00:04,  1.53it/s]]\n",
      " 92%|█████████▏| 11/12 [00:08<00:00,  1.68it/s]"
     ]
    },
    {
     "name": "stdout",
     "output_type": "stream",
     "text": [
      "File not found!\n"
     ]
    },
    {
     "name": "stderr",
     "output_type": "stream",
     "text": [
      " 45%|████▍     | 22/49 [00:20<00:18,  1.43it/s]\n",
      " 79%|███████▉  | 42/53 [00:34<00:06,  1.60it/s]\n",
      " 47%|████▋     | 15/32 [00:11<00:09,  1.71it/s]\n",
      "100%|██████████| 10/10 [00:08<00:00,  1.39it/s]\n",
      " 83%|████████▎ | 10/12 [00:07<00:01,  1.50it/s]\n",
      " 75%|███████▌  | 24/32 [00:22<00:05,  1.53it/s]\n",
      " 81%|████████  | 43/53 [00:34<00:06,  1.66it/s]]\n",
      "100%|██████████| 26/26 [00:24<00:00,  1.62it/s]\n",
      " 41%|████      | 16/39 [00:12<00:12,  1.81it/s]\n",
      " 82%|████████▏ | 46/56 [00:34<00:05,  1.89it/s]\n",
      " 96%|█████████▋| 26/27 [00:23<00:00,  1.64it/s]]\n",
      " 43%|████▎     | 27/63 [00:23<00:20,  1.78it/s]\n",
      " 52%|█████▏    | 16/31 [00:12<00:07,  1.88it/s]\n",
      "100%|██████████| 32/32 [00:29<00:00,  1.09it/s]]\n",
      " 78%|███████▊  | 18/23 [00:13<00:02,  2.23it/s]\n",
      " 58%|█████▊    | 19/33 [00:13<00:06,  2.24it/s]]\n",
      "\n",
      " 91%|█████████ | 48/53 [00:36<00:02,  2.22it/s]\n",
      "100%|██████████| 25/25 [00:18<00:00,  1.36it/s]\n",
      " 28%|██▊       | 22/78 [00:17<00:28,  2.00it/s]\n",
      " 51%|█████     | 32/63 [00:25<00:12,  2.57it/s]]\n",
      " 82%|████████▏ | 18/22 [00:11<00:01,  2.49it/s]]\n",
      "\n",
      " 91%|█████████ | 20/22 [00:11<00:00,  2.94it/s]]"
     ]
    },
    {
     "name": "stdout",
     "output_type": "stream",
     "text": [
      "File not found!\n"
     ]
    },
    {
     "name": "stderr",
     "output_type": "stream",
     "text": [
      " 38%|███▊      | 24/63 [00:16<00:16,  2.40it/s]\n",
      " 87%|████████▋ | 46/53 [00:36<00:02,  2.48it/s]\n",
      "100%|██████████| 53/53 [00:38<00:00,  1.37it/s]]"
     ]
    },
    {
     "name": "stdout",
     "output_type": "stream",
     "text": [
      "File not found!\n"
     ]
    },
    {
     "name": "stderr",
     "output_type": "stream",
     "text": [
      " 95%|█████████▍| 53/56 [00:38<00:01,  2.99it/s]\n",
      "100%|██████████| 56/56 [00:38<00:00,  1.45it/s]\n",
      "\n",
      " 79%|███████▊  | 37/47 [00:26<00:03,  2.91it/s]]\n",
      " 69%|██████▉   | 34/49 [00:25<00:04,  3.03it/s]\n",
      "100%|██████████| 26/26 [00:14<00:00,  1.77it/s]\n",
      " 74%|███████▍  | 51/69 [00:37<00:05,  3.20it/s]]\n",
      " 74%|███████▍  | 29/39 [00:16<00:02,  3.58it/s]]\n",
      " 85%|████████▌ | 40/47 [00:27<00:01,  3.72it/s]\n",
      " 96%|█████████▌| 51/53 [00:37<00:00,  3.50it/s]]\n",
      " 67%|██████▋   | 42/63 [00:28<00:05,  3.73it/s]]\n",
      " 87%|████████▋ | 40/46 [00:28<00:01,  4.28it/s]\n",
      "100%|██████████| 53/53 [00:38<00:00,  1.39it/s]]\n",
      "100%|██████████| 33/33 [00:17<00:00,  1.90it/s]]\n",
      "100%|██████████| 47/47 [00:28<00:00,  1.64it/s]]\n",
      "100%|██████████| 46/46 [00:29<00:00,  1.57it/s]]\n",
      "100%|██████████| 39/39 [00:18<00:00,  2.09it/s]]\n",
      "100%|██████████| 53/53 [00:31<00:00,  1.69it/s]]\n",
      "100%|██████████| 49/49 [00:28<00:00,  1.74it/s]]\n",
      "100%|██████████| 69/69 [00:40<00:00,  1.71it/s]]\n",
      "100%|██████████| 57/57 [00:32<00:00,  1.74it/s]]\n",
      "100%|██████████| 69/69 [00:37<00:00,  1.83it/s]]\n",
      "100%|██████████| 63/63 [00:31<00:00,  2.01it/s]]\n",
      "100%|██████████| 83/83 [00:41<00:00,  1.99it/s]]\n",
      "100%|██████████| 61/61 [00:18<00:00,  3.32it/s]]\n",
      "100%|██████████| 63/63 [00:21<00:00,  2.92it/s]\n",
      "100%|██████████| 78/78 [00:24<00:00,  3.14it/s]]\n",
      "100%|██████████| 152/152 [00:49<00:00,  3.09it/s]\n"
     ]
    }
   ],
   "source": [
    "import os, time\n",
    "import numpy as np\n",
    "import pandas as pd\n",
    "import config.hyperparams as hp\n",
    "from tqdm.notebook import trange, tqdm\n",
    "from entities.solver_process import SolverProcess  \n",
    "from lib.common import disarrange\n",
    "import powerlaw\n",
    "import matplotlib.pyplot as plt\n",
    "import seaborn as sns\n",
    "import datetime as dt\n",
    "from multiprocessing import Queue\n",
    "from lib import wlanlrz_loader, rtt_matrix_loader, inference_loader, solver\n",
    "\n",
    "### WLAN-LRZ AP Data Loader ####\n",
    "desc = wlanlrz_loader.load_data_description(hp.AP_DESCR)\n",
    "original_data, coord_dataframe_list, total_ap, original_merged_raw_ap_data = \\\n",
    "wlanlrz_loader.load_data_parallel(hp.BUILDING, desc, mass_load=True)"
   ]
  },
  {
   "cell_type": "code",
   "execution_count": 2,
   "metadata": {},
   "outputs": [],
   "source": [
    "def start_solver(agents, edge_nodes, rtt_matrix, merged_raw_ap_data, cloud_only=False, connection='lte'):\n",
    "    if cloud_only:\n",
    "        env, agents_a, edge_nodes_e, convergence_time, _ = \\\n",
    "            solver.algorithm_cloud(agents, edge_nodes, 5, 4, 100, None, None, rtt_matrix, merged_raw_ap_data, suppress_output=True, connection=connection)\n",
    "    else:\n",
    "        env, agents_a, edge_nodes_e, convergence_time, _ = \\\n",
    "            solver.algorithm_v3(agents, edge_nodes, 5, 4, 100, None, None, rtt_matrix, merged_raw_ap_data, suppress_output=True, connection=connection)\n",
    "\n",
    "    result = (env, agents_a, edge_nodes_e, convergence_time)\n",
    "\n",
    "    if hp.STORE_RESULTS:\n",
    "        env.episodes_tracker[:,:,episode]\n",
    "        np.savetxt(hp.CSV_FOLDER + '/' + str(episode) + '.csv', env.episodes_tracker[:,:,episode], delimiter=',')\n",
    "    \n",
    "    return result\n"
   ]
  },
  {
   "cell_type": "code",
   "execution_count": 3,
   "metadata": {},
   "outputs": [
    {
     "name": "stdout",
     "output_type": "stream",
     "text": [
      "Total APs: 4371\n",
      "Loading rtt matrix from dataset\n"
     ]
    }
   ],
   "source": [
    "from lib.common import generate_agents, generate_edge_nodes\n",
    "\n",
    "T1_RATIO_VEC_ABS = np.array([100])\n",
    "T2_RATIO_VEC_ABS = np.array([50])\n",
    "T3_RATIO_VEC_ABS = np.array([2])\n",
    "\n",
    "target_ma = 1000\n",
    "\n",
    "RESULTS = []\n",
    "\n",
    "print(\"Total APs: {}\".format(total_ap))\n",
    "original_data['timestamp'] = original_data.index\n",
    "\n",
    "data = original_data[(original_data.total >= target_ma) & (original_data.total < (target_ma*1.1))].sample()\n",
    "merged_raw_ap_data = original_merged_raw_ap_data[original_merged_raw_ap_data.index.isin(data.index)]\n",
    "merged_raw_ap_data = merged_raw_ap_data.loc[:, (merged_raw_ap_data > 0).all()]\n",
    "\n",
    "MA = int(data.total)\n",
    "total_ap = len(merged_raw_ap_data.columns)\n",
    "\n",
    "\n",
    "TIER_1_EN = T1_RATIO_VEC_ABS[0]\n",
    "TIER_2_EN = T2_RATIO_VEC_ABS[0]\n",
    "TIER_3_EN = T3_RATIO_VEC_ABS[0]\n",
    "\n",
    "EN_RATIO = (TIER_1_EN, TIER_2_EN, TIER_3_EN)\n",
    "TOTAL_EN = int(TIER_1_EN + TIER_2_EN + TIER_3_EN)\n",
    "\n",
    "if hp.dataset_rtt:\n",
    "    ### LOAD LATENCY MATRIX FROM DATASET ###\n",
    "    print(\"Loading rtt matrix from dataset\")\n",
    "    clf = rtt_matrix_loader.analyze_data(source=hp.dataset_rtt, drange=1000, threshold=250, k=3)\n",
    "    #clf.weights_ = [0.2, 0.2, 0.6]\n",
    "    rtt_matrix = rtt_matrix_loader.generate_data(clf, n=total_ap, m=TOTAL_EN)\n",
    "else:\n",
    "    # Prepare latency matrixes for all the EN classes with increasing latency based on distance from the edge \n",
    "    rtt_matrix_en_t1 = np.round(abs(np.random.normal(1, 0.2, (TIER_1_EN, TIER_1_EN))))\n",
    "    rtt_matrix_en_t2 = np.round(abs(np.random.normal(3, 1, (TIER_1_EN, TIER_2_EN))))\n",
    "    rtt_matrix_en_t3 = np.round(abs(np.random.normal(10, 1, (TIER_1_EN, TIER_3_EN))))\n",
    "\n",
    "    sns.distplot(rtt_matrix_en_t1.flatten(), hist=False, rug=True)\n",
    "    sns.distplot(rtt_matrix_en_t2.flatten(), hist=False, rug=True)\n",
    "    sns.distplot(rtt_matrix_en_t3.flatten(), hist=False, rug=True)\n",
    "\n",
    "    rtt_matrix = np.hstack([rtt_matrix_en_t1, rtt_matrix_en_t2, rtt_matrix_en_t3])\n",
    "    \n",
    "# np.random.shuffle(rtt_matrix)\n",
    "disarrange(rtt_matrix, axis=0)\n",
    "\n",
    "# Manually setting latency for colocated AP/EN\n",
    "for i in range(int(round(TIER_1_EN/1))):\n",
    "    rtt_matrix[i][i] = 1\n",
    "\n",
    "dim = 0\n",
    "iterations = 100"
   ]
  },
  {
   "cell_type": "code",
   "execution_count": 4,
   "metadata": {
    "scrolled": true
   },
   "outputs": [
    {
     "name": "stdout",
     "output_type": "stream",
     "text": [
      "Set: 0\n",
      "Set: 1\n",
      "Set: 2\n",
      "Set: 3\n"
     ]
    }
   ],
   "source": [
    "FPS = [10, 10, 10, 10]\n",
    "k = [0,5,0,0]\n",
    "greed = [False, True, False, False]\n",
    "cloud = [False, False, True, True]\n",
    "alpha = [0.7, 1, 0.7, 0.7]\n",
    "beta = [0.3, 0, 0.3, 0.3]\n",
    "connection = ['wifi', 'wifi', 'wifi', 'lte']\n",
    "RESULT = []\n",
    "\n",
    "for j in range(len(FPS)):\n",
    "    print(\"Set: {}\".format(j))\n",
    "    hp.FPS = np.random.normal(FPS[j], 2, 50)\n",
    "    hp.local_search_scope = k[j]\n",
    "    hp.greedy = greed[j]\n",
    "    hp.alpha = alpha[j]\n",
    "    hp.beta = beta[j]\n",
    "    \n",
    "    for i in range(iterations):\n",
    "        agents = generate_agents(MA, merged_raw_ap_data, dim)\n",
    "        edge_nodes = generate_edge_nodes(EN_RATIO, merged_raw_ap_data, dim)\n",
    "        RESULT.append(start_solver(agents, edge_nodes, rtt_matrix, merged_raw_ap_data, cloud[j], connection[j]))"
   ]
  },
  {
   "cell_type": "code",
   "execution_count": 103,
   "metadata": {
    "scrolled": false
   },
   "outputs": [
    {
     "data": {
      "image/png": "[encoded data removed]",
      "text/plain": [
       "<Figure size 1152x144 with 4 Axes>"
      ]
     },
     "metadata": {
      "needs_background": "light"
     },
     "output_type": "display_data"
    }
   ],
   "source": [
    "from entities.mobile_agent import Offloaded\n",
    "\n",
    "fig, ax = plt.subplots(1, 4, figsize=(16, 2), constrained_layout=False)\n",
    "fig.tight_layout()\n",
    "\n",
    "agents_ls = []\n",
    "list_of_groups2 = zip(*(iter(RESULT),) * iterations)\n",
    "LABELS = [\"Wicker\", \"Greedy\", \"Cloud\", \"Cloud4G\"]\n",
    "\n",
    "lat_list = []\n",
    "conv_list = []\n",
    "df = pd.DataFrame(columns=['Algorithm', 'MA', 'Location'])\n",
    "\n",
    "## Latency\n",
    "for i, gr in enumerate(list_of_groups2):\n",
    "    curr_lat = list(map(lambda a: a.total_latency(), np.concatenate(list(map(lambda z: z[1], gr)))))\n",
    "    \n",
    "    #powerlaw.plot_cdf(data=curr_lat, ax=ax[0], label=label)\n",
    "    sns.distplot(curr_lat, hist=False, ax=ax[0], label=LABELS[i])\n",
    "\n",
    "    lat_list.append(curr_lat)\n",
    "    conv_list.append(np.median(list(map(lambda b: b[3], gr))))\n",
    "    \n",
    "    agents = np.concatenate(list(map(lambda z: z[1], gr))) \n",
    "    \n",
    "    loc = len(list(filter(lambda a: a.offload_target == Offloaded.Local ,agents))) / iterations\n",
    "    edge = len(list(filter(lambda a: a.offload_target == Offloaded.Edge ,agents))) / iterations\n",
    "    cloud = len(list(filter(lambda a: a.offload_target == Offloaded.Cloud ,agents))) / iterations\n",
    "\n",
    "    df = df.append({'Algorithm': LABELS[i], 'MA': loc, 'Location': 'Local'}, ignore_index=True) \\\n",
    "        .append({'Algorithm': LABELS[i], 'MA': edge, 'Location': 'Edge'}, ignore_index=True) \\\n",
    "        .append({'Algorithm': LABELS[i], 'MA': cloud, 'Location': 'Cloud'}, ignore_index=True)\n",
    "    \n",
    "sns.boxplot(x=LABELS, y=lat_list, ax=ax[1])\n",
    "sns.barplot(x=LABELS, y=conv_list, ax=ax[2])\n",
    "g = sns.barplot(x=\"Algorithm\", y=\"MA\", hue=\"Location\", data=df, ax=ax[3])\n",
    "\n",
    "#g.text(2,10,4, color='red', ha=\"center\")\n",
    "\n",
    "ax[0].set_ylabel(\"Density\")\n",
    "ax[0].set_xlabel(\"[ms]\")\n",
    "ax[1].set_ylabel(\"[ms]\")\n",
    "ax[2].set_ylabel(\"[s]\")\n",
    "\n",
    "fig.subplots_adjust(hspace=0.2)\n",
    "fig.savefig(\"../plots/baseline/comparison.pdf\",  bbox_inches=\"tight\")"
   ]
  },
  {
   "cell_type": "code",
   "execution_count": 80,
   "metadata": {},
   "outputs": [
    {
     "name": "stdout",
     "output_type": "stream",
     "text": [
      "κ: 1\n",
      "κ: 5\n",
      "κ: 10\n",
      "κ: 25\n",
      "κ: 50\n",
      "κ: 75\n",
      "κ: 100\n",
      "κ: 0\n"
     ]
    }
   ],
   "source": [
    "k = [1,5,10,25,50,75,100,0]\n",
    "LABELS = [1, 5, 10, 25, 50, 75, 100, TOTAL_EN]\n",
    "result_kl = []\n",
    "\n",
    "for ke in k:\n",
    "    hp.local_search_scope = ke\n",
    "    print(\"κ: {}\".format(ke))\n",
    "    \n",
    "    for i in range(iterations):\n",
    "        agents = generate_agents(MA, merged_raw_ap_data, dim)\n",
    "        edge_nodes = generate_edge_nodes(EN_RATIO, merged_raw_ap_data, dim)\n",
    "        result_kl.append(start_solver(agents, edge_nodes, rtt_matrix, merged_raw_ap_data))"
   ]
  },
  {
   "cell_type": "code",
   "execution_count": 93,
   "metadata": {},
   "outputs": [
    {
     "ename": "ValueError",
     "evalue": "x and y must have same first dimension, but have shapes (4,) and (8,)",
     "output_type": "error",
     "traceback": [
      "\u001b[0;31m---------------------------------------------------------------------------\u001b[0m",
      "\u001b[0;31mValueError\u001b[0m                                Traceback (most recent call last)",
      "\u001b[0;32m<ipython-input-93-093a18bd34b3>\u001b[0m in \u001b[0;36m<module>\u001b[0;34m\u001b[0m\n\u001b[1;32m     14\u001b[0m \u001b[0;34m\u001b[0m\u001b[0m\n\u001b[1;32m     15\u001b[0m \u001b[0;34m\u001b[0m\u001b[0m\n\u001b[0;32m---> 16\u001b[0;31m \u001b[0max\u001b[0m\u001b[0;34m.\u001b[0m\u001b[0mplot\u001b[0m\u001b[0;34m(\u001b[0m\u001b[0mLABELS\u001b[0m\u001b[0;34m,\u001b[0m \u001b[0mconv_time\u001b[0m\u001b[0;34m,\u001b[0m \u001b[0mmarker\u001b[0m\u001b[0;34m=\u001b[0m\u001b[0;34m\"o\"\u001b[0m\u001b[0;34m,\u001b[0m \u001b[0mlabel\u001b[0m\u001b[0;34m=\u001b[0m\u001b[0;34m\"Convergence Time\"\u001b[0m\u001b[0;34m)\u001b[0m\u001b[0;34m\u001b[0m\u001b[0;34m\u001b[0m\u001b[0m\n\u001b[0m\u001b[1;32m     17\u001b[0m \u001b[0max\u001b[0m\u001b[0;34m.\u001b[0m\u001b[0mset_ylabel\u001b[0m\u001b[0;34m(\u001b[0m\u001b[0;34m\"[s]\"\u001b[0m\u001b[0;34m)\u001b[0m\u001b[0;34m\u001b[0m\u001b[0;34m\u001b[0m\u001b[0m\n\u001b[1;32m     18\u001b[0m \u001b[0max\u001b[0m\u001b[0;34m.\u001b[0m\u001b[0mset_xlabel\u001b[0m\u001b[0;34m(\u001b[0m\u001b[0;34m\"κ\"\u001b[0m\u001b[0;34m)\u001b[0m\u001b[0;34m\u001b[0m\u001b[0;34m\u001b[0m\u001b[0m\n",
      "\u001b[0;32m/opt/ec_solver/lib/python3.6/site-packages/matplotlib/axes/_axes.py\u001b[0m in \u001b[0;36mplot\u001b[0;34m(self, scalex, scaley, data, *args, **kwargs)\u001b[0m\n\u001b[1;32m   1664\u001b[0m         \"\"\"\n\u001b[1;32m   1665\u001b[0m         \u001b[0mkwargs\u001b[0m \u001b[0;34m=\u001b[0m \u001b[0mcbook\u001b[0m\u001b[0;34m.\u001b[0m\u001b[0mnormalize_kwargs\u001b[0m\u001b[0;34m(\u001b[0m\u001b[0mkwargs\u001b[0m\u001b[0;34m,\u001b[0m \u001b[0mmlines\u001b[0m\u001b[0;34m.\u001b[0m\u001b[0mLine2D\u001b[0m\u001b[0;34m.\u001b[0m\u001b[0m_alias_map\u001b[0m\u001b[0;34m)\u001b[0m\u001b[0;34m\u001b[0m\u001b[0;34m\u001b[0m\u001b[0m\n\u001b[0;32m-> 1666\u001b[0;31m         \u001b[0mlines\u001b[0m \u001b[0;34m=\u001b[0m \u001b[0;34m[\u001b[0m\u001b[0;34m*\u001b[0m\u001b[0mself\u001b[0m\u001b[0;34m.\u001b[0m\u001b[0m_get_lines\u001b[0m\u001b[0;34m(\u001b[0m\u001b[0;34m*\u001b[0m\u001b[0margs\u001b[0m\u001b[0;34m,\u001b[0m \u001b[0mdata\u001b[0m\u001b[0;34m=\u001b[0m\u001b[0mdata\u001b[0m\u001b[0;34m,\u001b[0m \u001b[0;34m**\u001b[0m\u001b[0mkwargs\u001b[0m\u001b[0;34m)\u001b[0m\u001b[0;34m]\u001b[0m\u001b[0;34m\u001b[0m\u001b[0;34m\u001b[0m\u001b[0m\n\u001b[0m\u001b[1;32m   1667\u001b[0m         \u001b[0;32mfor\u001b[0m \u001b[0mline\u001b[0m \u001b[0;32min\u001b[0m \u001b[0mlines\u001b[0m\u001b[0;34m:\u001b[0m\u001b[0;34m\u001b[0m\u001b[0;34m\u001b[0m\u001b[0m\n\u001b[1;32m   1668\u001b[0m             \u001b[0mself\u001b[0m\u001b[0;34m.\u001b[0m\u001b[0madd_line\u001b[0m\u001b[0;34m(\u001b[0m\u001b[0mline\u001b[0m\u001b[0;34m)\u001b[0m\u001b[0;34m\u001b[0m\u001b[0;34m\u001b[0m\u001b[0m\n",
      "\u001b[0;32m/opt/ec_solver/lib/python3.6/site-packages/matplotlib/axes/_base.py\u001b[0m in \u001b[0;36m__call__\u001b[0;34m(self, *args, **kwargs)\u001b[0m\n\u001b[1;32m    223\u001b[0m                 \u001b[0mthis\u001b[0m \u001b[0;34m+=\u001b[0m \u001b[0margs\u001b[0m\u001b[0;34m[\u001b[0m\u001b[0;36m0\u001b[0m\u001b[0;34m]\u001b[0m\u001b[0;34m,\u001b[0m\u001b[0;34m\u001b[0m\u001b[0;34m\u001b[0m\u001b[0m\n\u001b[1;32m    224\u001b[0m                 \u001b[0margs\u001b[0m \u001b[0;34m=\u001b[0m \u001b[0margs\u001b[0m\u001b[0;34m[\u001b[0m\u001b[0;36m1\u001b[0m\u001b[0;34m:\u001b[0m\u001b[0;34m]\u001b[0m\u001b[0;34m\u001b[0m\u001b[0;34m\u001b[0m\u001b[0m\n\u001b[0;32m--> 225\u001b[0;31m             \u001b[0;32myield\u001b[0m \u001b[0;32mfrom\u001b[0m \u001b[0mself\u001b[0m\u001b[0;34m.\u001b[0m\u001b[0m_plot_args\u001b[0m\u001b[0;34m(\u001b[0m\u001b[0mthis\u001b[0m\u001b[0;34m,\u001b[0m \u001b[0mkwargs\u001b[0m\u001b[0;34m)\u001b[0m\u001b[0;34m\u001b[0m\u001b[0;34m\u001b[0m\u001b[0m\n\u001b[0m\u001b[1;32m    226\u001b[0m \u001b[0;34m\u001b[0m\u001b[0m\n\u001b[1;32m    227\u001b[0m     \u001b[0;32mdef\u001b[0m \u001b[0mget_next_color\u001b[0m\u001b[0;34m(\u001b[0m\u001b[0mself\u001b[0m\u001b[0;34m)\u001b[0m\u001b[0;34m:\u001b[0m\u001b[0;34m\u001b[0m\u001b[0;34m\u001b[0m\u001b[0m\n",
      "\u001b[0;32m/opt/ec_solver/lib/python3.6/site-packages/matplotlib/axes/_base.py\u001b[0m in \u001b[0;36m_plot_args\u001b[0;34m(self, tup, kwargs)\u001b[0m\n\u001b[1;32m    389\u001b[0m             \u001b[0mx\u001b[0m\u001b[0;34m,\u001b[0m \u001b[0my\u001b[0m \u001b[0;34m=\u001b[0m \u001b[0mindex_of\u001b[0m\u001b[0;34m(\u001b[0m\u001b[0mtup\u001b[0m\u001b[0;34m[\u001b[0m\u001b[0;34m-\u001b[0m\u001b[0;36m1\u001b[0m\u001b[0;34m]\u001b[0m\u001b[0;34m)\u001b[0m\u001b[0;34m\u001b[0m\u001b[0;34m\u001b[0m\u001b[0m\n\u001b[1;32m    390\u001b[0m \u001b[0;34m\u001b[0m\u001b[0m\n\u001b[0;32m--> 391\u001b[0;31m         \u001b[0mx\u001b[0m\u001b[0;34m,\u001b[0m \u001b[0my\u001b[0m \u001b[0;34m=\u001b[0m \u001b[0mself\u001b[0m\u001b[0;34m.\u001b[0m\u001b[0m_xy_from_xy\u001b[0m\u001b[0;34m(\u001b[0m\u001b[0mx\u001b[0m\u001b[0;34m,\u001b[0m \u001b[0my\u001b[0m\u001b[0;34m)\u001b[0m\u001b[0;34m\u001b[0m\u001b[0;34m\u001b[0m\u001b[0m\n\u001b[0m\u001b[1;32m    392\u001b[0m \u001b[0;34m\u001b[0m\u001b[0m\n\u001b[1;32m    393\u001b[0m         \u001b[0;32mif\u001b[0m \u001b[0mself\u001b[0m\u001b[0;34m.\u001b[0m\u001b[0mcommand\u001b[0m \u001b[0;34m==\u001b[0m \u001b[0;34m'plot'\u001b[0m\u001b[0;34m:\u001b[0m\u001b[0;34m\u001b[0m\u001b[0;34m\u001b[0m\u001b[0m\n",
      "\u001b[0;32m/opt/ec_solver/lib/python3.6/site-packages/matplotlib/axes/_base.py\u001b[0m in \u001b[0;36m_xy_from_xy\u001b[0;34m(self, x, y)\u001b[0m\n\u001b[1;32m    268\u001b[0m         \u001b[0;32mif\u001b[0m \u001b[0mx\u001b[0m\u001b[0;34m.\u001b[0m\u001b[0mshape\u001b[0m\u001b[0;34m[\u001b[0m\u001b[0;36m0\u001b[0m\u001b[0;34m]\u001b[0m \u001b[0;34m!=\u001b[0m \u001b[0my\u001b[0m\u001b[0;34m.\u001b[0m\u001b[0mshape\u001b[0m\u001b[0;34m[\u001b[0m\u001b[0;36m0\u001b[0m\u001b[0;34m]\u001b[0m\u001b[0;34m:\u001b[0m\u001b[0;34m\u001b[0m\u001b[0;34m\u001b[0m\u001b[0m\n\u001b[1;32m    269\u001b[0m             raise ValueError(\"x and y must have same first dimension, but \"\n\u001b[0;32m--> 270\u001b[0;31m                              \"have shapes {} and {}\".format(x.shape, y.shape))\n\u001b[0m\u001b[1;32m    271\u001b[0m         \u001b[0;32mif\u001b[0m \u001b[0mx\u001b[0m\u001b[0;34m.\u001b[0m\u001b[0mndim\u001b[0m \u001b[0;34m>\u001b[0m \u001b[0;36m2\u001b[0m \u001b[0;32mor\u001b[0m \u001b[0my\u001b[0m\u001b[0;34m.\u001b[0m\u001b[0mndim\u001b[0m \u001b[0;34m>\u001b[0m \u001b[0;36m2\u001b[0m\u001b[0;34m:\u001b[0m\u001b[0;34m\u001b[0m\u001b[0;34m\u001b[0m\u001b[0m\n\u001b[1;32m    272\u001b[0m             raise ValueError(\"x and y can be no greater than 2-D, but have \"\n",
      "\u001b[0;31mValueError\u001b[0m: x and y must have same first dimension, but have shapes (4,) and (8,)"
     ]
    },
    {
     "data": {
      "image/png": "[encoded data removed]",
      "text/plain": [
       "<Figure size 432x144 with 1 Axes>"
      ]
     },
     "metadata": {
      "needs_background": "light"
     },
     "output_type": "display_data"
    }
   ],
   "source": [
    "list_of_groups = zip(*(iter(result_kl),) * iterations)\n",
    "\n",
    "conv_time = []\n",
    "cov = []\n",
    "\n",
    "fig, ax = plt.subplots(1, 1, figsize=(6, 2), constrained_layout=False)\n",
    "fig.tight_layout()\n",
    "\n",
    "for re in list_of_groups:\n",
    "    conv_time.append(np.median(list(map(lambda b: b[3], re))))\n",
    "    \n",
    "    agents = np.concatenate(list(map(lambda z: z[1], re))) \n",
    "    cov.append(len(list(filter(lambda a: a.offload_target == Offloaded.Edge ,agents))) / iterations / MA * 100)\n",
    "\n",
    "    \n",
    "ax.plot(LABELS, conv_time, marker=\"o\", label=\"Convergence Time\")\n",
    "ax.set_ylabel(\"[s]\")\n",
    "ax.set_xlabel(\"κ\")\n",
    "ax.set_title(\"EN: {} - MA: {}\".format(TOTAL_EN, MA))\n",
    "ax.grid()\n",
    "\n",
    "ax2 = ax.twinx()  # instantiate a second axes that shares the same x-axis\n",
    "\n",
    "color = 'tab:red'\n",
    "ax2.set_ylabel('(%)')  # we already handled the x-label with ax1\n",
    "ax2.plot(LABELS, cov, marker=\"*\", color=color, label=\"Edge offloaded MA\")\n",
    "ax2.tick_params(axis='y')\n",
    "\n",
    "h1, l1 = ax.get_legend_handles_labels()\n",
    "h2, l2 = ax2.get_legend_handles_labels()\n",
    "ax.legend(h1+h2, l1+l2, loc=4)\n",
    "\n",
    "fig.savefig(\"../plots/baseline/kappa_tradeoff.pdf\",  bbox_inches=\"tight\")"
   ]
  },
  {
   "cell_type": "markdown",
   "metadata": {},
   "source": [
    "# added plots"
   ]
  },
  {
   "cell_type": "code",
   "execution_count": 138,
   "metadata": {},
   "outputs": [],
   "source": [
    "import matplotlib\n",
    "\n",
    "plt.style.use('classic')\n",
    "\n",
    "matplotlib.rcParams['axes.facecolor'] = 'w'\n",
    "matplotlib.rcParams['axes.edgecolor'] = 'k'\n",
    "matplotlib.rcParams['figure.facecolor'] = 'w'\n",
    "matplotlib.rcParams['axes.titlesize'] = 22\n",
    "matplotlib.rcParams['axes.labelsize'] = 22\n",
    "matplotlib.rcParams['lines.linewidth'] = 2\n",
    "matplotlib.rcParams['lines.markersize'] = 3\n",
    "matplotlib.rcParams['lines.color'] = 'xkcd:blue'\n",
    "matplotlib.rcParams['xtick.labelsize'] = 20\n",
    "matplotlib.rcParams['ytick.labelsize'] = 20\n",
    "\n",
    "width = 7\n",
    "height = width / 1.618\n",
    "\n",
    "# Use matplotlib fonts\n",
    "matplotlib.rcParams['text.usetex']=True"
   ]
  },
  {
   "cell_type": "code",
   "execution_count": 12,
   "metadata": {},
   "outputs": [
    {
     "data": {
      "image/png": "[encoded data removed]",
      "text/plain": [
       "<Figure size 1280x160 with 4 Axes>"
      ]
     },
     "metadata": {},
     "output_type": "display_data"
    }
   ],
   "source": [
    "from entities.mobile_agent import Offloaded\n",
    "\n",
    "fig, ax = plt.subplots(1, 4, figsize=(16, 2), constrained_layout=False)\n",
    "fig.tight_layout()\n",
    "\n",
    "agents_ls = []\n",
    "list_of_groups2 = zip(*(iter(RESULT),) * iterations)\n",
    "LABELS = [\"Wicker\", \"Greedy\", \"Cloud\", \"Cloud4G\"]\n",
    "\n",
    "lat_list = []\n",
    "conv_list = []\n",
    "df = pd.DataFrame(columns=['Algorithm', 'MA', 'Location'])\n",
    "\n",
    "## Latency\n",
    "for i, gr in enumerate(list_of_groups2):\n",
    "    curr_lat = list(map(lambda a: a.total_latency(), np.concatenate(list(map(lambda z: z[1], gr)))))\n",
    "    \n",
    "    #powerlaw.plot_cdf(data=curr_lat, ax=ax[0], label=label)\n",
    "    sns.distplot(curr_lat, hist=False, ax=ax[0], label=LABELS[i])\n",
    "\n",
    "    lat_list.append(curr_lat)\n",
    "    conv_list.append(np.median(list(map(lambda b: b[3], gr))))\n",
    "    \n",
    "    agents = np.concatenate(list(map(lambda z: z[1], gr))) \n",
    "    \n",
    "    loc = len(list(filter(lambda a: a.offload_target == Offloaded.Local ,agents))) / iterations\n",
    "    edge = len(list(filter(lambda a: a.offload_target == Offloaded.Edge ,agents))) / iterations\n",
    "    cloud = len(list(filter(lambda a: a.offload_target == Offloaded.Cloud ,agents))) / iterations\n",
    "\n",
    "    df = df.append({'Algorithm': LABELS[i], 'MA': loc, 'Location': 'Local'}, ignore_index=True) \\\n",
    "        .append({'Algorithm': LABELS[i], 'MA': edge, 'Location': 'Edge'}, ignore_index=True) \\\n",
    "        .append({'Algorithm': LABELS[i], 'MA': cloud, 'Location': 'Cloud'}, ignore_index=True)\n",
    "    \n",
    "sns.boxplot(x=LABELS, y=lat_list, ax=ax[1])\n",
    "sns.barplot(x=LABELS, y=conv_list, ax=ax[2])\n",
    "g = sns.barplot(x=\"Algorithm\", y=\"MA\", hue=\"Location\", data=df, ax=ax[3])\n",
    "\n",
    "#g.text(2,10,4, color='red', ha=\"center\")\n",
    "\n",
    "ax[0].set_ylabel(\"Density\")\n",
    "ax[0].set_xlabel(\"[ms]\")\n",
    "ax[1].set_ylabel(\"[ms]\")\n",
    "ax[2].set_ylabel(\"[s]\")\n",
    "\n",
    "fig.subplots_adjust(hspace=0.2)"
   ]
  },
  {
   "cell_type": "code",
   "execution_count": 13,
   "metadata": {},
   "outputs": [
    {
     "data": {
      "image/png": "[encoded data removed]",
      "text/plain": [
       "<Figure size 960x200 with 3 Axes>"
      ]
     },
     "metadata": {},
     "output_type": "display_data"
    }
   ],
   "source": [
    "## this isn't very good imo\n",
    "fig,axs = plt.subplots(1,3,figsize=(12,2.5))\n",
    "\n",
    "sns.boxplot(x=LABELS, y=lat_list, ax=axs[0], showfliers=False, palette=\"Greys\")\n",
    "sns.barplot(x=LABELS, y=conv_list, ax=axs[1], palette=\"Greys\")\n",
    "sns.barplot(x=\"Algorithm\", y=\"MA\", hue=\"Location\", data=df, ax=axs[2], palette=\"Greys\")\n",
    "\n",
    "axs[2].legend(ncol=3,borderpad=0.2, loc=9,\n",
    "                labelspacing=0.1, handletextpad=0.3,\n",
    "                borderaxespad=0.15, columnspacing=0.2)\n",
    "axs[1].set_yscale('log')\n",
    "axs[2].set_yscale('log')\n",
    "for ax in axs:\n",
    "    ax.grid(axis='y')\n",
    "\n",
    "axs[2].set_ylabel('Mobile Agents', labelpad=-0.6)\n",
    "\n",
    "plt.tight_layout(pad=0)"
   ]
  },
  {
   "cell_type": "code",
   "execution_count": 136,
   "metadata": {},
   "outputs": [],
   "source": [
    "#matplotlib.rcParams.update(matplotlib.rcParamsDefault)"
   ]
  },
  {
   "cell_type": "code",
   "execution_count": 137,
   "metadata": {},
   "outputs": [
    {
     "data": {
      "image/png": "[encoded data removed]",
      "text/plain": [
       "<Figure size 800x350 with 2 Axes>"
      ]
     },
     "metadata": {},
     "output_type": "display_data"
    }
   ],
   "source": [
    "## my best choice, but too much info on the left\n",
    "fig,axs = plt.subplots(1,2,figsize=(8,3.5))\n",
    "\n",
    "sns.boxplot(x=LABELS, y=lat_list, ax=axs[0], showfliers=False, palette='plasma')\n",
    "# sns.barplot(x=LABELS, y=conv_list, ax=axs[1], palette=\"Greys\")\n",
    "sns.barplot(x=\"Algorithm\", y=\"MA\", hue=\"Location\", data=df, ax=axs[1], palette=\"YlGnBu\", edgecolor=\"black\")\n",
    "\n",
    "axs[1].legend(ncol=3,borderpad=0.2, loc=2,\n",
    "                labelspacing=0.1, handletextpad=0.3,\n",
    "                borderaxespad=0.15, columnspacing=0.2, title='Location:')\n",
    "# axs[1].set_yscale('log')\n",
    "#axs[1].set_yscale('log')\n",
    "for ax in axs:\n",
    "    ax.grid(axis='y')\n",
    "    ax.set_xlabel('')\n",
    "\n",
    "axs[0].set_ylabel('Task Execution [ms]', labelpad=0, fontsize=14)\n",
    "axs[1].set_ylabel('Mobile Agents', labelpad=-7, fontsize=14)\n",
    "\n",
    "axs[0].set_ylim(0, 300)\n",
    "\n",
    "## inset\n",
    "axin1 = axs[0].inset_axes([0.27, 0.63, 0.50, 0.36])\n",
    "sns.barplot(x=LABELS, y=conv_list, ax=axin1, palette='plasma', edgecolor=\"black\")\n",
    "axin1.set_yscale('log')\n",
    "axin1.set_xticklabels([])\n",
    "axin1.set_xticklabels(['W','G','C', 'C4G'], fontsize=14)\n",
    "axin1.tick_params(axis=\"x\",direction=\"in\", pad=2.5)\n",
    "axin1.grid(axis='y')\n",
    "#axin1.set_title('Convergence Time [s]', fontsize=12, pad=3)\n",
    "\n",
    "yticks_ = [0.001,0.01,0.1,1,10]\n",
    "axin1.set_yticks(yticks_)\n",
    "axin1.set_yticklabels([ '${{ {} }}$'.format(t_) for t_ in yticks_ ],\n",
    "                      fontsize=10)\n",
    "\n",
    "axin1.set_ylabel('[s]', labelpad=-1.8)\n",
    "yticks = axin1.yaxis.get_major_ticks()\n",
    "yticks[0].label1.set_visible(False)\n",
    "yticks[-1].label1.set_visible(False)\n",
    "\n",
    "yticks[0].tick1line.set_visible(False)\n",
    "yticks[-1].tick1line.set_visible(False)\n",
    "\n",
    "plt.tight_layout(pad=0, w_pad=0.3)\n",
    "fig.savefig(\"../plots/baseline/comparison_small.pdf\",  bbox_inches=\"tight\")"
   ]
  },
  {
   "cell_type": "code",
   "execution_count": 250,
   "metadata": {},
   "outputs": [
    {
     "data": {
      "image/png": "[encoded data removed]",
      "text/plain": [
       "<Figure size 640x296 with 2 Axes>"
      ]
     },
     "metadata": {},
     "output_type": "display_data"
    }
   ],
   "source": [
    "## my best choice, but too much info on the left\n",
    "fig,axs = plt.subplots(1,2,figsize=(8,3.7))\n",
    "\n",
    "sns.boxplot(x=LABELS, y=lat_list, ax=axs[0], showfliers=False, palette='plasma')\n",
    "# sns.barplot(x=LABELS, y=conv_list, ax=axs[1], palette=\"Greys\")\n",
    "sns.barplot(x=\"Algorithm\", y=\"MA\", hue=\"Location\", data=df, ax=axs[1], palette=\"YlGnBu\", edgecolor=\"black\",\n",
    "            linewidth=1)\n",
    "\n",
    "axs[1].legend(ncol=3,borderpad=0.2, loc=9,\n",
    "                labelspacing=0.1, handletextpad=0.3,\n",
    "                borderaxespad=0.15, columnspacing=0.2, title='')\n",
    "# axs[1].set_yscale('log')\n",
    "#axs[1].set_yscale('log')\n",
    "for ax in axs:\n",
    "    ax.grid(axis='y')\n",
    "    ax.set_xlabel('')\n",
    "    ax.xaxis.set_ticklabels(ax_.xaxis.get_ticklabels(), fontsize=16.5)\n",
    "\n",
    "axs[0].set_ylabel('Task Execution [ms]', labelpad=-0.5, fontsize=22)\n",
    "axs[1].set_ylabel('Mobile Agents', labelpad=-3, fontsize=22)\n",
    "\n",
    "axs[0].set_ylim(0, 300)\n",
    "\n",
    "## inset\n",
    "axin1 = axs[0].inset_axes([0.24, 0.75, 0.6, 0.2])\n",
    "sns.barplot(x=LABELS, y=conv_list, ax=axin1, palette='plasma', edgecolor=\"black\",\n",
    "            linewidth=1)\n",
    "axin1.set_yscale('log')\n",
    "axin1.set_xticklabels([])\n",
    "axin1.set_xticklabels(['W','G','C', 'C4G'], fontsize=14.75)\n",
    "axin1.tick_params(axis=\"x\",direction=\"in\", pad=2.5)\n",
    "axin1.grid(axis='y')\n",
    "axin1.set_title('Convergence Time', fontsize=12, pad=3)\n",
    "\n",
    "yticks_ = [0.001,0.01,0.1,1,10]\n",
    "axin1.set_yticks(yticks_)\n",
    "axin1.set_yticklabels([ '${{ {} }}$'.format(t_) for t_ in yticks_ ],\n",
    "                      fontsize=14.5)\n",
    "\n",
    "axin1.set_ylabel('[s]', labelpad=-6.8)\n",
    "yticks = axin1.yaxis.get_major_ticks()\n",
    "yticks[-1].label1.set_visible(False)\n",
    "\n",
    "yticks[0].tick1line.set_visible(False)\n",
    "yticks[-1].tick1line.set_visible(False)\n",
    "\n",
    "axs[0].set_ylim(0,273)\n",
    "axs[1].set_ylim(0,1200)\n",
    "\n",
    "plt.tight_layout(pad=0, w_pad=-0.1)\n",
    "fig.savefig(\"../plots/baseline/comparison_small.pdf\",  bbox_inches=\"tight\")"
   ]
  },
  {
   "cell_type": "code",
   "execution_count": 203,
   "metadata": {},
   "outputs": [],
   "source": [
    "ax_ = axs[0]"
   ]
  },
  {
   "cell_type": "code",
   "execution_count": 213,
   "metadata": {},
   "outputs": [
    {
     "data": {
      "text/plain": [
       "[Text(0, 0, 'Wicker'),\n",
       " Text(1, 0, 'Greedy'),\n",
       " Text(2, 0, 'Cloud'),\n",
       " Text(3, 0, 'Cloud4G')]"
      ]
     },
     "execution_count": 213,
     "metadata": {},
     "output_type": "execute_result"
    }
   ],
   "source": []
  },
  {
   "cell_type": "code",
   "execution_count": 26,
   "metadata": {},
   "outputs": [
    {
     "data": {
      "text/html": [
       "<div>\n",
       "<style scoped>\n",
       "    .dataframe tbody tr th:only-of-type {\n",
       "        vertical-align: middle;\n",
       "    }\n",
       "\n",
       "    .dataframe tbody tr th {\n",
       "        vertical-align: top;\n",
       "    }\n",
       "\n",
       "    .dataframe thead th {\n",
       "        text-align: right;\n",
       "    }\n",
       "</style>\n",
       "<table border=\"1\" class=\"dataframe\">\n",
       "  <thead>\n",
       "    <tr style=\"text-align: right;\">\n",
       "      <th></th>\n",
       "      <th>Algorithm</th>\n",
       "      <th>MA</th>\n",
       "      <th>Location</th>\n",
       "    </tr>\n",
       "  </thead>\n",
       "  <tbody>\n",
       "    <tr>\n",
       "      <th>0</th>\n",
       "      <td>Wicker</td>\n",
       "      <td>9.66</td>\n",
       "      <td>Local</td>\n",
       "    </tr>\n",
       "    <tr>\n",
       "      <th>1</th>\n",
       "      <td>Wicker</td>\n",
       "      <td>837.96</td>\n",
       "      <td>Edge</td>\n",
       "    </tr>\n",
       "    <tr>\n",
       "      <th>2</th>\n",
       "      <td>Wicker</td>\n",
       "      <td>209.38</td>\n",
       "      <td>Cloud</td>\n",
       "    </tr>\n",
       "    <tr>\n",
       "      <th>3</th>\n",
       "      <td>Greedy</td>\n",
       "      <td>209.99</td>\n",
       "      <td>Local</td>\n",
       "    </tr>\n",
       "    <tr>\n",
       "      <th>4</th>\n",
       "      <td>Greedy</td>\n",
       "      <td>573.51</td>\n",
       "      <td>Edge</td>\n",
       "    </tr>\n",
       "    <tr>\n",
       "      <th>5</th>\n",
       "      <td>Greedy</td>\n",
       "      <td>273.50</td>\n",
       "      <td>Cloud</td>\n",
       "    </tr>\n",
       "    <tr>\n",
       "      <th>6</th>\n",
       "      <td>Cloud</td>\n",
       "      <td>328.40</td>\n",
       "      <td>Local</td>\n",
       "    </tr>\n",
       "    <tr>\n",
       "      <th>7</th>\n",
       "      <td>Cloud</td>\n",
       "      <td>0.00</td>\n",
       "      <td>Edge</td>\n",
       "    </tr>\n",
       "    <tr>\n",
       "      <th>8</th>\n",
       "      <td>Cloud</td>\n",
       "      <td>728.60</td>\n",
       "      <td>Cloud</td>\n",
       "    </tr>\n",
       "    <tr>\n",
       "      <th>9</th>\n",
       "      <td>Cloud4G</td>\n",
       "      <td>1056.03</td>\n",
       "      <td>Local</td>\n",
       "    </tr>\n",
       "    <tr>\n",
       "      <th>10</th>\n",
       "      <td>Cloud4G</td>\n",
       "      <td>0.00</td>\n",
       "      <td>Edge</td>\n",
       "    </tr>\n",
       "    <tr>\n",
       "      <th>11</th>\n",
       "      <td>Cloud4G</td>\n",
       "      <td>0.97</td>\n",
       "      <td>Cloud</td>\n",
       "    </tr>\n",
       "  </tbody>\n",
       "</table>\n",
       "</div>"
      ],
      "text/plain": [
       "   Algorithm       MA Location\n",
       "0     Wicker     9.66    Local\n",
       "1     Wicker   837.96     Edge\n",
       "2     Wicker   209.38    Cloud\n",
       "3     Greedy   209.99    Local\n",
       "4     Greedy   573.51     Edge\n",
       "5     Greedy   273.50    Cloud\n",
       "6      Cloud   328.40    Local\n",
       "7      Cloud     0.00     Edge\n",
       "8      Cloud   728.60    Cloud\n",
       "9    Cloud4G  1056.03    Local\n",
       "10   Cloud4G     0.00     Edge\n",
       "11   Cloud4G     0.97    Cloud"
      ]
     },
     "execution_count": 26,
     "metadata": {},
     "output_type": "execute_result"
    }
   ],
   "source": [
    "df"
   ]
  },
  {
   "cell_type": "code",
   "execution_count": 244,
   "metadata": {},
   "outputs": [
    {
     "data": {
      "image/png": "[encoded data removed]",
      "text/plain": [
       "<Figure size 624x200 with 2 Axes>"
      ]
     },
     "metadata": {},
     "output_type": "display_data"
    }
   ],
   "source": [
    "## second best, then you'll have to add text about convergence time\n",
    "fig,axs = plt.subplots(1,2,figsize=(7.8,2.5))\n",
    "\n",
    "sns.boxplot(x=LABELS, y=lat_list, ax=axs[0], showfliers=False, color='white')\n",
    "# sns.barplot(x=LABELS, y=conv_list, ax=axs[1], palette=\"Greys\")\n",
    "sns.barplot(x=\"Algorithm\", y=\"MA\", hue=\"Location\", data=df, ax=axs[1], palette=\"Greys\")\n",
    "\n",
    "axs[1].legend(ncol=3,borderpad=0.2, loc=9,\n",
    "                labelspacing=0.1, handletextpad=0.3,\n",
    "                borderaxespad=0.15, columnspacing=0.2, title='Location:')\n",
    "# axs[1].set_yscale('log')\n",
    "axs[1].set_yscale('log')\n",
    "for ax in axs:\n",
    "    ax.grid(axis='y')\n",
    "    ax.set_xlabel('')\n",
    "\n",
    "axs[0].set_ylabel('Task Exec [ms]', labelpad=0)\n",
    "axs[1].set_ylabel('Mobile Agents', labelpad=-1.2)\n",
    "\n",
    "# hacky shitty way to get boxes b&w\n",
    "for i,box in enumerate(axs[0].artists):\n",
    "    box.set_edgecolor('black')\n",
    "    box.set_facecolor('white')\n",
    "    for j in range(6*i,6*(i+1)):\n",
    "        if len(axs[0].lines) <= j:\n",
    "            continue\n",
    "        axs[0].lines[j].set_color('black')\n",
    "\n",
    "plt.tight_layout(pad=0, w_pad=0.3)"
   ]
  },
  {
   "cell_type": "code",
   "execution_count": 246,
   "metadata": {},
   "outputs": [
    {
     "name": "stdout",
     "output_type": "stream",
     "text": [
      "κ: 1\n",
      "κ: 5\n",
      "κ: 10\n",
      "κ: 25\n",
      "κ: 50\n",
      "κ: 75\n",
      "κ: 100\n",
      "κ: 0\n"
     ]
    }
   ],
   "source": [
    "k = [1,5,10,25,50,75,100,0]\n",
    "LABELS = [1, 5, 10, 25, 50, 75, 100, TOTAL_EN]\n",
    "result_kl = []\n",
    "\n",
    "for ke in k:\n",
    "    hp.local_search_scope = ke\n",
    "    print(\"κ: {}\".format(ke))\n",
    "    \n",
    "    for i in range(iterations):\n",
    "        agents = generate_agents(MA, merged_raw_ap_data, dim)\n",
    "        edge_nodes = generate_edge_nodes(EN_RATIO, merged_raw_ap_data, dim)\n",
    "        result_kl.append(start_solver(agents, edge_nodes, rtt_matrix, merged_raw_ap_data))"
   ]
  },
  {
   "cell_type": "code",
   "execution_count": 256,
   "metadata": {},
   "outputs": [
    {
     "data": {
      "image/png": "[encoded data removed]",
      "text/plain": [
       "<Figure size 480x200 with 2 Axes>"
      ]
     },
     "metadata": {},
     "output_type": "display_data"
    }
   ],
   "source": [
    "list_of_groups = zip(*(iter(result_kl),) * iterations)\n",
    "LABELS = [1, 5, 10, 25, 50, 75, 100, TOTAL_EN]\n",
    "conv_time = []\n",
    "cov = []\n",
    "\n",
    "fig, ax = plt.subplots(1, 1, figsize=(6, 2.5), constrained_layout=False)\n",
    "# fig.tight_layout()\n",
    "\n",
    "for re in list_of_groups:\n",
    "    conv_time.append(np.median(list(map(lambda b: b[3], re))))\n",
    "    \n",
    "    agents = np.concatenate(list(map(lambda z: z[1], re))) \n",
    "    cov.append(len(list(filter(lambda a: a.offload_target == Offloaded.Edge ,agents))) / iterations / MA * 100)\n",
    "\n",
    "    \n",
    "ax.plot(LABELS, conv_time, marker=\"o\", label=\"Convergence Time\")\n",
    "ax.set_ylabel(\"Convergence Time [s]\", fontsize=14.5, labelpad=-1)\n",
    "ax.set_xlabel(\"$\\kappa$\", fontsize=14.5, labelpad=-2)\n",
    "#ax.set_title(\"Total EN: {} - Total MA: ~{}\".format(TOTAL_EN, 1000), fontsize=12)\n",
    "ax.grid()\n",
    "\n",
    "ax2 = ax.twinx()  # instantiate a second axes that shares the same x-axis\n",
    "\n",
    "color = 'tab:red'\n",
    "ax2.set_ylabel('Offloaded MA (\\%)', fontsize=14.5)  # we already handled the x-label with ax1\n",
    "ax2.plot(LABELS, cov, marker=\"*\", color=color, label=\"Edge offloaded MA\")\n",
    "ax2.tick_params(axis='y')\n",
    "\n",
    "h1, l1 = ax.get_legend_handles_labels()\n",
    "h2, l2 = ax2.get_legend_handles_labels()\n",
    "ax.legend(h1+h2, l1+l2, loc=4,\n",
    "          labelspacing=0.3, handletextpad=0.3,\n",
    "                borderaxespad=0.3, columnspacing=0.2)\n",
    "\n",
    "ax.axvspan(25,160,zorder=0, facecolor='lightgrey',\n",
    "           linestyle='--')\n",
    "\n",
    "yticks_ = [60, 70, 80, 90]\n",
    "ax2.set_yticks(yticks_)\n",
    "\n",
    "plt.tight_layout(pad=0)\n",
    "fig.savefig(\"../plots/baseline/kappa_tradeoff.pdf\",  bbox_inches=\"tight\")"
   ]
  },
  {
   "cell_type": "code",
   "execution_count": null,
   "metadata": {},
   "outputs": [],
   "source": []
  }
 ],
 "metadata": {
  "kernelspec": {
   "display_name": "Python 3.6.9 64-bit ('ec_solver': venv)",
   "language": "python",
   "name": "python36964bitecsolvervenv8f840cae860849e0b06ea0c4969e9c05"
  },
  "language_info": {
   "codemirror_mode": {
    "name": "ipython",
    "version": 3
   },
   "file_extension": ".py",
   "mimetype": "text/x-python",
   "name": "python",
   "nbconvert_exporter": "python",
   "pygments_lexer": "ipython3",
   "version": "3.6.9"
  }
 },
 "nbformat": 4,
 "nbformat_minor": 2
}
