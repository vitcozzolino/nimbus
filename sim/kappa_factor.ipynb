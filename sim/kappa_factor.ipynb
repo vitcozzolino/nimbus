{
 "cells": [
  {
   "cell_type": "code",
   "execution_count": 1,
   "metadata": {},
   "outputs": [
    {
     "name": "stdout",
     "output_type": "stream",
     "text": [
      "Parallel loading of APs data ...\n",
      "Activating threads now\n"
     ]
    },
    {
     "name": "stderr",
     "output_type": "stream",
     "text": [
      "  0%|          | 0/31 [00:00<?, ?it/s]98it/s]]\n",
      "  6%|▌         | 1/18 [00:00<00:02,  6.67it/s]\n",
      "  3%|▎         | 1/35 [00:00<00:05,  6.29it/s]\n",
      "  0%|          | 0/152 [00:00<?, ?it/s]30it/s]\n",
      " 33%|███▎      | 2/6 [00:00<00:00,  5.53it/s]]\n",
      " 20%|██        | 1/5 [00:00<00:01,  2.88it/s]]]\n",
      "  7%|▋         | 1/14 [00:00<00:04,  2.83it/s]\n",
      "100%|██████████| 3/3 [00:00<00:00,  3.84it/s]]\n",
      " 25%|██▌       | 1/4 [00:00<00:01,  2.57it/s]]\n",
      "100%|██████████| 1/1 [00:00<00:00,  2.19it/s]]\n",
      " 20%|██        | 2/10 [00:00<00:02,  3.51it/s]\n",
      " 31%|███▏      | 5/16 [00:01<00:02,  4.10it/s]]"
     ]
    },
    {
     "name": "stdout",
     "output_type": "stream",
     "text": [
      "File not found!\n"
     ]
    },
    {
     "name": "stderr",
     "output_type": "stream",
     "text": [
      "  5%|▍         | 1/21 [00:00<00:09,  2.03it/s]\n",
      " 67%|██████▋   | 4/6 [00:01<00:00,  3.64it/s]]\n",
      " 15%|█▌        | 2/13 [00:00<00:04,  2.25it/s]\n",
      "100%|██████████| 2/2 [00:00<00:00,  2.36it/s]\n",
      " 13%|█▎        | 4/31 [00:01<00:08,  3.27it/s]\n",
      " 15%|█▌        | 3/20 [00:01<00:05,  2.92it/s]\n",
      " 33%|███▎      | 4/12 [00:01<00:02,  2.88it/s]"
     ]
    },
    {
     "name": "stdout",
     "output_type": "stream",
     "text": [
      "File not found!\n"
     ]
    },
    {
     "name": "stderr",
     "output_type": "stream",
     "text": [
      "  0%|          | 0/69 [00:00<?, ?it/s]\n",
      " 21%|██        | 5/24 [00:01<00:06,  2.90it/s]]\n",
      "  0%|          | 0/5 [00:00<?, ?it/s]2.89it/s]\n",
      "  7%|▋         | 4/56 [00:01<00:19,  2.67it/s]\n",
      "  8%|▊         | 1/13 [00:00<00:06,  1.95it/s]\n",
      "\n",
      "  0%|          | 0/8 [00:00<?, ?it/s].63it/s]]\n",
      " 40%|████      | 4/10 [00:01<00:02,  2.52it/s]"
     ]
    },
    {
     "name": "stdout",
     "output_type": "stream",
     "text": [
      "File not found!\n"
     ]
    },
    {
     "name": "stderr",
     "output_type": "stream",
     "text": [
      " 14%|█▍        | 3/21 [00:01<00:08,  2.07it/s]\n",
      " 18%|█▊        | 4/22 [00:01<00:08,  2.07it/s]]\n",
      " 15%|█▌        | 2/13 [00:01<00:05,  1.97it/s]\n",
      "100%|██████████| 6/6 [00:02<00:00,  2.50it/s]]\n",
      " 32%|███▏      | 6/19 [00:02<00:05,  2.42it/s]\n",
      "  9%|▉         | 1/11 [00:00<00:06,  1.66it/s]\n",
      "  0%|          | 0/3 [00:00<?, ?it/s].95it/s]]\n",
      " 44%|████▍     | 8/18 [00:02<00:04,  2.36it/s]]"
     ]
    },
    {
     "name": "stdout",
     "output_type": "stream",
     "text": [
      "File not found!\n"
     ]
    },
    {
     "name": "stderr",
     "output_type": "stream",
     "text": [
      " 15%|█▌        | 2/13 [00:00<00:05,  2.10it/s]\n",
      " 12%|█▏        | 2/17 [00:00<00:07,  2.03it/s]\n",
      " 11%|█         | 1/9 [00:00<00:04,  1.67it/s]]\n",
      " 50%|█████     | 4/8 [00:01<00:01,  2.39it/s]]\n",
      " 50%|█████     | 1/2 [00:00<00:00,  1.77it/s]]"
     ]
    },
    {
     "name": "stdout",
     "output_type": "stream",
     "text": [
      "File not found!\n"
     ]
    },
    {
     "name": "stderr",
     "output_type": "stream",
     "text": [
      " 43%|████▎     | 6/14 [00:02<00:03,  2.03it/s]]\n",
      " 50%|█████     | 9/18 [00:03<00:04,  2.03it/s]"
     ]
    },
    {
     "name": "stdout",
     "output_type": "stream",
     "text": [
      "File not found!\n"
     ]
    },
    {
     "name": "stderr",
     "output_type": "stream",
     "text": [
      "100%|██████████| 5/5 [00:02<00:00,  1.66it/s]]"
     ]
    },
    {
     "name": "stdout",
     "output_type": "stream",
     "text": [
      "File not found!\n"
     ]
    },
    {
     "name": "stderr",
     "output_type": "stream",
     "text": [
      "  9%|▉         | 2/22 [00:01<00:10,  1.82it/s]\n",
      "  5%|▌         | 1/20 [00:00<00:12,  1.53it/s]"
     ]
    },
    {
     "name": "stdout",
     "output_type": "stream",
     "text": [
      "File not found!\n"
     ]
    },
    {
     "name": "stderr",
     "output_type": "stream",
     "text": [
      "  5%|▍         | 1/22 [00:00<00:11,  1.76it/s]]"
     ]
    },
    {
     "name": "stdout",
     "output_type": "stream",
     "text": [
      "File not found!\n"
     ]
    },
    {
     "name": "stderr",
     "output_type": "stream",
     "text": [
      " 70%|███████   | 7/10 [00:03<00:01,  1.84it/s]"
     ]
    },
    {
     "name": "stdout",
     "output_type": "stream",
     "text": [
      "File not found!\n"
     ]
    },
    {
     "name": "stderr",
     "output_type": "stream",
     "text": [
      " 15%|█▌        | 2/13 [00:01<00:07,  1.44it/s]"
     ]
    },
    {
     "name": "stdout",
     "output_type": "stream",
     "text": [
      "File not found!\n"
     ]
    },
    {
     "name": "stderr",
     "output_type": "stream",
     "text": [
      " 71%|███████▏  | 5/7 [00:02<00:01,  1.81it/s]]\n",
      "  0%|          | 0/4 [00:00<?, ?it/s]1.35it/s]\n",
      " 26%|██▌       | 6/23 [00:03<00:09,  1.86it/s]]\n",
      "100%|██████████| 3/3 [00:01<00:00,  2.24it/s]]"
     ]
    },
    {
     "name": "stdout",
     "output_type": "stream",
     "text": [
      "File not found!\n"
     ]
    },
    {
     "name": "stderr",
     "output_type": "stream",
     "text": [
      "100%|██████████| 4/4 [00:02<00:00,  1.47it/s]]\n",
      " 11%|█         | 1/9 [00:00<00:05,  1.42it/s]]\n",
      "\n",
      " 29%|██▉       | 5/17 [00:03<00:07,  1.66it/s]]\n",
      " 50%|█████     | 1/2 [00:00<00:00,  1.25it/s]]]\n",
      " 23%|██▎       | 5/22 [00:03<00:11,  1.51it/s]\n",
      " 83%|████████▎ | 10/12 [00:04<00:01,  1.61it/s]\n",
      " 22%|██▏       | 2/9 [00:01<00:05,  1.39it/s]]\n",
      " 38%|███▊      | 5/13 [00:03<00:05,  1.49it/s]\n",
      " 15%|█▌        | 2/13 [00:01<00:08,  1.23it/s]\n",
      "  0%|          | 0/16 [00:00<?, ?it/s]"
     ]
    },
    {
     "name": "stdout",
     "output_type": "stream",
     "text": [
      "File not found!\n"
     ]
    },
    {
     "name": "stderr",
     "output_type": "stream",
     "text": [
      " 42%|████▏     | 5/12 [00:03<00:04,  1.49it/s]]"
     ]
    },
    {
     "name": "stdout",
     "output_type": "stream",
     "text": [
      "File not found!\n"
     ]
    },
    {
     "name": "stderr",
     "output_type": "stream",
     "text": [
      " 77%|███████▋  | 10/13 [00:05<00:02,  1.49it/s]"
     ]
    },
    {
     "name": "stdout",
     "output_type": "stream",
     "text": [
      "File not found!\n"
     ]
    },
    {
     "name": "stderr",
     "output_type": "stream",
     "text": [
      " 12%|█▎        | 5/40 [00:03<00:24,  1.43it/s]]\n",
      "  0%|          | 0/1 [00:00<?, ?it/s]1.40it/s]]\n",
      " 12%|█▎        | 1/8 [00:00<00:05,  1.19it/s]]]]"
     ]
    },
    {
     "name": "stdout",
     "output_type": "stream",
     "text": [
      "File not found!\n"
     ]
    },
    {
     "name": "stderr",
     "output_type": "stream",
     "text": [
      " 11%|█▏        | 6/53 [00:04<00:34,  1.36it/s]]"
     ]
    },
    {
     "name": "stdout",
     "output_type": "stream",
     "text": [
      "File not found!\n"
     ]
    },
    {
     "name": "stderr",
     "output_type": "stream",
     "text": [
      " 28%|██▊       | 11/39 [00:06<00:20,  1.36it/s]\n",
      " 20%|██        | 6/30 [00:04<00:17,  1.35it/s]"
     ]
    },
    {
     "name": "stdout",
     "output_type": "stream",
     "text": [
      "File not found!\n"
     ]
    },
    {
     "name": "stderr",
     "output_type": "stream",
     "text": [
      " 16%|█▌        | 4/25 [00:03<00:16,  1.28it/s]]\n",
      " 67%|██████▋   | 4/6 [00:03<00:01,  1.21it/s]]"
     ]
    },
    {
     "name": "stdout",
     "output_type": "stream",
     "text": [
      "File not found!\n"
     ]
    },
    {
     "name": "stderr",
     "output_type": "stream",
     "text": [
      " 50%|█████     | 2/4 [00:01<00:01,  1.32it/s]]]\n",
      " 50%|█████     | 3/6 [00:02<00:02,  1.15it/s]]]"
     ]
    },
    {
     "name": "stdout",
     "output_type": "stream",
     "text": [
      "File not found!\n"
     ]
    },
    {
     "name": "stderr",
     "output_type": "stream",
     "text": [
      " 39%|███▉      | 9/23 [00:05<00:10,  1.28it/s]]\n",
      " 45%|████▌     | 5/11 [00:04<00:04,  1.22it/s]]\n",
      "100%|██████████| 4/4 [00:03<00:00,  1.31it/s]]\n",
      " 54%|█████▍    | 7/13 [00:05<00:04,  1.28it/s]\n",
      "  0%|          | 0/2 [00:00<?, ?it/s]\n",
      " 81%|████████▏ | 13/16 [00:06<00:02,  1.20it/s]\n",
      " 54%|█████▍    | 7/13 [00:05<00:04,  1.28it/s]]]"
     ]
    },
    {
     "name": "stdout",
     "output_type": "stream",
     "text": [
      "File not found!\n"
     ]
    },
    {
     "name": "stderr",
     "output_type": "stream",
     "text": [
      "\r",
      " 38%|███▊      | 6/16 [00:04<00:08,  1.19it/s]"
     ]
    },
    {
     "name": "stdout",
     "output_type": "stream",
     "text": [
      "File not found!\n"
     ]
    },
    {
     "name": "stderr",
     "output_type": "stream",
     "text": [
      " 23%|██▎       | 7/30 [00:05<00:18,  1.22it/s]]\n",
      " 31%|███       | 12/39 [00:07<00:21,  1.24it/s]"
     ]
    },
    {
     "name": "stdout",
     "output_type": "stream",
     "text": [
      "File not found!\n"
     ]
    },
    {
     "name": "stderr",
     "output_type": "stream",
     "text": [
      " 34%|███▍      | 12/35 [00:07<00:19,  1.19it/s]\n",
      "100%|██████████| 3/3 [00:02<00:00,  1.17it/s]]]\n",
      " 47%|████▋     | 8/17 [00:05<00:07,  1.26it/s]\n",
      " 73%|███████▎  | 8/11 [00:05<00:02,  1.34it/s]\n",
      " 23%|██▎       | 5/22 [00:04<00:14,  1.17it/s]]\n",
      "  0%|          | 0/5 [00:00<?, ?it/s]1.16it/s]\n",
      "  0%|          | 0/1 [00:00<?, ?it/s]1.21it/s]]\n",
      " 36%|███▋      | 8/22 [00:05<00:10,  1.29it/s]]]"
     ]
    },
    {
     "name": "stdout",
     "output_type": "stream",
     "text": [
      "File not found!\n"
     ]
    },
    {
     "name": "stderr",
     "output_type": "stream",
     "text": [
      "100%|██████████| 6/6 [00:05<00:00,  1.14it/s]]]\n",
      "  8%|▊         | 1/12 [00:00<00:08,  1.23it/s]"
     ]
    },
    {
     "name": "stdout",
     "output_type": "stream",
     "text": [
      "File not found!\n"
     ]
    },
    {
     "name": "stderr",
     "output_type": "stream",
     "text": [
      "\n",
      " 13%|█▎        | 2/15 [00:01<00:11,  1.15it/s]]\n",
      "  7%|▋         | 3/45 [00:02<00:33,  1.27it/s]\n",
      " 37%|███▋      | 7/19 [00:05<00:10,  1.14it/s]]\n",
      " 33%|███▎      | 12/36 [00:08<00:20,  1.17it/s]\n",
      "  6%|▌         | 1/18 [00:00<00:15,  1.10it/s]]\n",
      "  9%|▉         | 3/34 [00:02<00:25,  1.22it/s]]\n",
      "100%|██████████| 1/1 [00:01<00:00,  1.00s/it]s]"
     ]
    },
    {
     "name": "stdout",
     "output_type": "stream",
     "text": [
      "File not found!\n"
     ]
    },
    {
     "name": "stderr",
     "output_type": "stream",
     "text": [
      " 94%|█████████▍| 15/16 [00:08<00:00,  1.09it/s]"
     ]
    },
    {
     "name": "stdout",
     "output_type": "stream",
     "text": [
      "File not found!\n"
     ]
    },
    {
     "name": "stderr",
     "output_type": "stream",
     "text": [
      " 19%|█▉        | 10/52 [00:06<00:33,  1.24it/s]\n",
      "  0%|          | 0/2 [00:00<?, ?it/s].20it/s]]\n",
      " 36%|███▌      | 14/39 [00:08<00:20,  1.19it/s]]\n",
      "100%|██████████| 2/2 [00:01<00:00,  1.09it/s]s]\n",
      " 57%|█████▋    | 4/7 [00:03<00:02,  1.15it/s]\n",
      " 13%|█▎        | 2/15 [00:01<00:11,  1.14it/s]]\n",
      "\n",
      " 33%|███▎      | 5/15 [00:04<00:08,  1.19it/s]]\n",
      " 52%|█████▏    | 12/23 [00:08<00:09,  1.16it/s]\n",
      " 80%|████████  | 8/10 [00:06<00:01,  1.13it/s]]]\n",
      "100%|██████████| 6/6 [00:05<00:00,  1.11it/s]s]\n",
      "100%|██████████| 9/9 [00:07<00:00,  1.17it/s]s]\n",
      "100%|██████████| 14/14 [00:09<00:00,  1.08it/s]\n",
      " 84%|████████▍ | 16/19 [00:10<00:02,  1.07it/s]\n",
      "100%|██████████| 1/1 [00:00<00:00,  1.28it/s]]\n",
      " 17%|█▋        | 12/69 [00:08<00:49,  1.14it/s]\n",
      " 93%|█████████▎| 13/14 [00:09<00:00,  1.03it/s]\n",
      " 20%|██        | 4/20 [00:03<00:14,  1.08it/s]]\n",
      " 41%|████      | 16/39 [00:10<00:19,  1.17it/s]\n",
      " 62%|██████▏   | 13/21 [00:10<00:07,  1.04it/s]\n",
      " 62%|██████▏   | 8/13 [00:07<00:04,  1.04it/s]]]\n",
      " 64%|██████▎   | 14/22 [00:10<00:07,  1.04it/s]"
     ]
    },
    {
     "name": "stdout",
     "output_type": "stream",
     "text": [
      "File not found!\n"
     ]
    },
    {
     "name": "stderr",
     "output_type": "stream",
     "text": [
      "\n",
      " 52%|█████▏    | 16/31 [00:10<00:13,  1.07it/s]"
     ]
    },
    {
     "name": "stdout",
     "output_type": "stream",
     "text": [
      "File not found!\n"
     ]
    },
    {
     "name": "stderr",
     "output_type": "stream",
     "text": [
      "  2%|▏         | 1/53 [00:00<00:47,  1.09it/s]]\n",
      " 61%|██████    | 14/23 [00:10<00:08,  1.04it/s]\n",
      "100%|██████████| 14/14 [00:11<00:00,  1.26it/s]\n",
      " 50%|█████     | 4/8 [00:03<00:03,  1.05it/s]]]]\n",
      " 11%|█         | 1/9 [00:00<00:07,  1.05it/s]]]\n",
      "  0%|          | 0/16 [00:00<?, ?it/s]1.00s/it]\n",
      "  5%|▌         | 3/57 [00:02<00:51,  1.05it/s]]\n",
      "100%|██████████| 4/4 [00:03<00:00,  1.08it/s]s]\n",
      "  9%|▉         | 1/11 [00:00<00:09,  1.06it/s]\n",
      " 34%|███▍      | 18/53 [00:12<00:30,  1.15it/s]\n",
      " 52%|█████▏    | 11/21 [00:09<00:08,  1.12it/s]\n",
      "100%|██████████| 11/11 [00:10<00:00,  1.02s/it]]"
     ]
    },
    {
     "name": "stdout",
     "output_type": "stream",
     "text": [
      "File not found!\n"
     ]
    },
    {
     "name": "stderr",
     "output_type": "stream",
     "text": [
      " 31%|███▏      | 5/16 [00:04<00:10,  1.01it/s]]"
     ]
    },
    {
     "name": "stdout",
     "output_type": "stream",
     "text": [
      "File not found!\n"
     ]
    },
    {
     "name": "stderr",
     "output_type": "stream",
     "text": [
      " 25%|██▍       | 13/53 [00:10<00:37,  1.06it/s]\n",
      "  0%|          | 0/10 [00:00<?, ?it/s]1.20it/s]\n",
      " 20%|██        | 5/25 [00:04<00:19,  1.02it/s]]\n",
      " 22%|██▏       | 7/32 [00:06<00:25,  1.03s/it]]\n",
      " 32%|███▎      | 13/40 [00:10<00:25,  1.04it/s]\n",
      "100%|██████████| 16/16 [00:12<00:00,  1.26it/s]\n",
      " 12%|█▏        | 3/26 [00:02<00:22,  1.01it/s]]\n",
      "  0%|          | 0/1 [00:00<?, ?it/s] 1.01s/it]\n",
      "\n",
      " 63%|██████▎   | 12/19 [00:10<00:06,  1.02it/s]\n",
      " 70%|██████▉   | 16/23 [00:12<00:07,  1.00s/it]\n",
      " 76%|███████▌  | 16/21 [00:13<00:04,  1.01it/s]]\n",
      "  4%|▍         | 1/23 [00:00<00:20,  1.09it/s]]\n",
      " 24%|██▍       | 6/25 [00:05<00:18,  1.02it/s]]\n",
      "100%|██████████| 4/4 [00:03<00:00,  1.06it/s]t]\n",
      " 56%|█████▌    | 5/9 [00:04<00:04,  1.00s/it]t]\n",
      " 60%|██████    | 12/20 [00:11<00:08,  1.06s/it]\n",
      "100%|██████████| 7/7 [00:06<00:00,  1.03it/s]t]]\n",
      " 44%|████▍     | 7/16 [00:06<00:08,  1.04it/s]\n",
      " 18%|█▊        | 3/17 [00:03<00:14,  1.04s/it]]\n",
      " 95%|█████████▌| 19/20 [00:15<00:01,  1.07s/it]\n",
      " 53%|█████▎    | 19/36 [00:15<00:16,  1.00it/s]\n",
      " 31%|███▏      | 10/32 [00:09<00:21,  1.02it/s]\n",
      " 30%|███       | 16/53 [00:13<00:37,  1.00s/it]]\n",
      " 48%|████▊     | 14/29 [00:12<00:15,  1.04s/it]\n",
      "100%|██████████| 6/6 [00:06<00:00,  1.05s/it]s]\n",
      "  0%|          | 0/7 [00:00<?, ?it/s]1.03s/it]]\n",
      " 73%|███████▎  | 16/22 [00:13<00:06,  1.02s/it]\n",
      " 47%|████▋     | 8/17 [00:08<00:09,  1.04s/it]]\n",
      "100%|██████████| 12/12 [00:11<00:00,  1.01it/s]]\n",
      "100%|██████████| 6/6 [00:06<00:00,  1.07s/it]]]\n",
      " 90%|█████████ | 19/21 [00:16<00:02,  1.10s/it]\n",
      " 60%|██████    | 6/10 [00:06<00:04,  1.13s/it]\n",
      " 35%|███▍      | 18/52 [00:15<00:36,  1.06s/it]"
     ]
    },
    {
     "name": "stdout",
     "output_type": "stream",
     "text": [
      "File not found!\n"
     ]
    },
    {
     "name": "stderr",
     "output_type": "stream",
     "text": [
      "100%|██████████| 1/1 [00:01<00:00,  1.24s/it]t]\n",
      " 42%|████▎     | 17/40 [00:15<00:25,  1.09s/it]\n",
      " 16%|█▌        | 3/19 [00:03<00:17,  1.10s/it]\n",
      " 55%|█████▍    | 6/11 [00:06<00:05,  1.04s/it]\n",
      " 40%|████      | 2/5 [00:02<00:03,  1.18s/it]t]"
     ]
    },
    {
     "name": "stdout",
     "output_type": "stream",
     "text": [
      "File not found!\n"
     ]
    },
    {
     "name": "stderr",
     "output_type": "stream",
     "text": [
      " 69%|██████▉   | 9/13 [00:09<00:04,  1.08s/it]]\n",
      "\n",
      " 50%|█████     | 10/20 [00:10<00:10,  1.07s/it]]\n",
      " 80%|████████  | 12/15 [00:11<00:03,  1.02s/it]\n",
      " 80%|████████  | 4/5 [00:04<00:01,  1.01s/it]t]\n",
      " 62%|██████▏   | 8/13 [00:08<00:05,  1.08s/it]]\n",
      "100%|██████████| 1/1 [00:01<00:00,  1.17s/it]t]\n",
      "  6%|▋         | 1/16 [00:01<00:16,  1.12s/it]]\n",
      "\n",
      "100%|██████████| 4/4 [00:04<00:00,  1.10s/it]it]\n",
      " 61%|██████    | 11/18 [00:11<00:07,  1.09s/it]\n",
      "  0%|          | 0/1 [00:00<?, ?it/s]1.09s/it]\n",
      " 21%|██        | 5/24 [00:05<00:21,  1.15s/it]]\n",
      " 69%|██████▊   | 24/35 [00:19<00:11,  1.09s/it]\n",
      " 44%|████▍     | 7/16 [00:07<00:09,  1.08s/it]\n",
      "100%|██████████| 21/21 [00:18<00:00,  1.15s/it]\n",
      "\n",
      " 41%|████      | 14/34 [00:13<00:20,  1.00s/it]\n",
      " 80%|████████  | 4/5 [00:04<00:01,  1.12s/it]t]\n",
      " 89%|████████▉ | 8/9 [00:08<00:01,  1.13s/it]]]\n",
      " 50%|█████     | 2/4 [00:02<00:02,  1.08s/it]]]\n",
      " 38%|███▊      | 3/8 [00:03<00:05,  1.15s/it]]]\n",
      " 32%|███▏      | 6/19 [00:06<00:14,  1.08s/it]\n",
      "\n",
      " 67%|██████▋   | 2/3 [00:02<00:01,  1.09s/it]t]\n",
      " 30%|███       | 21/69 [00:18<00:52,  1.10s/it]"
     ]
    },
    {
     "name": "stdout",
     "output_type": "stream",
     "text": [
      "File not found!\n"
     ]
    },
    {
     "name": "stderr",
     "output_type": "stream",
     "text": [
      "\n",
      "100%|██████████| 2/2 [00:02<00:00,  1.03s/it]]]\n",
      " 67%|██████▋   | 4/6 [00:04<00:02,  1.17s/it]t]]\n",
      "\n",
      " 38%|███▊      | 20/53 [00:18<00:35,  1.08s/it]\n",
      " 20%|██        | 2/10 [00:02<00:09,  1.17s/it]]\n",
      " 49%|████▉     | 20/41 [00:18<00:22,  1.07s/it]\n",
      " 50%|█████     | 4/8 [00:04<00:04,  1.12s/it]]]\n",
      " 92%|█████████▏| 12/13 [00:12<00:01,  1.10s/it]\n",
      " 67%|██████▋   | 24/36 [00:20<00:12,  1.08s/it]"
     ]
    },
    {
     "name": "stdout",
     "output_type": "stream",
     "text": [
      "File not found!\n"
     ]
    },
    {
     "name": "stderr",
     "output_type": "stream",
     "text": [
      " 82%|████████▏ | 18/22 [00:17<00:04,  1.11s/it]"
     ]
    },
    {
     "name": "stdout",
     "output_type": "stream",
     "text": [
      "File not found!\n"
     ]
    },
    {
     "name": "stderr",
     "output_type": "stream",
     "text": [
      "  0%|          | 0/7 [00:00<?, ?it/s]1.10s/it]\n",
      "100%|██████████| 1/1 [00:01<00:00,  1.02s/it]]\n",
      "100%|██████████| 1/1 [00:01<00:00,  1.05s/it]t]\n",
      "  0%|          | 0/1 [00:00<?, ?it/s]1.11s/it]]]\n",
      " 14%|█▍        | 7/49 [00:07<00:45,  1.09s/it]]\n",
      " 40%|███▉      | 21/53 [00:19<00:34,  1.09s/it]\n",
      "\n",
      " 42%|████▏     | 22/52 [00:19<00:31,  1.05s/it]\n",
      " 70%|███████   | 14/20 [00:14<00:06,  1.11s/it]\n",
      "100%|██████████| 1/1 [00:01<00:00,  1.13s/it]\n",
      "100%|██████████| 2/2 [00:01<00:00,  1.03it/s]t]\n",
      "100%|██████████| 1/1 [00:00<00:00,  1.15it/s]t]\n",
      " 80%|████████  | 8/10 [00:08<00:02,  1.09s/it]]\n",
      " 84%|████████▍ | 26/31 [00:21<00:05,  1.11s/it]\n",
      "100%|██████████| 1/1 [00:00<00:00,  1.10it/s]t]\n",
      "100%|██████████| 4/4 [00:04<00:00,  1.07s/it]\n",
      " 36%|███▌      | 16/45 [00:15<00:30,  1.04s/it]\n",
      "  0%|          | 0/21 [00:00<?, ?it/s]1.05s/it]\n",
      " 36%|███▌      | 5/14 [00:05<00:09,  1.08s/it]]\n",
      " 14%|█▍        | 1/7 [00:00<00:05,  1.00it/s]]"
     ]
    },
    {
     "name": "stdout",
     "output_type": "stream",
     "text": [
      "File not found!\n"
     ]
    },
    {
     "name": "stderr",
     "output_type": "stream",
     "text": [
      "100%|██████████| 1/1 [00:01<00:00,  1.03s/it]it]\n",
      " 94%|█████████▍| 16/17 [00:16<00:01,  1.05s/it]\n",
      "  0%|          | 0/39 [00:00<?, ?it/s]1.03s/it]\n",
      " 46%|████▌     | 12/26 [00:12<00:14,  1.02s/it]\n",
      " 33%|███▎      | 8/24 [00:08<00:17,  1.10s/it]]\n",
      "100%|██████████| 15/15 [00:15<00:00,  1.02s/it]\n",
      " 67%|██████▋   | 2/3 [00:02<00:01,  1.06s/it]t]\n",
      " 75%|███████▌  | 9/12 [00:10<00:03,  1.13s/it]]\n",
      " 42%|████▏     | 8/19 [00:08<00:11,  1.06s/it]]\n",
      " 67%|██████▋   | 6/9 [00:05<00:02,  1.04it/s]t]\n",
      "  4%|▍         | 3/78 [00:02<01:12,  1.04it/s]]\n",
      " 22%|██▏       | 10/46 [00:11<00:41,  1.14s/it]"
     ]
    },
    {
     "name": "stdout",
     "output_type": "stream",
     "text": [
      "File not found!\n"
     ]
    },
    {
     "name": "stderr",
     "output_type": "stream",
     "text": [
      "  2%|▏         | 1/63 [00:00<00:58,  1.06it/s]]]\n",
      "\n",
      " 60%|██████    | 15/25 [00:15<00:10,  1.01s/it]\n",
      " 46%|████▌     | 24/52 [00:21<00:28,  1.01s/it]\n",
      " 34%|███▍      | 11/32 [00:11<00:21,  1.02s/it]\n",
      " 78%|███████▊  | 7/9 [00:06<00:01,  1.07it/s]t]\n",
      "100%|██████████| 7/7 [00:07<00:00,  1.09s/it]]\n",
      " 75%|███████▌  | 27/36 [00:23<00:09,  1.01s/it]\n",
      " 58%|█████▊    | 11/19 [00:10<00:07,  1.10it/s]"
     ]
    },
    {
     "name": "stdout",
     "output_type": "stream",
     "text": [
      "File not found!\n"
     ]
    },
    {
     "name": "stderr",
     "output_type": "stream",
     "text": [
      " 18%|█▊        | 28/152 [00:23<02:01,  1.02it/s]"
     ]
    },
    {
     "name": "stdout",
     "output_type": "stream",
     "text": [
      "File not found!\n"
     ]
    },
    {
     "name": "stderr",
     "output_type": "stream",
     "text": [
      " 25%|██▍       | 14/57 [00:14<00:44,  1.03s/it]\n",
      " 67%|██████▋   | 16/24 [00:16<00:07,  1.00it/s]\n",
      " 78%|███████▊  | 7/9 [00:07<00:02,  1.07s/it]s]\n",
      "100%|██████████| 22/22 [00:21<00:00,  1.09s/it]\n",
      "  0%|          | 0/24 [00:00<?, ?it/s]1.03s/it]\n",
      "100%|██████████| 1/1 [00:00<00:00,  1.15it/s]s]\n",
      " 52%|█████▏    | 29/56 [00:24<00:26,  1.01it/s]\n",
      "\n",
      "100%|██████████| 8/8 [00:08<00:00,  1.06s/it]t]\n",
      " 13%|█▎        | 3/23 [00:03<00:20,  1.00s/it]]\n",
      " 55%|█████▌    | 31/56 [00:25<00:22,  1.12it/s]]\n",
      "100%|██████████| 9/9 [00:08<00:00,  1.03it/s]]]\n",
      " 10%|▉         | 3/31 [00:03<00:27,  1.00it/s]\n",
      " 30%|███       | 21/69 [00:21<00:49,  1.04s/it]\n",
      " 80%|████████  | 12/15 [00:12<00:03,  1.04s/it]]\n",
      " 62%|██████▎   | 20/32 [00:20<00:12,  1.05s/it]\n",
      " 52%|█████▏    | 27/52 [00:24<00:26,  1.05s/it]\n",
      " 60%|██████    | 6/10 [00:05<00:03,  1.03it/s]]\n",
      " 90%|█████████ | 9/10 [00:08<00:00,  1.02it/s]]\n",
      " 96%|█████████▋| 26/27 [00:25<00:01,  1.03s/it]]\n",
      "\n",
      "100%|██████████| 4/4 [00:03<00:00,  1.05it/s]\n",
      " 22%|██▏       | 2/9 [00:02<00:07,  1.01s/it]s]\n",
      " 24%|██▍       | 5/21 [00:05<00:16,  1.03s/it]]\n",
      " 17%|█▋        | 2/12 [00:01<00:09,  1.00it/s]]\n",
      " 86%|████████▋ | 32/37 [00:27<00:05,  1.01s/it]\n",
      "\n",
      " 88%|████████▊ | 15/17 [00:16<00:02,  1.07s/it]\n",
      "100%|██████████| 1/1 [00:01<00:00,  1.01s/it]\n",
      "100%|██████████| 3/3 [00:03<00:00,  1.01s/it]]]\n",
      "100%|██████████| 2/2 [00:01<00:00,  1.09it/s]\n",
      "100%|██████████| 25/25 [00:25<00:00,  1.00s/it]\n",
      " 42%|████▏     | 5/12 [00:04<00:06,  1.02it/s]\n",
      " 83%|████████▎ | 20/24 [00:20<00:04,  1.01s/it]\n",
      "100%|██████████| 17/17 [00:17<00:00,  1.00s/it]\n",
      " 21%|██        | 32/152 [00:28<02:07,  1.06s/it]\n",
      " 15%|█▌        | 6/39 [00:05<00:32,  1.03it/s]]\n",
      " 62%|██████▎   | 5/8 [00:04<00:02,  1.12it/s]t]\n",
      " 80%|████████  | 8/10 [00:07<00:01,  1.06it/s]]\n",
      " 64%|██████▍   | 34/53 [00:28<00:19,  1.05s/it]\n",
      " 27%|██▋       | 3/11 [00:02<00:07,  1.03it/s]]\n",
      "  7%|▋         | 4/61 [00:03<00:52,  1.09it/s]]\n",
      " 33%|███▎      | 7/21 [00:06<00:13,  1.05it/s]]]\n",
      " 45%|████▌     | 5/11 [00:04<00:05,  1.03it/s]]\n",
      " 90%|████████▉ | 35/39 [00:29<00:03,  1.07it/s]\n",
      " 77%|███████▋  | 20/26 [00:19<00:05,  1.18it/s]\n",
      " 78%|███████▊  | 18/23 [00:18<00:04,  1.06it/s]\n",
      " 33%|███▎      | 16/49 [00:16<00:32,  1.03it/s]"
     ]
    },
    {
     "name": "stdout",
     "output_type": "stream",
     "text": [
      "File not found!\n"
     ]
    },
    {
     "name": "stderr",
     "output_type": "stream",
     "text": [
      "100%|██████████| 35/35 [00:30<00:00,  1.16it/s]]\n",
      " 69%|██████▉   | 9/13 [00:08<00:03,  1.11it/s]\n",
      " 88%|████████▊ | 7/8 [00:06<00:00,  1.12it/s]s]\n",
      " 75%|███████▌  | 24/32 [00:24<00:07,  1.03it/s]\n",
      " 26%|██▌       | 8/31 [00:07<00:19,  1.15it/s]]\n",
      "100%|██████████| 30/30 [00:28<00:00,  1.06it/s]\n",
      " 50%|█████     | 5/10 [00:04<00:04,  1.15it/s]]\n",
      " 40%|████      | 19/47 [00:18<00:25,  1.09it/s]]\n",
      " 58%|█████▊    | 26/45 [00:24<00:16,  1.15it/s]\n",
      " 78%|███████▊  | 25/32 [00:24<00:06,  1.06it/s]\n",
      " 82%|████████▏ | 28/34 [00:25<00:04,  1.46it/s]\n",
      " 57%|█████▋    | 12/21 [00:10<00:06,  1.37it/s]]\n",
      " 33%|███▎      | 10/30 [00:09<00:16,  1.20it/s]"
     ]
    },
    {
     "name": "stdout",
     "output_type": "stream",
     "text": [
      "File not found!\n"
     ]
    },
    {
     "name": "stderr",
     "output_type": "stream",
     "text": [
      " 62%|██████▏   | 28/45 [00:26<00:13,  1.31it/s]\n",
      " 71%|███████   | 12/17 [00:10<00:03,  1.28it/s]\n",
      " 35%|███▍      | 9/26 [00:08<00:13,  1.27it/s]]]"
     ]
    },
    {
     "name": "stdout",
     "output_type": "stream",
     "text": [
      "File not found!\n"
     ]
    },
    {
     "name": "stderr",
     "output_type": "stream",
     "text": [
      "100%|██████████| 25/25 [00:24<00:00,  1.02it/s]\n",
      " 88%|████████▊ | 30/34 [00:26<00:02,  1.52it/s]\n",
      " 15%|█▍        | 9/61 [00:07<00:38,  1.34it/s]]\n",
      " 92%|█████████▏| 11/12 [00:09<00:00,  1.31it/s]\n",
      " 41%|████      | 20/49 [00:19<00:22,  1.32it/s]\n",
      " 92%|█████████▏| 24/26 [00:22<00:01,  1.31it/s]\n",
      " 42%|████▏     | 35/83 [00:31<00:36,  1.31it/s]\n",
      "100%|██████████| 37/37 [00:32<00:00,  1.27it/s]"
     ]
    },
    {
     "name": "stdout",
     "output_type": "stream",
     "text": [
      "File not found!\n"
     ]
    },
    {
     "name": "stderr",
     "output_type": "stream",
     "text": [
      " 38%|███▊      | 10/26 [00:08<00:11,  1.35it/s]\n",
      " 67%|██████▋   | 14/21 [00:11<00:04,  1.68it/s]\n",
      " 46%|████▌     | 11/24 [00:09<00:09,  1.43it/s]]\n",
      "100%|██████████| 23/23 [00:22<00:00,  1.04it/s]\n",
      "\n",
      " 45%|████▌     | 10/22 [00:07<00:07,  1.54it/s]]\n",
      " 89%|████████▉ | 24/27 [00:22<00:01,  1.53it/s]\n",
      " 52%|█████▏    | 24/46 [00:22<00:14,  1.55it/s]"
     ]
    },
    {
     "name": "stdout",
     "output_type": "stream",
     "text": [
      "File not found!\n"
     ]
    },
    {
     "name": "stderr",
     "output_type": "stream",
     "text": [
      " 50%|█████     | 11/22 [00:07<00:06,  1.73it/s]\n",
      " 41%|████▏     | 26/63 [00:22<00:20,  1.77it/s]]\n",
      " 94%|█████████▍| 16/17 [00:12<00:00,  1.75it/s]\n",
      " 97%|█████████▋| 31/32 [00:28<00:00,  1.68it/s]\n",
      "100%|██████████| 10/10 [00:07<00:00,  1.25it/s]\n",
      " 20%|█▉        | 12/61 [00:09<00:33,  1.48it/s]\n",
      " 27%|██▋       | 41/152 [00:34<01:13,  1.52it/s]\n",
      "100%|██████████| 13/13 [00:09<00:00,  1.38it/s]\n",
      " 80%|████████  | 20/25 [00:16<00:02,  2.01it/s]\n",
      "100%|██████████| 24/24 [00:21<00:00,  1.11it/s]]\n",
      "\n",
      " 44%|████▎     | 17/39 [00:12<00:11,  1.90it/s]\n",
      " 28%|██▊       | 43/152 [00:35<00:58,  1.85it/s]\n",
      " 82%|████████▏ | 46/56 [00:36<00:04,  2.18it/s]]\n",
      " 71%|███████   | 17/24 [00:12<00:03,  1.97it/s]\n",
      " 92%|█████████▏| 23/25 [00:17<00:00,  2.10it/s]\n",
      " 54%|█████▍    | 45/83 [00:35<00:15,  2.48it/s]]\n",
      " 89%|████████▉ | 50/56 [00:37<00:02,  2.26it/s]]\n",
      " 58%|█████▊    | 33/57 [00:28<00:10,  2.22it/s]\n",
      "100%|██████████| 23/23 [00:15<00:00,  1.50it/s]\n",
      " 59%|█████▉    | 23/39 [00:15<00:05,  2.71it/s]\n",
      "100%|██████████| 32/32 [00:25<00:00,  1.25it/s]]\n",
      " 70%|██████▉   | 48/69 [00:36<00:07,  2.77it/s]]\n",
      " 95%|█████████▍| 53/56 [00:38<00:01,  2.66it/s]]"
     ]
    },
    {
     "name": "stdout",
     "output_type": "stream",
     "text": [
      "File not found!\n"
     ]
    },
    {
     "name": "stderr",
     "output_type": "stream",
     "text": [
      "100%|██████████| 53/53 [00:38<00:00,  1.37it/s]]\n",
      "100%|██████████| 56/56 [00:38<00:00,  3.28it/s]]\n",
      " 92%|█████████▏| 49/53 [00:36<00:01,  3.29it/s]\n",
      " 74%|███████▍  | 51/69 [00:37<00:05,  3.33it/s]\n",
      " 78%|███████▊  | 36/46 [00:27<00:03,  3.07it/s]"
     ]
    },
    {
     "name": "stdout",
     "output_type": "stream",
     "text": [
      "File not found!\n"
     ]
    },
    {
     "name": "stderr",
     "output_type": "stream",
     "text": [
      " 44%|████▍     | 28/63 [00:16<00:10,  3.19it/s]]\n",
      " 75%|███████▌  | 52/69 [00:37<00:04,  3.59it/s]\n",
      " 76%|███████▌  | 37/49 [00:25<00:03,  3.30it/s]]\n",
      " 48%|████▊     | 30/63 [00:17<00:08,  3.68it/s]]\n",
      " 78%|███████▊  | 54/69 [00:38<00:03,  4.09it/s]\n",
      " 38%|███▊      | 57/152 [00:39<00:22,  4.15it/s]\n",
      "\n",
      " 97%|█████████▋| 32/33 [00:17<00:00,  4.42it/s]]\n",
      "100%|██████████| 32/32 [00:17<00:00,  1.79it/s]\n",
      " 87%|████████▋ | 46/53 [00:30<00:01,  4.35it/s]]\n",
      "100%|██████████| 47/47 [00:28<00:00,  1.64it/s]]\n",
      "100%|██████████| 46/46 [00:29<00:00,  1.57it/s]]\n",
      "100%|██████████| 39/39 [00:18<00:00,  2.09it/s]]\n",
      "100%|██████████| 49/49 [00:27<00:00,  1.76it/s]]\n",
      "\n",
      "100%|██████████| 69/69 [00:40<00:00,  1.70it/s]]\n",
      "100%|██████████| 57/57 [00:33<00:00,  1.72it/s]]\n",
      "100%|██████████| 63/63 [00:31<00:00,  2.02it/s]]\n",
      "100%|██████████| 69/69 [00:38<00:00,  1.81it/s]]\n",
      "100%|██████████| 83/83 [00:42<00:00,  1.97it/s]]\n",
      "100%|██████████| 63/63 [00:21<00:00,  2.94it/s]]\n",
      "100%|██████████| 61/61 [00:18<00:00,  3.30it/s]\n",
      "100%|██████████| 78/78 [00:24<00:00,  3.15it/s]s]\n",
      "100%|██████████| 152/152 [00:48<00:00,  3.10it/s]\n"
     ]
    }
   ],
   "source": [
    "import os, time\n",
    "import numpy as np\n",
    "import pandas as pd\n",
    "import config.hyperparams as hp\n",
    "from tqdm.notebook import trange, tqdm\n",
    "from entities.solver_process import SolverProcess  \n",
    "from lib.common import disarrange\n",
    "import powerlaw\n",
    "import matplotlib.pyplot as plt\n",
    "import seaborn as sns\n",
    "import datetime as dt\n",
    "from multiprocessing import Queue\n",
    "from lib import wlanlrz_loader, rtt_matrix_loader, inference_loader, solver\n",
    "\n",
    "### WLAN-LRZ AP Data Loader ####\n",
    "desc = wlanlrz_loader.load_data_description(hp.AP_DESCR)\n",
    "original_data, coord_dataframe_list, total_ap, original_merged_raw_ap_data = \\\n",
    "wlanlrz_loader.load_data_parallel(hp.BUILDING, desc, mass_load=True)"
   ]
  },
  {
   "cell_type": "code",
   "execution_count": 2,
   "metadata": {},
   "outputs": [],
   "source": [
    "def start_solver(agents, edge_nodes, rtt_matrix, merged_raw_ap_data, cloud_only=False):\n",
    "    if cloud_only:\n",
    "        env, agents_a, edge_nodes_e, convergence_time, _ = \\\n",
    "            solver.algorithm_cloud(agents, edge_nodes, 5, 4, 100, None, None, rtt_matrix, merged_raw_ap_data, suppress_output=True)\n",
    "    else:\n",
    "        env, agents_a, edge_nodes_e, convergence_time, _ = \\\n",
    "            solver.algorithm_v3(agents, edge_nodes, 5, 4, 100, None, None, rtt_matrix, merged_raw_ap_data, suppress_output=True)\n",
    "\n",
    "    result = (env, agents_a, edge_nodes_e, convergence_time)\n",
    "\n",
    "    if hp.STORE_RESULTS:\n",
    "        env.episodes_tracker[:,:,episode]\n",
    "        np.savetxt(hp.CSV_FOLDER + '/' + str(episode) + '.csv', env.episodes_tracker[:,:,episode], delimiter=',')\n",
    "    \n",
    "    return result\n"
   ]
  },
  {
   "cell_type": "code",
   "execution_count": 3,
   "metadata": {
    "scrolled": true
   },
   "outputs": [
    {
     "name": "stdout",
     "output_type": "stream",
     "text": [
      "Total APs: 4371\n",
      " === Iteration 0 for MA 4048 ===\n",
      "Loading rtt matrix from dataset\n",
      "Starting the solver\n",
      "κ: 1\n",
      "κ: 5\n",
      "κ: 10\n",
      "κ: 25\n",
      "κ: 50\n",
      "κ: 75\n",
      "κ: 100\n",
      "κ: 0\n",
      " === Iteration 1 for MA 4048 ===\n",
      "Loading rtt matrix from dataset\n",
      "Starting the solver\n",
      "κ: 1\n",
      "κ: 5\n",
      "κ: 10\n",
      "κ: 25\n",
      "κ: 50\n",
      "κ: 75\n",
      "κ: 100\n",
      "κ: 0\n",
      " === Iteration 2 for MA 4048 ===\n",
      "Loading rtt matrix from dataset\n",
      "Starting the solver\n",
      "κ: 1\n",
      "κ: 5\n",
      "κ: 10\n",
      "κ: 25\n",
      "κ: 50\n",
      "κ: 75\n",
      "κ: 100\n",
      "κ: 0\n",
      " === Iteration 3 for MA 4048 ===\n",
      "Loading rtt matrix from dataset\n",
      "Starting the solver\n",
      "κ: 1\n",
      "κ: 5\n",
      "κ: 10\n",
      "κ: 25\n",
      "κ: 50\n",
      "κ: 75\n",
      "κ: 100\n",
      "κ: 0\n"
     ]
    }
   ],
   "source": [
    "from lib.common import generate_agents, generate_edge_nodes\n",
    "\n",
    "T1_RATIO_VEC_ABS = np.array([350, 250, 150, 100])\n",
    "T2_RATIO_VEC_ABS = np.array([200, 100, 50, 25])\n",
    "T3_RATIO_VEC_ABS = np.array([10, 5, 2, 0])\n",
    "\n",
    "TARGET_MA = 4000\n",
    "dim = 0\n",
    "iterations = 20\n",
    "\n",
    "k = [1,5,10,25,50,75,100,0]\n",
    "# LABELS = [1, 5, 10, 25, 50, 75, 100, TOTAL_EN]\n",
    "result_kl = []\n",
    "\n",
    "RESULTS = []\n",
    "\n",
    "print(\"Total APs: {}\".format(total_ap))\n",
    "original_data['timestamp'] = original_data.index\n",
    "\n",
    "# Filter the dataser based on the minimum amount of users we want to serve\n",
    "data = original_data[(original_data.total >= TARGET_MA) & (original_data.total < (TARGET_MA*1.1))].sample()\n",
    "merged_raw_ap_data = original_merged_raw_ap_data[original_merged_raw_ap_data.index.isin(data.index)]\n",
    "merged_raw_ap_data = merged_raw_ap_data.loc[:, (merged_raw_ap_data > 0).all()]\n",
    "\n",
    "MA = int(data.total)\n",
    "total_ap = len(merged_raw_ap_data.columns)\n",
    "\n",
    "for experiments in range(len(T1_RATIO_VEC_ABS)):    \n",
    "\n",
    "    print(\" === Iteration {} for MA {} ===\".format(experiments, MA))\n",
    "\n",
    "    #TIER_1_EN = int(round(total_ap * T1_RATIO_VEC_REL[experiments]))\n",
    "    #TIER_2_EN = int(T2_RATIO_VEC_REL[experiments] * MA)\n",
    "    #TIER_3_EN = int(T3_RATIO_VEC_REL[experiments] * MA)\n",
    "\n",
    "    TIER_1_EN = T1_RATIO_VEC_ABS[experiments]\n",
    "    TIER_2_EN = T2_RATIO_VEC_ABS[experiments]\n",
    "    TIER_3_EN = T3_RATIO_VEC_ABS[experiments]\n",
    "\n",
    "    EN_RATIO = (TIER_1_EN, TIER_2_EN, TIER_3_EN)\n",
    "    TOTAL_EN = int(TIER_1_EN + TIER_2_EN + TIER_3_EN)\n",
    "\n",
    "    if hp.STORE_RESULTS:\n",
    "        try:\n",
    "            os.mkdir(hp.CSV_FOLDER)\n",
    "        except OSError:\n",
    "            print (\"Creation of the directory %s failed\" % hp.CSV_FOLDER)\n",
    "        else:\n",
    "            print (\"Successfully created the directory %s \" % hp.CSV_FOLDER)\n",
    "\n",
    "    if hp.dataset_rtt:\n",
    "        ### LOAD LATENCY MATRIX FROM DATASET ###\n",
    "        print(\"Loading rtt matrix from dataset\")\n",
    "        clf = rtt_matrix_loader.analyze_data(source=hp.dataset_rtt, drange=1000, threshold=250, k=3)\n",
    "        clf.weights_ = [0.2, 0.2, 0.6]\n",
    "        rtt_matrix = rtt_matrix_loader.generate_data(clf, n=total_ap, m=TOTAL_EN)\n",
    "    else:\n",
    "        # Prepare latency matrixes for all the EN classes with increasing latency based on distance from the edge \n",
    "        rtt_matrix_en_t1 = np.round(abs(np.random.normal(1, 0.2, (TIER_1_EN, TIER_1_EN))))\n",
    "        rtt_matrix_en_t2 = np.round(abs(np.random.normal(3, 1, (TIER_1_EN, TIER_2_EN))))\n",
    "        rtt_matrix_en_t3 = np.round(abs(np.random.normal(10, 1, (TIER_1_EN, TIER_3_EN))))\n",
    "\n",
    "        sns.distplot(rtt_matrix_en_t1.flatten(), hist=False, rug=True)\n",
    "        sns.distplot(rtt_matrix_en_t2.flatten(), hist=False, rug=True)\n",
    "        sns.distplot(rtt_matrix_en_t3.flatten(), hist=False, rug=True)\n",
    "\n",
    "        rtt_matrix = np.hstack([rtt_matrix_en_t1, rtt_matrix_en_t2, rtt_matrix_en_t3])\n",
    "\n",
    "    disarrange(rtt_matrix, axis=0)\n",
    "\n",
    "    # Manually setting latency for colocated AP/EN\n",
    "    for i in range(round(TIER_1_EN)):\n",
    "        rtt_matrix[i][i] = 1\n",
    "\n",
    "    # print(\"Plotting and saving RTT matrix\")\n",
    "    # fig, ax = plt.subplots(1, 1, figsize=(8, 8))\n",
    "    # sns.heatmap(rtt_matrix, ax=ax)\n",
    "    # fig.tight_layout(w_pad=1.5)\n",
    "    # fig.savefig(\"../plots/rtt_matrix.pdf\")\n",
    "\n",
    "    print(\"Starting the solver\")\n",
    "\n",
    "    for ke in k:\n",
    "        hp.local_search_scope = ke\n",
    "        print(\"κ: {}\".format(ke))\n",
    "\n",
    "        for i in range(iterations):\n",
    "            agents = generate_agents(MA, merged_raw_ap_data, dim)\n",
    "            edge_nodes = generate_edge_nodes(EN_RATIO, merged_raw_ap_data, dim)\n",
    "            result_kl.append(start_solver(agents, edge_nodes, rtt_matrix, merged_raw_ap_data))\n"
   ]
  },
  {
   "cell_type": "code",
   "execution_count": 4,
   "metadata": {},
   "outputs": [
    {
     "data": {
      "image/png": "[encoded data removed]",
      "text/plain": [
       "<Figure size 1152x288 with 8 Axes>"
      ]
     },
     "metadata": {
      "needs_background": "light"
     },
     "output_type": "display_data"
    }
   ],
   "source": [
    "from entities.mobile_agent import Offloaded\n",
    "\n",
    "fig, ax = plt.subplots(1,4,figsize=(16, 4), constrained_layout=False)\n",
    "LABELS = [\n",
    "    [1, 5, 10, 25, 50, 75, 100, 560],\n",
    "    [1, 5, 10, 25, 50, 75, 100, 355],\n",
    "    [1, 5, 10, 25, 50, 75, 100, 200],\n",
    "    [1, 5, 10, 25, 50, 75, 100, 125]\n",
    "]\n",
    "\n",
    "list_of_groups = zip(*(iter(result_kl),) * iterations)\n",
    "list_of_groups_sub = zip(*(iter(list_of_groups),) * len(LABELS[0]))\n",
    "\n",
    "for idx, subl in enumerate(list_of_groups_sub):\n",
    "    conv_time = []\n",
    "    cov = []\n",
    "    \n",
    "    for re in subl:\n",
    "        conv_time.append(np.median(list(map(lambda b: b[3], re))))\n",
    "\n",
    "        agents = np.concatenate(list(map(lambda z: z[1], re))) \n",
    "        cov.append(len(list(filter(lambda a: a.offload_target == Offloaded.Edge ,agents))) / iterations / MA * 100)\n",
    "\n",
    "    \n",
    "    ax[idx].plot(LABELS[idx], conv_time, marker=\"o\", label=\"Convergence Time\")\n",
    "    ax[idx].set_ylabel(\"[s]\")\n",
    "    ax[idx].set_xlabel(\"$\\kappa$\",labelpad=-5)\n",
    "    ax[idx].set_title(\"EN: {} - MA: {}\".format(LABELS[idx][-1], MA), fontsize=16)\n",
    "    ax[idx].grid()\n",
    "\n",
    "    ax2 = ax[idx].twinx()  # instantiate a second axes that shares the same x-axis\n",
    "\n",
    "    color = 'tab:red'\n",
    "    ax2.set_ylabel('(\\%)')  # we already handled the x-label with ax1\n",
    "    ax2.plot(LABELS[idx], cov, marker=\"*\", color=color, label=\"Edge offloaded MA\")\n",
    "    ax2.tick_params(axis='y')\n",
    "\n",
    "    h1, l1 = ax[idx].get_legend_handles_labels()\n",
    "    h2, l2 = ax2.get_legend_handles_labels()\n",
    "    ax[idx].legend(h1+h2, l1+l2, loc=4,\n",
    "              labelspacing=0.3, handletextpad=0.3,\n",
    "                    borderaxespad=0.3, columnspacing=0.2)\n",
    "\n",
    "    ax[idx].axvspan(25,LABELS[idx][-1],zorder=0, facecolor='lightgrey',\n",
    "               linestyle='--')\n",
    "\n",
    "    plt.tight_layout(pad=0)\n",
    "\n",
    "fig.savefig(\"../plots/baseline/multi_kappa_tradeoff.pdf\",  bbox_inches=\"tight\")"
   ]
  },
  {
   "cell_type": "code",
   "execution_count": 5,
   "metadata": {},
   "outputs": [
    {
     "name": "stdout",
     "output_type": "stream",
     "text": [
      "Total APs: 284\n",
      " === Iteration 0 for MA 534 ===\n",
      "Loading rtt matrix from dataset\n",
      "Starting the solver\n",
      "κ: 1\n",
      "κ: 5\n",
      "κ: 10\n",
      "κ: 25\n",
      "κ: 50\n",
      "κ: 75\n",
      "κ: 100\n",
      "κ: 0\n",
      "Total APs: 619\n",
      " === Iteration 1 for MA 1098 ===\n",
      "Loading rtt matrix from dataset\n",
      "Starting the solver\n",
      "κ: 1\n",
      "κ: 5\n",
      "κ: 10\n",
      "κ: 25\n",
      "κ: 50\n",
      "κ: 75\n",
      "κ: 100\n",
      "κ: 0\n",
      "Total APs: 982\n",
      " === Iteration 2 for MA 2011 ===\n",
      "Loading rtt matrix from dataset\n",
      "Starting the solver\n",
      "κ: 1\n",
      "κ: 5\n",
      "κ: 10\n",
      "κ: 25\n",
      "κ: 50\n",
      "κ: 75\n",
      "κ: 100\n",
      "κ: 0\n",
      "Total APs: 1991\n",
      " === Iteration 3 for MA 4390 ===\n",
      "Loading rtt matrix from dataset\n",
      "Starting the solver\n",
      "κ: 1\n",
      "κ: 5\n",
      "κ: 10\n",
      "κ: 25\n",
      "κ: 50\n",
      "κ: 75\n",
      "κ: 100\n",
      "κ: 0\n"
     ]
    }
   ],
   "source": [
    "from lib.common import generate_agents, generate_edge_nodes\n",
    "\n",
    "T1_RATIO_VEC_ABS = np.array([250])\n",
    "T2_RATIO_VEC_ABS = np.array([100])\n",
    "T3_RATIO_VEC_ABS = np.array([5])\n",
    "\n",
    "TARGET_MA = [500, 1000, 2000, 4000]\n",
    "dim = 0\n",
    "iterations = 20\n",
    "\n",
    "k = [1,5,10,25,50,75,100,0]\n",
    "# LABELS = [1, 5, 10, 25, 50, 75, 100, TOTAL_EN]\n",
    "result_kl_ma = []\n",
    "\n",
    "for idx, ma in enumerate(TARGET_MA):    \n",
    "\n",
    "    # Filter the dataser based on the minimum amount of users we want to serve\n",
    "    data = original_data[(original_data.total >= ma) & (original_data.total < (ma*1.1))].sample()\n",
    "    merged_raw_ap_data = original_merged_raw_ap_data[original_merged_raw_ap_data.index.isin(data.index)]\n",
    "    merged_raw_ap_data = merged_raw_ap_data.loc[:, (merged_raw_ap_data > 0).all()]\n",
    "\n",
    "    MA = int(data.total)\n",
    "    total_ap = len(merged_raw_ap_data.columns)\n",
    "    \n",
    "    print(\"Total APs: {}\".format(total_ap))\n",
    "    print(\" === Iteration {} for MA {} ===\".format(idx, MA))\n",
    "\n",
    "    #TIER_1_EN = int(round(total_ap * T1_RATIO_VEC_REL[experiments]))\n",
    "    #TIER_2_EN = int(T2_RATIO_VEC_REL[experiments] * MA)\n",
    "    #TIER_3_EN = int(T3_RATIO_VEC_REL[experiments] * MA)\n",
    "\n",
    "    TIER_1_EN = T1_RATIO_VEC_ABS[0]\n",
    "    TIER_2_EN = T2_RATIO_VEC_ABS[0]\n",
    "    TIER_3_EN = T3_RATIO_VEC_ABS[0]\n",
    "\n",
    "    EN_RATIO = (TIER_1_EN, TIER_2_EN, TIER_3_EN)\n",
    "    TOTAL_EN = int(TIER_1_EN + TIER_2_EN + TIER_3_EN)\n",
    "\n",
    "    if hp.STORE_RESULTS:\n",
    "        try:\n",
    "            os.mkdir(hp.CSV_FOLDER)\n",
    "        except OSError:\n",
    "            print (\"Creation of the directory %s failed\" % hp.CSV_FOLDER)\n",
    "        else:\n",
    "            print (\"Successfully created the directory %s \" % hp.CSV_FOLDER)\n",
    "\n",
    "    if hp.dataset_rtt:\n",
    "        ### LOAD LATENCY MATRIX FROM DATASET ###\n",
    "        print(\"Loading rtt matrix from dataset\")\n",
    "        clf = rtt_matrix_loader.analyze_data(source=hp.dataset_rtt, drange=1000, threshold=250, k=3)\n",
    "        clf.weights_ = [0.2, 0.2, 0.6]\n",
    "        rtt_matrix = rtt_matrix_loader.generate_data(clf, n=total_ap, m=TOTAL_EN)\n",
    "    else:\n",
    "        # Prepare latency matrixes for all the EN classes with increasing latency based on distance from the edge \n",
    "        rtt_matrix_en_t1 = np.round(abs(np.random.normal(1, 0.2, (TIER_1_EN, TIER_1_EN))))\n",
    "        rtt_matrix_en_t2 = np.round(abs(np.random.normal(3, 1, (TIER_1_EN, TIER_2_EN))))\n",
    "        rtt_matrix_en_t3 = np.round(abs(np.random.normal(10, 1, (TIER_1_EN, TIER_3_EN))))\n",
    "\n",
    "        sns.distplot(rtt_matrix_en_t1.flatten(), hist=False, rug=True)\n",
    "        sns.distplot(rtt_matrix_en_t2.flatten(), hist=False, rug=True)\n",
    "        sns.distplot(rtt_matrix_en_t3.flatten(), hist=False, rug=True)\n",
    "\n",
    "        rtt_matrix = np.hstack([rtt_matrix_en_t1, rtt_matrix_en_t2, rtt_matrix_en_t3])\n",
    "\n",
    "    disarrange(rtt_matrix, axis=0)\n",
    "\n",
    "    # Manually setting latency for colocated AP/EN\n",
    "    for i in range(round(TIER_1_EN)):\n",
    "        rtt_matrix[i][i] = 1\n",
    "\n",
    "    # print(\"Plotting and saving RTT matrix\")\n",
    "    # fig, ax = plt.subplots(1, 1, figsize=(8, 8))\n",
    "    # sns.heatmap(rtt_matrix, ax=ax)\n",
    "    # fig.tight_layout(w_pad=1.5)\n",
    "    # fig.savefig(\"../plots/rtt_matrix.pdf\")\n",
    "\n",
    "    print(\"Starting the solver\")\n",
    "\n",
    "    for ke in k:\n",
    "        hp.local_search_scope = ke\n",
    "        print(\"κ: {}\".format(ke))\n",
    "\n",
    "        for i in range(iterations):\n",
    "            agents = generate_agents(MA, merged_raw_ap_data, dim)\n",
    "            edge_nodes = generate_edge_nodes(EN_RATIO, merged_raw_ap_data, dim)\n",
    "            result_kl_ma.append(start_solver(agents, edge_nodes, rtt_matrix, merged_raw_ap_data))\n"
   ]
  },
  {
   "cell_type": "code",
   "execution_count": 9,
   "metadata": {},
   "outputs": [
    {
     "data": {
      "image/png": "[encoded data removed]",
      "text/plain": [
       "<Figure size 1152x288 with 8 Axes>"
      ]
     },
     "metadata": {
      "needs_background": "light"
     },
     "output_type": "display_data"
    }
   ],
   "source": [
    "from entities.mobile_agent import Offloaded\n",
    "\n",
    "fig, ax = plt.subplots(1,4,figsize=(16, 4), constrained_layout=False)\n",
    "LABELS = [1, 5, 10, 25, 50, 75, 100, TOTAL_EN]\n",
    "\n",
    "list_of_groups = zip(*(iter(result_kl_ma),) * iterations)\n",
    "list_of_groups_sub = zip(*(iter(list_of_groups),) * len(LABELS))\n",
    "\n",
    "for idx, subl in enumerate(list_of_groups_sub):\n",
    "    conv_time = []\n",
    "    cov = []\n",
    "    \n",
    "    for re in subl:\n",
    "        conv_time.append(np.median(list(map(lambda b: b[3], re))))\n",
    "\n",
    "        agents = np.concatenate(list(map(lambda z: z[1], re))) \n",
    "        cov.append(len(list(filter(lambda a: a.offload_target == Offloaded.Edge ,agents))) / iterations / MA * 100)\n",
    "\n",
    "    \n",
    "    ax[idx].plot(LABELS, conv_time, marker=\"o\", label=\"Convergence Time\")\n",
    "    ax[idx].set_ylabel(\"[s]\")\n",
    "    ax[idx].set_xlabel(\"$\\kappa$\",labelpad=-5)\n",
    "    ax[idx].set_title(\"EN: {} - MA: {}\".format(TOTAL_EN, TARGET_MA[idx]), fontsize=16)\n",
    "    ax[idx].grid()\n",
    "\n",
    "    ax2 = ax[idx].twinx()  # instantiate a second axes that shares the same x-axis\n",
    "\n",
    "    color = 'tab:red'\n",
    "    ax2.set_ylabel('(\\%)')  # we already handled the x-label with ax1\n",
    "    ax2.plot(LABELS, cov, marker=\"*\", color=color, label=\"Edge offloaded MA\")\n",
    "    ax2.tick_params(axis='y')\n",
    "\n",
    "    h1, l1 = ax[idx].get_legend_handles_labels()\n",
    "    h2, l2 = ax2.get_legend_handles_labels()\n",
    "    ax[idx].legend(h1+h2, l1+l2, loc=4,\n",
    "              labelspacing=0.3, handletextpad=0.3,\n",
    "                    borderaxespad=0.3, columnspacing=0.2)\n",
    "\n",
    "    ax[idx].axvspan(25,TOTAL_EN,zorder=0, facecolor='lightgrey',\n",
    "               linestyle='--')\n",
    "\n",
    "    plt.tight_layout(pad=0)\n",
    "\n",
    "fig.savefig(\"../plots/baseline/multi_kappa_tradeoff_ma.pdf\",  bbox_inches=\"tight\")"
   ]
  },
  {
   "cell_type": "code",
   "execution_count": null,
   "metadata": {},
   "outputs": [],
   "source": []
  }
 ],
 "metadata": {
  "kernelspec": {
   "display_name": "Python 3.6.9 64-bit ('ec_solver': venv)",
   "language": "python",
   "name": "python36964bitecsolvervenv8f840cae860849e0b06ea0c4969e9c05"
  },
  "language_info": {
   "codemirror_mode": {
    "name": "ipython",
    "version": 3
   },
   "file_extension": ".py",
   "mimetype": "text/x-python",
   "name": "python",
   "nbconvert_exporter": "python",
   "pygments_lexer": "ipython3",
   "version": "3.6.9"
  }
 },
 "nbformat": 4,
 "nbformat_minor": 2
}
