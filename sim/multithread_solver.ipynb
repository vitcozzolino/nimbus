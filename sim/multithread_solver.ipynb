{
 "cells": [
  {
   "cell_type": "code",
   "execution_count": 1,
   "metadata": {},
   "outputs": [
    {
     "name": "stdout",
     "output_type": "stream",
     "text": [
      "Parallel loading of APs data ...\n",
      "Activating threads now\n"
     ]
    },
    {
     "name": "stderr",
     "output_type": "stream",
     "text": [
      " 17%|█▋        | 1/6 [00:00<00:00,  7.01it/s]]\n",
      "\n",
      " 67%|██████▋   | 2/3 [00:00<00:00,  7.87it/s]]\n",
      "  2%|▏         | 1/53 [00:00<00:08,  6.22it/s]\n",
      "  4%|▍         | 2/53 [00:00<00:08,  5.99it/s]\n",
      "  5%|▌         | 2/37 [00:00<00:06,  5.75it/s]\n",
      "  1%|          | 1/152 [00:00<00:27,  5.48it/s]\n",
      "  5%|▌         | 2/39 [00:00<00:08,  4.39it/s]]\n",
      "  5%|▌         | 3/56 [00:00<00:14,  3.74it/s]\n",
      " 50%|█████     | 1/2 [00:00<00:00,  3.00it/s]]]\n",
      "100%|██████████| 5/5 [00:01<00:00,  3.81it/s]]\n",
      " 21%|██        | 4/19 [00:01<00:04,  3.47it/s]"
     ]
    },
    {
     "name": "stdout",
     "output_type": "stream",
     "text": [
      "File not found!\n"
     ]
    },
    {
     "name": "stderr",
     "output_type": "stream",
     "text": [
      "  0%|          | 0/1 [00:00<?, ?it/s].11it/s]\n",
      "  0%|          | 0/7 [00:00<?, ?it/s].22it/s]]\n",
      "100%|██████████| 1/1 [00:00<00:00,  1.81it/s]]]\n",
      " 42%|████▏     | 5/12 [00:01<00:02,  2.88it/s]\n",
      " 15%|█▌        | 3/20 [00:01<00:06,  2.58it/s]\n",
      "100%|██████████| 1/1 [00:00<00:00,  1.77it/s]]"
     ]
    },
    {
     "name": "stdout",
     "output_type": "stream",
     "text": [
      "File not found!\n"
     ]
    },
    {
     "name": "stderr",
     "output_type": "stream",
     "text": [
      " 10%|█         | 4/39 [00:01<00:11,  2.92it/s]\n",
      "\n",
      "\n",
      "\n",
      " 33%|███▎      | 6/18 [00:01<00:03,  3.01it/s]]\n",
      " 10%|▉         | 2/21 [00:00<00:08,  2.22it/s]\n",
      "  9%|▉         | 5/56 [00:01<00:18,  2.71it/s]\n",
      "\n",
      "100%|██████████| 6/6 [00:01<00:00,  3.06it/s]\n",
      " 11%|█▏        | 6/53 [00:02<00:18,  2.60it/s]\n",
      " 12%|█▏        | 2/17 [00:00<00:07,  2.00it/s]\n",
      " 17%|█▋        | 6/35 [00:02<00:11,  2.49it/s]"
     ]
    },
    {
     "name": "stdout",
     "output_type": "stream",
     "text": [
      "File not found!\n"
     ]
    },
    {
     "name": "stderr",
     "output_type": "stream",
     "text": [
      "  0%|          | 0/13 [00:00<?, ?it/s]66it/s]]\n",
      "\n",
      "  9%|▊         | 2/23 [00:01<00:11,  1.88it/s]\n",
      " 31%|███▏      | 5/16 [00:01<00:04,  2.40it/s]]\n",
      "  4%|▍         | 2/52 [00:00<00:16,  2.99it/s]\n",
      " 38%|███▊      | 3/8 [00:01<00:02,  1.92it/s]]"
     ]
    },
    {
     "name": "stdout",
     "output_type": "stream",
     "text": [
      "File not found!\n"
     ]
    },
    {
     "name": "stderr",
     "output_type": "stream",
     "text": [
      " 80%|████████  | 4/5 [00:02<00:00,  1.86it/s]]]\n"
     ]
    },
    {
     "name": "stdout",
     "output_type": "stream",
     "text": [
      "File not found!\n"
     ]
    },
    {
     "name": "stderr",
     "output_type": "stream",
     "text": [
      "  0%|          | 0/6 [00:00<?, ?it/s].44it/s]]\n",
      "  5%|▌         | 2/40 [00:00<00:17,  2.14it/s]"
     ]
    },
    {
     "name": "stdout",
     "output_type": "stream",
     "text": [
      "File not found!\n"
     ]
    },
    {
     "name": "stderr",
     "output_type": "stream",
     "text": [
      "  0%|          | 0/25 [00:00<?, ?it/s]80it/s]s]\n",
      "  0%|          | 0/15 [00:00<?, ?it/s]50it/s]]\n",
      " 14%|█▍        | 8/56 [00:03<00:24,  1.94it/s]"
     ]
    },
    {
     "name": "stdout",
     "output_type": "stream",
     "text": [
      "File not found!\n"
     ]
    },
    {
     "name": "stderr",
     "output_type": "stream",
     "text": [
      "\n",
      "  0%|          | 0/2 [00:00<?, ?it/s]1.89it/s]"
     ]
    },
    {
     "name": "stdout",
     "output_type": "stream",
     "text": [
      "File not found!\n"
     ]
    },
    {
     "name": "stderr",
     "output_type": "stream",
     "text": [
      " 23%|██▎       | 3/13 [00:01<00:05,  1.70it/s]]\n",
      "  3%|▎         | 1/29 [00:00<00:15,  1.76it/s]"
     ]
    },
    {
     "name": "stdout",
     "output_type": "stream",
     "text": [
      "File not found!\n"
     ]
    },
    {
     "name": "stderr",
     "output_type": "stream",
     "text": [
      " 36%|███▋      | 8/22 [00:03<00:07,  1.82it/s]"
     ]
    },
    {
     "name": "stdout",
     "output_type": "stream",
     "text": [
      "File not found!\n"
     ]
    },
    {
     "name": "stderr",
     "output_type": "stream",
     "text": [
      " 27%|██▋       | 3/11 [00:01<00:04,  1.67it/s]"
     ]
    },
    {
     "name": "stdout",
     "output_type": "stream",
     "text": [
      "File not found!\n"
     ]
    },
    {
     "name": "stderr",
     "output_type": "stream",
     "text": [
      " 24%|██▍       | 9/37 [00:03<00:14,  1.87it/s]]"
     ]
    },
    {
     "name": "stdout",
     "output_type": "stream",
     "text": [
      "File not found!\n"
     ]
    },
    {
     "name": "stderr",
     "output_type": "stream",
     "text": [
      "100%|██████████| 4/4 [00:02<00:00,  1.74it/s]]\n",
      "  8%|▊         | 4/52 [00:02<00:24,  1.95it/s]\n",
      " 23%|██▎       | 3/13 [00:01<00:06,  1.61it/s]]\n",
      "  0%|          | 0/2 [00:00<?, ?it/s]1.59it/s]]\n",
      " 75%|███████▌  | 12/16 [00:04<00:02,  1.80it/s]\n",
      " 57%|█████▋    | 8/14 [00:04<00:04,  1.49it/s]]\n",
      " 29%|██▊       | 10/35 [00:04<00:15,  1.57it/s]\n",
      " 25%|██▌       | 1/4 [00:00<00:02,  1.15it/s]]\n",
      " 29%|██▉       | 5/17 [00:03<00:08,  1.47it/s]\n",
      "100%|██████████| 1/1 [00:00<00:00,  1.23it/s]]s]\n",
      "\n",
      " 15%|█▌        | 3/20 [00:02<00:12,  1.33it/s]]\n",
      " 17%|█▋        | 1/6 [00:00<00:03,  1.38it/s]"
     ]
    },
    {
     "name": "stdout",
     "output_type": "stream",
     "text": [
      "File not found!\n"
     ]
    },
    {
     "name": "stderr",
     "output_type": "stream",
     "text": [
      " 21%|██        | 11/53 [00:05<00:28,  1.50it/s]"
     ]
    },
    {
     "name": "stdout",
     "output_type": "stream",
     "text": [
      "File not found!\n"
     ]
    },
    {
     "name": "stderr",
     "output_type": "stream",
     "text": [
      " 27%|██▋       | 6/22 [00:03<00:11,  1.42it/s]]\n",
      " 20%|█▉        | 11/56 [00:05<00:32,  1.36it/s]\n",
      " 67%|██████▋   | 2/3 [00:01<00:00,  1.32it/s]]]"
     ]
    },
    {
     "name": "stdout",
     "output_type": "stream",
     "text": [
      "File not found!\n"
     ]
    },
    {
     "name": "stderr",
     "output_type": "stream",
     "text": [
      " 46%|████▌     | 6/13 [00:04<00:05,  1.34it/s]s]"
     ]
    },
    {
     "name": "stdout",
     "output_type": "stream",
     "text": [
      "File not found!\n"
     ]
    },
    {
     "name": "stderr",
     "output_type": "stream",
     "text": [
      " 25%|██▌       | 1/4 [00:00<00:02,  1.16it/s]]]\n",
      "\n",
      " 39%|███▊      | 12/31 [00:06<00:13,  1.40it/s]"
     ]
    },
    {
     "name": "stdout",
     "output_type": "stream",
     "text": [
      "File not found!\n"
     ]
    },
    {
     "name": "stderr",
     "output_type": "stream",
     "text": [
      "  0%|          | 0/32 [00:00<?, ?it/s]1.88it/s]"
     ]
    },
    {
     "name": "stdout",
     "output_type": "stream",
     "text": [
      "File not found!\n"
     ]
    },
    {
     "name": "stderr",
     "output_type": "stream",
     "text": [
      " 21%|██▏       | 12/56 [00:06<00:32,  1.34it/s]\n",
      " 28%|██▊       | 11/39 [00:06<00:19,  1.43it/s]\n",
      " 18%|█▊        | 4/22 [00:03<00:14,  1.25it/s]"
     ]
    },
    {
     "name": "stdout",
     "output_type": "stream",
     "text": [
      "File not found!\n"
     ]
    },
    {
     "name": "stderr",
     "output_type": "stream",
     "text": [
      " 18%|█▊        | 4/22 [00:03<00:14,  1.27it/s]]"
     ]
    },
    {
     "name": "stdout",
     "output_type": "stream",
     "text": [
      "File not found!\n"
     ]
    },
    {
     "name": "stderr",
     "output_type": "stream",
     "text": [
      " 40%|████      | 4/10 [00:03<00:04,  1.28it/s]]\n",
      " 32%|███▏      | 7/22 [00:04<00:11,  1.29it/s]\n",
      "  0%|          | 0/2 [00:00<?, ?it/s].02it/s]]\n",
      "  0%|          | 0/3 [00:00<?, ?it/s] 1.28it/s]\n",
      "  8%|▊         | 12/152 [00:06<01:50,  1.27it/s]"
     ]
    },
    {
     "name": "stdout",
     "output_type": "stream",
     "text": [
      "File not found!\n"
     ]
    },
    {
     "name": "stderr",
     "output_type": "stream",
     "text": [
      "  3%|▎         | 1/32 [00:00<00:26,  1.18it/s]\n",
      " 36%|███▌      | 13/36 [00:07<00:18,  1.26it/s]\n",
      " 10%|▉         | 8/83 [00:05<00:57,  1.31it/s]]\n",
      " 88%|████████▊ | 7/8 [00:05<00:00,  1.25it/s]\n",
      "  0%|          | 0/12 [00:00<?, ?it/s]1.32it/s]"
     ]
    },
    {
     "name": "stdout",
     "output_type": "stream",
     "text": [
      "File not found!\n"
     ]
    },
    {
     "name": "stderr",
     "output_type": "stream",
     "text": [
      "  0%|          | 0/5 [00:00<?, ?it/s] 1.20it/s]\n",
      " 79%|███████▊  | 11/14 [00:07<00:02,  1.20it/s]\n",
      " 67%|██████▋   | 6/9 [00:04<00:02,  1.17it/s]s]\n",
      " 50%|█████     | 1/2 [00:00<00:00,  1.21it/s]\n",
      " 48%|████▊     | 10/21 [00:06<00:08,  1.26it/s]\n",
      "  0%|          | 0/8 [00:00<?, ?it/s]1.28it/s]]"
     ]
    },
    {
     "name": "stdout",
     "output_type": "stream",
     "text": [
      "File not found!\n"
     ]
    },
    {
     "name": "stderr",
     "output_type": "stream",
     "text": [
      "  4%|▍         | 2/45 [00:01<00:39,  1.08it/s]]]"
     ]
    },
    {
     "name": "stdout",
     "output_type": "stream",
     "text": [
      "File not found!\n"
     ]
    },
    {
     "name": "stderr",
     "output_type": "stream",
     "text": [
      "  0%|          | 0/2 [00:00<?, ?it/s]1.10it/s]]\n",
      "  8%|▊         | 1/12 [00:00<00:10,  1.09it/s]]\n",
      " 20%|██        | 1/5 [00:00<00:03,  1.19it/s]]]\n",
      " 27%|██▋       | 6/22 [00:05<00:14,  1.11it/s]]"
     ]
    },
    {
     "name": "stdout",
     "output_type": "stream",
     "text": [
      "File not found!\n"
     ]
    },
    {
     "name": "stderr",
     "output_type": "stream",
     "text": [
      "  0%|          | 0/1 [00:00<?, ?it/s] 1.17it/s]\n",
      "100%|██████████| 8/8 [00:03<00:00,  2.37it/s]]]\n",
      "  6%|▌         | 1/18 [00:00<00:15,  1.12it/s]]\n",
      " 10%|█         | 2/20 [00:01<00:15,  1.20it/s]]\n",
      " 62%|██████▎   | 15/24 [00:08<00:07,  1.13it/s]\n",
      "  0%|          | 0/17 [00:00<?, ?it/s]10it/s]\n",
      " 13%|█▎        | 9/69 [00:06<00:49,  1.21it/s]\n",
      " 36%|███▋      | 8/22 [00:06<00:11,  1.17it/s]s]"
     ]
    },
    {
     "name": "stdout",
     "output_type": "stream",
     "text": [
      "File not found!\n"
     ]
    },
    {
     "name": "stderr",
     "output_type": "stream",
     "text": [
      "  0%|          | 0/4 [00:00<?, ?it/s].08it/s]]]"
     ]
    },
    {
     "name": "stdout",
     "output_type": "stream",
     "text": [
      "File not found!\n"
     ]
    },
    {
     "name": "stderr",
     "output_type": "stream",
     "text": [
      "  4%|▍         | 1/25 [00:00<00:21,  1.10it/s]\n",
      "\n",
      " 48%|████▊     | 11/23 [00:07<00:10,  1.18it/s]\n",
      " 65%|██████▍   | 11/17 [00:08<00:05,  1.13it/s]\n",
      " 75%|███████▌  | 3/4 [00:02<00:00,  1.13it/s]]]\n",
      "100%|██████████| 6/6 [00:05<00:00,  1.15it/s]]\n",
      " 28%|██▊       | 7/25 [00:05<00:15,  1.14it/s]\n",
      "  0%|          | 0/2 [00:00<?, ?it/s] 1.16it/s]\n",
      " 89%|████████▉ | 16/18 [00:09<00:01,  1.11it/s]\n",
      " 56%|█████▋    | 9/16 [00:07<00:06,  1.07it/s]]]\n",
      "100%|██████████| 6/6 [00:05<00:00,  1.08it/s]\n",
      " 19%|█▉        | 10/53 [00:08<00:39,  1.08it/s]\n",
      "\n",
      "100%|██████████| 14/14 [00:09<00:00,  1.45it/s]\n",
      " 21%|██        | 11/52 [00:08<00:37,  1.10it/s]\n",
      " 84%|████████▍ | 16/19 [00:10<00:02,  1.09it/s]\n",
      "100%|██████████| 9/9 [00:07<00:00,  1.14it/s]]\n",
      " 15%|█▌        | 2/13 [00:01<00:09,  1.11it/s]\n",
      "  0%|          | 0/9 [00:00<?, ?it/s] 1.05it/s]\n",
      " 49%|████▊     | 17/35 [00:10<00:15,  1.14it/s]]\n",
      " 75%|███████▌  | 3/4 [00:02<00:00,  1.12it/s]]]\n",
      " 18%|█▊        | 3/17 [00:02<00:12,  1.15it/s]]\n",
      " 15%|█▌        | 2/13 [00:01<00:09,  1.10it/s]s]\n",
      " 50%|█████     | 10/20 [00:08<00:09,  1.06it/s]\n",
      "100%|██████████| 16/16 [00:11<00:00,  1.40it/s]"
     ]
    },
    {
     "name": "stdout",
     "output_type": "stream",
     "text": [
      "File not found!\n"
     ]
    },
    {
     "name": "stderr",
     "output_type": "stream",
     "text": [
      " 71%|███████▏  | 15/21 [00:11<00:05,  1.03it/s]\n",
      "  0%|          | 0/10 [00:00<?, ?it/s]\n",
      " 61%|██████    | 14/23 [00:10<00:08,  1.03it/s]"
     ]
    },
    {
     "name": "stdout",
     "output_type": "stream",
     "text": [
      "File not found!\n"
     ]
    },
    {
     "name": "stderr",
     "output_type": "stream",
     "text": [
      " 12%|█▏        | 2/17 [00:01<00:12,  1.21it/s]]\n",
      " 30%|███       | 6/20 [00:05<00:13,  1.04it/s]]\n",
      " 59%|█████▉    | 10/17 [00:08<00:06,  1.10it/s]\n",
      "\n",
      "100%|██████████| 10/10 [00:09<00:00,  1.09it/s]\n",
      " 12%|█▏        | 3/26 [00:02<00:21,  1.07it/s]]]\n",
      " 22%|██▏       | 2/9 [00:02<00:07,  1.02s/it]s]"
     ]
    },
    {
     "name": "stdout",
     "output_type": "stream",
     "text": [
      "File not found!\n"
     ]
    },
    {
     "name": "stderr",
     "output_type": "stream",
     "text": [
      " 40%|████      | 12/30 [00:10<00:18,  1.04s/it]\n",
      "100%|██████████| 11/11 [00:10<00:00,  1.01s/it]\n"
     ]
    },
    {
     "name": "stdout",
     "output_type": "stream",
     "text": [
      "File not found!\n"
     ]
    },
    {
     "name": "stderr",
     "output_type": "stream",
     "text": [
      "  0%|          | 0/1 [00:00<?, ?it/s]1.05s/it]]\n",
      " 57%|█████▋    | 12/21 [00:10<00:08,  1.05it/s]\n",
      " 67%|██████▋   | 2/3 [00:02<00:01,  1.05s/it]\n",
      "100%|██████████| 13/13 [00:11<00:00,  1.15it/s]\n",
      "  0%|          | 0/13 [00:00<?, ?it/s].01s/it]]\n",
      " 18%|█▊        | 8/45 [00:07<00:37,  1.00s/it]t]\n",
      "100%|██████████| 9/9 [00:08<00:00,  1.03it/s]t]\n",
      "100%|██████████| 13/13 [00:11<00:00,  1.05s/it]\n",
      " 34%|███▍      | 19/56 [00:13<00:38,  1.04s/it]\n",
      "100%|██████████| 1/1 [00:00<00:00,  1.05it/s]t]\n",
      " 56%|█████▌    | 5/9 [00:04<00:03,  1.02it/s]s]\n",
      "100%|██████████| 13/13 [00:11<00:00,  1.10it/s]\n",
      "  0%|          | 0/6 [00:00<?, ?it/s]1.01it/s]\n",
      "\n",
      " 67%|██████▋   | 10/15 [00:09<00:05,  1.01s/it]\n",
      " 29%|██▉       | 7/24 [00:06<00:16,  1.01it/s]s]\n",
      " 67%|██████▋   | 8/12 [00:07<00:03,  1.01it/s]]\n",
      " 20%|██        | 1/5 [00:00<00:03,  1.02it/s]]]\n",
      " 60%|██████    | 21/35 [00:15<00:14,  1.05s/it]\n",
      " 25%|██▌       | 3/12 [00:03<00:09,  1.04s/it]]\n",
      " 59%|█████▉    | 13/22 [00:12<00:09,  1.02s/it]\n",
      "  9%|▊         | 4/46 [00:04<00:43,  1.03s/it]]\n",
      " 25%|██▌       | 4/16 [00:04<00:13,  1.08s/it]]]\n",
      " 78%|███████▊  | 18/23 [00:15<00:05,  1.06s/it]"
     ]
    },
    {
     "name": "stdout",
     "output_type": "stream",
     "text": [
      "File not found!\n"
     ]
    },
    {
     "name": "stderr",
     "output_type": "stream",
     "text": [
      "100%|██████████| 2/2 [00:02<00:00,  1.09s/it]]]\n",
      " 35%|███▌      | 12/34 [00:11<00:22,  1.00s/it]]\n",
      "100%|██████████| 1/1 [00:01<00:00,  1.19s/it]\n",
      " 41%|████▏     | 17/41 [00:14<00:25,  1.05s/it]\n",
      " 16%|█▌        | 3/19 [00:03<00:18,  1.13s/it]]\n",
      "  0%|          | 0/3 [00:00<?, ?it/s]1.05s/it]]\n",
      " 54%|█████▍    | 14/26 [00:13<00:13,  1.10s/it]\n",
      "  0%|          | 0/16 [00:00<?, ?it/s].08s/it]]\n",
      "100%|██████████| 17/17 [00:15<00:00,  1.15s/it]\n",
      " 83%|████████▎ | 19/23 [00:16<00:04,  1.08s/it]\n",
      " 26%|██▌       | 18/69 [00:16<00:53,  1.05s/it]\n",
      " 95%|█████████▌| 20/21 [00:16<00:01,  1.02s/it]\n",
      "100%|██████████| 4/4 [00:04<00:00,  1.08s/it]]]"
     ]
    },
    {
     "name": "stdout",
     "output_type": "stream",
     "text": [
      "File not found!\n"
     ]
    },
    {
     "name": "stderr",
     "output_type": "stream",
     "text": [
      "100%|██████████| 7/7 [00:06<00:00,  1.04it/s]]\n",
      "\n",
      "  0%|          | 0/1 [00:00<?, ?it/s]1.11s/it]]\n",
      "100%|██████████| 2/2 [00:02<00:00,  1.25s/it]t]]\n",
      " 38%|███▊      | 6/16 [00:06<00:11,  1.11s/it]\n",
      "100%|██████████| 1/1 [00:01<00:00,  1.13s/it]t]\n",
      " 60%|██████    | 6/10 [00:06<00:04,  1.08s/it]]\n",
      " 38%|███▊      | 13/34 [00:12<00:22,  1.07s/it]\n",
      "100%|██████████| 4/4 [00:04<00:00,  1.09s/it]]]"
     ]
    },
    {
     "name": "stdout",
     "output_type": "stream",
     "text": [
      "File not found!\n"
     ]
    },
    {
     "name": "stderr",
     "output_type": "stream",
     "text": [
      " 25%|██▌       | 2/8 [00:02<00:07,  1.20s/it]]]\n",
      " 45%|████▍     | 25/56 [00:18<00:24,  1.25it/s]\n",
      " 50%|█████     | 3/6 [00:03<00:03,  1.07s/it]]]\n",
      "100%|██████████| 21/21 [00:18<00:00,  1.16it/s]\n",
      " 55%|█████▌    | 11/20 [00:11<00:09,  1.07s/it]\n",
      "\n",
      " 22%|██▏       | 15/69 [00:14<00:56,  1.05s/it]\n",
      "100%|██████████| 3/3 [00:03<00:00,  1.11s/it]]]\n",
      " 50%|█████     | 2/4 [00:02<00:02,  1.14s/it]]\n",
      "100%|██████████| 5/5 [00:05<00:00,  1.03s/it]it]\n",
      "100%|██████████| 4/4 [00:04<00:00,  1.04s/it]t]\n",
      " 24%|██▍       | 20/83 [00:17<01:10,  1.12s/it]\n",
      " 13%|█▎        | 2/15 [00:02<00:14,  1.13s/it]]\n",
      " 53%|█████▎    | 9/17 [00:08<00:08,  1.04s/it]]\n",
      "100%|██████████| 21/21 [00:18<00:00,  1.09s/it]\n",
      " 71%|███████▏  | 25/35 [00:19<00:10,  1.07s/it]\n",
      " 32%|███▏      | 6/19 [00:06<00:14,  1.09s/it]]\n",
      "  0%|          | 0/1 [00:00<?, ?it/s]1.07s/it]]\n",
      " 38%|███▊      | 10/26 [00:10<00:16,  1.03s/it]\n",
      "100%|██████████| 1/1 [00:00<00:00,  1.07it/s]\n",
      " 67%|██████▋   | 2/3 [00:02<00:01,  1.10s/it]\n",
      " 90%|█████████ | 9/10 [00:10<00:01,  1.16s/it]]\n",
      "  6%|▌         | 1/17 [00:00<00:15,  1.01it/s]]]\n",
      "100%|██████████| 5/5 [00:05<00:00,  1.10s/it]]]\n",
      " 56%|█████▋    | 9/16 [00:10<00:08,  1.15s/it]]\n",
      "  0%|          | 0/10 [00:00<?, ?it/s].08s/it]]\n",
      " 48%|████▊     | 12/25 [00:12<00:14,  1.10s/it]"
     ]
    },
    {
     "name": "stdout",
     "output_type": "stream",
     "text": [
      "File not found!\n"
     ]
    },
    {
     "name": "stderr",
     "output_type": "stream",
     "text": [
      " 30%|███       | 21/69 [00:19<00:51,  1.07s/it]\n",
      " 86%|████████▋ | 19/22 [00:18<00:03,  1.11s/it]\n",
      "\n",
      " 75%|███████▌  | 3/4 [00:03<00:01,  1.15s/it]"
     ]
    },
    {
     "name": "stdout",
     "output_type": "stream",
     "text": [
      "File not found!\n"
     ]
    },
    {
     "name": "stderr",
     "output_type": "stream",
     "text": [
      " 93%|█████████▎| 14/15 [00:14<00:01,  1.08s/it]\n",
      " 82%|████████▏ | 9/11 [00:10<00:02,  1.15s/it]]\n",
      " 54%|█████▍    | 13/24 [00:13<00:11,  1.06s/it]\n",
      "100%|██████████| 4/4 [00:04<00:00,  1.14s/it]]]\n",
      "  0%|          | 0/17 [00:00<?, ?it/s]1.05s/it]]\n",
      "100%|██████████| 10/10 [00:11<00:00,  1.15s/it]\n",
      "100%|██████████| 2/2 [00:01<00:00,  1.01it/s]t]\n",
      " 92%|█████████▏| 12/13 [00:12<00:01,  1.12s/it]\n",
      " 73%|███████▎  | 27/37 [00:21<00:10,  1.08s/it]\n",
      " 47%|████▋     | 15/32 [00:15<00:18,  1.08s/it]\n",
      "100%|██████████| 4/4 [00:04<00:00,  1.11s/it]t]\n",
      "100%|██████████| 15/15 [00:15<00:00,  1.02s/it]"
     ]
    },
    {
     "name": "stdout",
     "output_type": "stream",
     "text": [
      "File not found!\n"
     ]
    },
    {
     "name": "stderr",
     "output_type": "stream",
     "text": [
      "100%|██████████| 6/6 [00:06<00:00,  1.07s/it]t]\n",
      " 95%|█████████▌| 19/20 [00:19<00:01,  1.11s/it]\n",
      " 70%|███████   | 14/20 [00:14<00:06,  1.05s/it]\n",
      "  0%|          | 0/2 [00:00<?, ?it/s] 1.15s/it]\n",
      " 86%|████████▋ | 19/22 [00:18<00:03,  1.08s/it]\n",
      "100%|██████████| 3/3 [00:02<00:00,  1.03it/s]]]\n",
      "100%|██████████| 22/22 [00:20<00:00,  1.04s/it]\n",
      " 53%|█████▎    | 28/53 [00:22<00:26,  1.04s/it]\n",
      "100%|██████████| 10/10 [00:10<00:00,  1.06s/it]]\n",
      " 76%|███████▌  | 28/37 [00:22<00:09,  1.09s/it]\n",
      " 76%|███████▌  | 28/37 [00:22<00:09,  1.03s/it]\n",
      " 44%|████▍     | 23/52 [00:20<00:27,  1.04it/s]\n",
      "  0%|          | 0/30 [00:00<?, ?it/s]39it/s]s]\n",
      "100%|██████████| 13/13 [00:14<00:00,  1.08s/it]"
     ]
    },
    {
     "name": "stdout",
     "output_type": "stream",
     "text": [
      "File not found!\n"
     ]
    },
    {
     "name": "stderr",
     "output_type": "stream",
     "text": [
      "100%|██████████| 6/6 [00:03<00:00,  1.89it/s]]]\n",
      "\n",
      " 83%|████████▎ | 15/18 [00:15<00:03,  1.10s/it]\n",
      " 33%|███▎      | 23/69 [00:21<00:49,  1.07s/it]\n",
      " 25%|██▍       | 14/57 [00:14<00:42,  1.01it/s]\n",
      " 29%|██▉       | 24/83 [00:21<01:01,  1.04s/it]\n",
      "100%|██████████| 10/10 [00:10<00:00,  1.02s/it]"
     ]
    },
    {
     "name": "stdout",
     "output_type": "stream",
     "text": [
      "File not found!\n"
     ]
    },
    {
     "name": "stderr",
     "output_type": "stream",
     "text": [
      " 18%|█▊        | 28/152 [00:23<02:14,  1.09s/it]"
     ]
    },
    {
     "name": "stdout",
     "output_type": "stream",
     "text": [
      "File not found!\n"
     ]
    },
    {
     "name": "stderr",
     "output_type": "stream",
     "text": [
      " 53%|█████▎    | 17/32 [00:17<00:16,  1.07s/it]\n",
      "100%|██████████| 17/17 [00:17<00:00,  1.05s/it]\n",
      " 56%|█████▌    | 23/41 [00:21<00:19,  1.07s/it]\n",
      " 83%|████████▎ | 29/35 [00:23<00:06,  1.07s/it]\n",
      " 50%|█████     | 7/14 [00:07<00:07,  1.06s/it]]\n",
      " 30%|███       | 3/10 [00:02<00:06,  1.06it/s]]\n",
      "  3%|▎         | 2/63 [00:02<01:01,  1.01s/it]]\n",
      " 40%|████      | 18/45 [00:18<00:26,  1.02it/s]\n",
      " 45%|████▌     | 24/53 [00:22<00:26,  1.08it/s]\n",
      " 56%|█████▌    | 5/9 [00:05<00:04,  1.03s/it]]]\n",
      " 62%|██████▏   | 8/13 [00:08<00:04,  1.02it/s]]]\n",
      " 71%|███████   | 12/17 [00:13<00:05,  1.04s/it]\n",
      " 55%|█████▌    | 31/56 [00:24<00:24,  1.02it/s]\n",
      " 48%|████▊     | 13/27 [00:13<00:13,  1.06it/s]\n",
      "100%|██████████| 8/8 [00:08<00:00,  1.11s/it]]]\n",
      " 11%|█         | 3/27 [00:02<00:22,  1.08it/s]]\n",
      " 89%|████████▊ | 31/35 [00:25<00:03,  1.00it/s]]\n",
      " 10%|█         | 3/30 [00:02<00:25,  1.08it/s]]\n",
      " 62%|██████▎   | 25/40 [00:23<00:15,  1.01s/it]\n",
      " 17%|█▋        | 4/23 [00:04<00:18,  1.01it/s]]\n",
      "100%|██████████| 9/9 [00:09<00:00,  1.07s/it]t]\n",
      " 52%|█████▏    | 27/52 [00:24<00:23,  1.08it/s]\n",
      "  0%|          | 0/1 [00:00<?, ?it/s]1.05it/s]]\n",
      "100%|██████████| 3/3 [00:03<00:00,  1.01s/it]]]]\n",
      " 60%|██████    | 6/10 [00:05<00:04,  1.01s/it]]\n",
      " 12%|█▏        | 3/26 [00:02<00:21,  1.09it/s]]\n",
      " 12%|█▎        | 3/24 [00:02<00:20,  1.04it/s]]\n",
      " 68%|██████▊   | 23/34 [00:21<00:10,  1.07it/s]\n",
      " 89%|████████▉ | 8/9 [00:08<00:01,  1.03s/it]s]\n",
      "100%|██████████| 2/2 [00:01<00:00,  1.07it/s]s]\n",
      "100%|██████████| 1/1 [00:00<00:00,  1.01it/s]t]\n",
      "100%|██████████| 1/1 [00:00<00:00,  1.08it/s]s]\n",
      "\n",
      " 20%|██        | 2/10 [00:02<00:08,  1.01s/it]]\n",
      "100%|██████████| 10/10 [00:10<00:00,  1.02s/it]\n",
      " 76%|███████▌  | 19/25 [00:19<00:06,  1.06s/it]\n",
      " 32%|███▏      | 17/53 [00:17<00:38,  1.06s/it]\n",
      " 25%|██▌       | 16/63 [00:16<00:48,  1.04s/it]]\n",
      " 21%|██        | 4/19 [00:03<00:13,  1.13it/s]]\n",
      " 23%|██▎       | 3/13 [00:02<00:09,  1.06it/s]]\n",
      "100%|██████████| 9/9 [00:09<00:00,  1.02s/it]s]\n",
      "100%|██████████| 15/15 [00:15<00:00,  1.02it/s]\n",
      " 27%|██▋       | 3/11 [00:02<00:07,  1.02it/s]]\n",
      " 92%|█████████▏| 34/37 [00:28<00:02,  1.01it/s]\n",
      " 34%|███▍      | 16/47 [00:16<00:31,  1.02s/it]\n",
      " 42%|████▏     | 29/69 [00:27<00:39,  1.02it/s]]\n",
      " 62%|██████▏   | 8/13 [00:07<00:05,  1.01s/it]]\n",
      " 36%|███▋      | 4/11 [00:03<00:06,  1.06it/s]]\n",
      " 29%|██▊       | 18/63 [00:18<00:44,  1.02it/s]\n",
      "100%|██████████| 26/26 [00:26<00:00,  1.00s/it]]\n",
      "100%|██████████| 17/17 [00:18<00:00,  1.08s/it]"
     ]
    },
    {
     "name": "stdout",
     "output_type": "stream",
     "text": [
      "File not found!\n"
     ]
    },
    {
     "name": "stderr",
     "output_type": "stream",
     "text": [
      " 21%|██        | 7/33 [00:06<00:24,  1.04it/s]\n",
      " 55%|█████▍    | 6/11 [00:05<00:04,  1.12it/s]\n",
      " 39%|███▉      | 9/23 [00:08<00:13,  1.05it/s]]\n",
      " 39%|███▉      | 18/46 [00:18<00:25,  1.09it/s]\n",
      " 37%|███▋      | 21/57 [00:21<00:35,  1.02it/s]\n",
      "\n",
      "100%|██████████| 10/10 [00:09<00:00,  1.10it/s]]\n",
      " 70%|██████▉   | 37/53 [00:30<00:13,  1.22it/s]\n",
      " 79%|███████▉  | 27/34 [00:24<00:05,  1.19it/s]\n",
      " 78%|███████▊  | 7/9 [00:06<00:01,  1.27it/s]s]\n",
      "100%|██████████| 37/37 [00:31<00:00,  1.14it/s]\n",
      "100%|██████████| 37/37 [00:31<00:00,  1.18it/s]\n",
      "\n",
      " 39%|███▊      | 22/57 [00:22<00:31,  1.12it/s]\n",
      " 81%|████████▏ | 26/32 [00:25<00:04,  1.23it/s]]\n",
      " 64%|██████▎   | 7/11 [00:06<00:03,  1.24it/s]]"
     ]
    },
    {
     "name": "stdout",
     "output_type": "stream",
     "text": [
      "File not found!\n"
     ]
    },
    {
     "name": "stderr",
     "output_type": "stream",
     "text": [
      " 95%|█████████▍| 37/39 [00:31<00:01,  1.14it/s]]\n",
      " 52%|█████▏    | 12/23 [00:10<00:08,  1.26it/s]\n",
      " 35%|███▌      | 11/31 [00:09<00:15,  1.31it/s]"
     ]
    },
    {
     "name": "stdout",
     "output_type": "stream",
     "text": [
      "File not found!\n"
     ]
    },
    {
     "name": "stderr",
     "output_type": "stream",
     "text": [
      " 45%|████▍     | 21/47 [00:20<00:19,  1.31it/s]"
     ]
    },
    {
     "name": "stdout",
     "output_type": "stream",
     "text": [
      "File not found!\n"
     ]
    },
    {
     "name": "stderr",
     "output_type": "stream",
     "text": [
      "100%|██████████| 16/16 [00:14<00:00,  1.27it/s]\n",
      "100%|██████████| 16/16 [00:14<00:00,  1.07it/s]\n",
      " 43%|████▎     | 30/69 [00:27<00:28,  1.35it/s]\n",
      " 70%|██████▉   | 39/56 [00:32<00:11,  1.49it/s]]\n",
      " 75%|███████▌  | 40/53 [00:32<00:09,  1.40it/s]\n",
      "100%|██████████| 13/13 [00:11<00:00,  1.12it/s]\n",
      " 48%|████▊     | 13/27 [00:10<00:09,  1.45it/s]\n",
      " 42%|████▏     | 11/26 [00:09<00:10,  1.40it/s]]\n",
      " 83%|████████▎ | 10/12 [00:07<00:01,  1.44it/s]\n",
      " 36%|███▋      | 12/33 [00:10<00:15,  1.34it/s]\n",
      "\n",
      " 22%|██▏       | 14/63 [00:11<00:32,  1.50it/s]]\n",
      "100%|██████████| 26/26 [00:24<00:00,  1.08it/s]\n",
      " 71%|███████   | 37/52 [00:32<00:09,  1.59it/s]"
     ]
    },
    {
     "name": "stdout",
     "output_type": "stream",
     "text": [
      "File not found!\n"
     ]
    },
    {
     "name": "stderr",
     "output_type": "stream",
     "text": [
      "\n",
      " 75%|███████▌  | 24/32 [00:22<00:05,  1.45it/s]\n",
      " 51%|█████     | 24/47 [00:22<00:15,  1.52it/s]\n",
      " 27%|██▋       | 41/152 [00:34<01:10,  1.58it/s]\n",
      " 22%|██▏       | 17/78 [00:14<00:41,  1.47it/s]\n",
      " 93%|█████████▎| 25/27 [00:23<00:01,  1.61it/s]\n",
      " 71%|███████   | 32/45 [00:28<00:07,  1.63it/s]]\n",
      " 55%|█████▍    | 12/22 [00:08<00:05,  1.77it/s]\n",
      " 51%|█████     | 35/69 [00:30<00:17,  2.00it/s]\n",
      " 54%|█████▍    | 14/26 [00:10<00:07,  1.58it/s]]\n",
      " 57%|█████▋    | 26/46 [00:23<00:10,  1.83it/s]\n",
      " 58%|█████▊    | 15/26 [00:11<00:05,  1.88it/s]]\n",
      " 67%|██████▋   | 16/24 [00:11<00:04,  1.90it/s]]\n",
      " 31%|███       | 47/152 [00:36<00:42,  2.50it/s]\n",
      " 95%|█████████▌| 20/21 [00:14<00:00,  2.03it/s]\n",
      " 58%|█████▊    | 40/69 [00:32<00:12,  2.32it/s]]\n",
      " 59%|█████▉    | 29/49 [00:23<00:09,  2.22it/s]\n",
      " 55%|█████▌    | 46/83 [00:35<00:15,  2.44it/s]\n",
      "100%|██████████| 21/21 [00:15<00:00,  1.36it/s]\n",
      " 83%|████████▎ | 20/24 [00:13<00:01,  2.24it/s]]\n",
      " 61%|██████▏   | 35/57 [00:28<00:08,  2.51it/s]\n",
      " 61%|██████    | 42/69 [00:33<00:10,  2.68it/s]"
     ]
    },
    {
     "name": "stdout",
     "output_type": "stream",
     "text": [
      "File not found!\n"
     ]
    },
    {
     "name": "stderr",
     "output_type": "stream",
     "text": [
      " 41%|████▏     | 26/63 [00:16<00:12,  2.87it/s]]\n",
      " 68%|██████▊   | 47/69 [00:36<00:07,  2.88it/s]\n",
      "\n",
      " 67%|██████▋   | 26/39 [00:16<00:04,  2.82it/s]]\n",
      " 94%|█████████▍| 49/52 [00:36<00:01,  2.98it/s]]"
     ]
    },
    {
     "name": "stdout",
     "output_type": "stream",
     "text": [
      "File not found!\n"
     ]
    },
    {
     "name": "stderr",
     "output_type": "stream",
     "text": [
      " 94%|█████████▍| 50/53 [00:36<00:00,  3.19it/s]\n",
      "100%|██████████| 27/27 [00:16<00:00,  1.65it/s]]\n",
      " 62%|██████▏   | 39/63 [00:27<00:06,  3.55it/s]\n",
      " 49%|████▉     | 31/63 [00:17<00:08,  3.85it/s]\n",
      " 87%|████████▋ | 40/46 [00:27<00:01,  3.87it/s]]\n",
      "100%|██████████| 56/56 [00:39<00:00,  1.41it/s]\n",
      "\n",
      " 46%|████▌     | 28/61 [00:14<00:08,  3.71it/s]]\n",
      "100%|██████████| 31/31 [00:17<00:00,  1.81it/s]\n",
      " 38%|███▊      | 58/152 [00:39<00:27,  3.43it/s]\n",
      "100%|██████████| 33/33 [00:17<00:00,  1.88it/s]]\n",
      "100%|██████████| 46/46 [00:28<00:00,  1.60it/s]]\n",
      "100%|██████████| 47/47 [00:28<00:00,  1.63it/s]]\n",
      "100%|██████████| 39/39 [00:18<00:00,  2.08it/s]]\n",
      "100%|██████████| 53/53 [00:31<00:00,  1.70it/s]]\n",
      "100%|██████████| 49/49 [00:28<00:00,  1.74it/s]]\n",
      "100%|██████████| 57/57 [00:33<00:00,  1.72it/s]]\n",
      "100%|██████████| 69/69 [00:40<00:00,  1.70it/s]\n",
      "100%|██████████| 69/69 [00:37<00:00,  1.83it/s]]\n",
      "100%|██████████| 63/63 [00:31<00:00,  2.01it/s]]\n",
      "100%|██████████| 83/83 [00:41<00:00,  2.00it/s]]\n",
      "100%|██████████| 63/63 [00:21<00:00,  2.94it/s]]\n",
      "100%|██████████| 61/61 [00:18<00:00,  3.31it/s]]\n",
      "100%|██████████| 78/78 [00:24<00:00,  3.17it/s]]\n",
      "100%|██████████| 152/152 [00:49<00:00,  3.10it/s]\n"
     ]
    }
   ],
   "source": [
    "import os, time\n",
    "import numpy as np\n",
    "import pandas as pd\n",
    "import config.hyperparams as hp\n",
    "from tqdm.notebook import trange, tqdm\n",
    "from entities.solver_process_ns import SolverProcessNS\n",
    "from lib.common import disarrange\n",
    "import powerlaw\n",
    "import matplotlib.pyplot as plt\n",
    "import seaborn as sns\n",
    "import datetime as dt\n",
    "from multiprocessing import Queue\n",
    "from lib import wlanlrz_loader, rtt_matrix_loader, inference_loader, solver\n",
    "\n",
    "### WLAN-LRZ AP Data Loader ####\n",
    "desc = wlanlrz_loader.load_data_description(hp.AP_DESCR)\n",
    "original_data, coord_dataframe_list, total_ap, original_merged_raw_ap_data = \\\n",
    "wlanlrz_loader.load_data_parallel(hp.BUILDING, desc, mass_load=True)"
   ]
  },
  {
   "cell_type": "code",
   "execution_count": 2,
   "metadata": {},
   "outputs": [
    {
     "name": "stdout",
     "output_type": "stream",
     "text": [
      "Total APs: 4371\n",
      "Loading rtt matrix from dataset\n"
     ]
    }
   ],
   "source": [
    "from lib.common import generate_agents, generate_edge_nodes\n",
    "\n",
    "T1_RATIO_VEC_ABS = np.array([100])\n",
    "T2_RATIO_VEC_ABS = np.array([50])\n",
    "T3_RATIO_VEC_ABS = np.array([2])\n",
    "\n",
    "target_ma = 1000\n",
    "\n",
    "RESULTS = []\n",
    "\n",
    "print(\"Total APs: {}\".format(total_ap))\n",
    "original_data['timestamp'] = original_data.index\n",
    "\n",
    "data = original_data[(original_data.total >= target_ma) & (original_data.total < (target_ma*1.1))].sample()\n",
    "merged_raw_ap_data = original_merged_raw_ap_data[original_merged_raw_ap_data.index.isin(data.index)]\n",
    "merged_raw_ap_data = merged_raw_ap_data.loc[:, (merged_raw_ap_data > 0).all()]\n",
    "\n",
    "MA = int(data.total)\n",
    "total_ap = len(merged_raw_ap_data.columns)\n",
    "\n",
    "TIER_1_EN = T1_RATIO_VEC_ABS[0]\n",
    "TIER_2_EN = T2_RATIO_VEC_ABS[0]\n",
    "TIER_3_EN = T3_RATIO_VEC_ABS[0]\n",
    "\n",
    "EN_RATIO = (TIER_1_EN, TIER_2_EN, TIER_3_EN)\n",
    "TOTAL_EN = int(TIER_1_EN + TIER_2_EN + TIER_3_EN)\n",
    "\n",
    "if hp.dataset_rtt:\n",
    "    ### LOAD LATENCY MATRIX FROM DATASET ###\n",
    "    print(\"Loading rtt matrix from dataset\")\n",
    "    clf = rtt_matrix_loader.analyze_data(source=hp.dataset_rtt, drange=1000, threshold=250, k=3)\n",
    "    clf.weights_ = [0.2, 0.2, 0.6]\n",
    "    rtt_matrix = rtt_matrix_loader.generate_data(clf, n=total_ap, m=TOTAL_EN)\n",
    "else:\n",
    "    # Prepare latency matrixes for all the EN classes with increasing latency based on distance from the edge \n",
    "    rtt_matrix_en_t1 = np.round(abs(np.random.normal(1, 0.2, (TIER_1_EN, TIER_1_EN))))\n",
    "    rtt_matrix_en_t2 = np.round(abs(np.random.normal(3, 1, (TIER_1_EN, TIER_2_EN))))\n",
    "    rtt_matrix_en_t3 = np.round(abs(np.random.normal(10, 1, (TIER_1_EN, TIER_3_EN))))\n",
    "\n",
    "    sns.distplot(rtt_matrix_en_t1.flatten(), hist=False, rug=True)\n",
    "    sns.distplot(rtt_matrix_en_t2.flatten(), hist=False, rug=True)\n",
    "    sns.distplot(rtt_matrix_en_t3.flatten(), hist=False, rug=True)\n",
    "\n",
    "    rtt_matrix = np.hstack([rtt_matrix_en_t1, rtt_matrix_en_t2, rtt_matrix_en_t3])\n",
    "\n",
    "disarrange(rtt_matrix, axis=0)\n",
    "\n",
    "for i in range(np.minimum(rtt_matrix.shape[0], rtt_matrix.shape[1])):\n",
    "    rtt_matrix[i][i] = 1"
   ]
  },
  {
   "cell_type": "code",
   "execution_count": 3,
   "metadata": {},
   "outputs": [],
   "source": [
    "thread_nr = 5\n",
    "\n",
    "## Tier 1\n",
    "t1_list = np.zeros(thread_nr, dtype=np.int)\n",
    "# add = np.floor(len(a)/thread_nr)\n",
    "for i in range(TIER_1_EN):\n",
    "    t1_list[i % thread_nr] += 1\n",
    "    \n",
    "## Tier 2\n",
    "t2_list = np.zeros(thread_nr, dtype=np.int)\n",
    "# add = np.floor(6/len(a))\n",
    "for i in range(TIER_2_EN):\n",
    "    t2_list[i % thread_nr] += 1\n",
    "    \n",
    "## Tier 3\n",
    "t3_list = np.zeros(thread_nr, dtype=np.int)\n",
    "# add = np.floor(6/len(t3_list))\n",
    "for i in range(TIER_3_EN):\n",
    "    t3_list[i % thread_nr] += 1"
   ]
  },
  {
   "cell_type": "code",
   "execution_count": 4,
   "metadata": {},
   "outputs": [
    {
     "name": "stdout",
     "output_type": "stream",
     "text": [
      "Set: 0\n",
      "Set: 1\n",
      "Set: 2\n"
     ]
    }
   ],
   "source": [
    "from multiprocessing import Queue\n",
    "from entities.en_tier import Tier\n",
    "import time \n",
    "\n",
    "dim = 0\n",
    "iterations = 100\n",
    "\n",
    "FPS = [10, 10, 10]\n",
    "k = [0,5,0]\n",
    "greed = [False, True, False]\n",
    "cloud = [False, False, True]\n",
    "alpha = [0.7, 1, 0.7]\n",
    "beta = [0.3, 0, 0.3]\n",
    "RESULT = []\n",
    "\n",
    "for j in range(len(FPS)):\n",
    "    print(\"Set: {}\".format(j))\n",
    "    hp.FPS = np.random.normal(FPS[j], 2, 50)\n",
    "    hp.local_search_scope = k[j]\n",
    "    hp.greedy = greed[j]\n",
    "    hp.alpha = alpha[j]\n",
    "    hp.beta = beta[j]\n",
    "    \n",
    "    gb = merged_raw_ap_data.groupby(np.arange(merged_raw_ap_data.shape[1]) // (merged_raw_ap_data.shape[1]/thread_nr), axis=1)\n",
    "    mapls = [group for _, group in gb]\n",
    "    \n",
    "    for i in range(iterations):\n",
    "        processes = []\n",
    "        result_queue = Queue(maxsize=0)\n",
    "    \n",
    "        for nt1,nt2,nt3,ml in zip(t1_list, t2_list, t3_list, mapls):\n",
    "            en_rat = (nt1, nt2, nt3)\n",
    "            agents = generate_agents(MA, ml, dim)\n",
    "            edge_nodes_l = generate_edge_nodes(en_rat, ml, dim)\n",
    "\n",
    "            t = SolverProcessNS(result_queue, agents, edge_nodes_l, rtt_matrix, ml, cloud[j])\n",
    "\n",
    "            processes.append(t)\n",
    "            t.start()\n",
    "\n",
    "        while 1:\n",
    "            time.sleep(0.01)\n",
    "            running = any(p.is_alive() for p in processes)\n",
    "            while not result_queue.empty():\n",
    "                s = result_queue.get()\n",
    "                RESULT.append(s)\n",
    "            if not running:\n",
    "                break\n",
    "        \n",
    "#         print(\"Iteration: {}\".format(i))"
   ]
  },
  {
   "cell_type": "code",
   "execution_count": 5,
   "metadata": {},
   "outputs": [
    {
     "data": {
      "image/png": "[encoded data removed]",
      "text/plain": [
       "<Figure size 1152x144 with 4 Axes>"
      ]
     },
     "metadata": {
      "needs_background": "light"
     },
     "output_type": "display_data"
    }
   ],
   "source": [
    "from entities.mobile_agent import Offloaded\n",
    "\n",
    "fig, ax = plt.subplots(1, 4, figsize=(16, 2), constrained_layout=False)\n",
    "fig.tight_layout()\n",
    "\n",
    "agents_ls = []\n",
    "list_of_groups2 = zip(*(iter(RESULT),) * (iterations*thread_nr))\n",
    "LABELS = [\"MT_Wicker\", \"Greedy\", \"Cloud\"]\n",
    "\n",
    "lat_list = []\n",
    "conv_list = []\n",
    "df = pd.DataFrame(columns=['Algorithm', 'MA', 'Location'])\n",
    "\n",
    "## Latency\n",
    "for i, gr in enumerate(list_of_groups2):\n",
    "    curr_lat = list(map(lambda a: a.total_latency(), np.concatenate(list(map(lambda z: z[1], gr)))))\n",
    "    \n",
    "    #powerlaw.plot_cdf(data=curr_lat, ax=ax[0], label=label)\n",
    "    sns.distplot(curr_lat, hist=False, ax=ax[0], label=LABELS[i])\n",
    "\n",
    "    lat_list.append(curr_lat)\n",
    "    conv_list.append(np.median(list(map(lambda b: b[3], gr))))\n",
    "    \n",
    "    agents = np.concatenate(list(map(lambda z: z[1], gr))) \n",
    "    \n",
    "    loc = len(list(filter(lambda a: a.offload_target == Offloaded.Local ,agents))) / iterations\n",
    "    edge = len(list(filter(lambda a: a.offload_target == Offloaded.Edge ,agents))) / iterations\n",
    "    cloud = len(list(filter(lambda a: a.offload_target == Offloaded.Cloud ,agents))) / iterations\n",
    "\n",
    "    df = df.append({'Algorithm': LABELS[i], 'MA': loc, 'Location': 'Local'}, ignore_index=True) \\\n",
    "        .append({'Algorithm': LABELS[i], 'MA': edge, 'Location': 'Edge'}, ignore_index=True) \\\n",
    "        .append({'Algorithm': LABELS[i], 'MA': cloud, 'Location': 'Cloud'}, ignore_index=True)\n",
    "    \n",
    "sns.boxplot(x=LABELS, y=lat_list, ax=ax[1])\n",
    "sns.barplot(x=LABELS, y=conv_list, ax=ax[2])\n",
    "g = sns.barplot(x=\"Algorithm\", y=\"MA\", hue=\"Location\", data=df, ax=ax[3])\n",
    "\n",
    "#g.text(2,10,4, color='red', ha=\"center\")\n",
    "\n",
    "ax[0].set_xlabel(\"[ms]\")\n",
    "ax[1].set_ylabel(\"[ms]\")\n",
    "ax[2].set_ylabel(\"[s]\")\n",
    "\n",
    "fig.subplots_adjust(hspace=0.2)\n",
    "fig.savefig(\"../plots/multithread/comparison.pdf\",  bbox_inches=\"tight\")"
   ]
  },
  {
   "cell_type": "code",
   "execution_count": 124,
   "metadata": {},
   "outputs": [
    {
     "name": "stdout",
     "output_type": "stream",
     "text": [
      "κ: 1\n",
      "κ: 5\n",
      "κ: 10\n",
      "κ: 15\n",
      "κ: 0\n"
     ]
    }
   ],
   "source": [
    "from multiprocessing import Queue\n",
    "from entities.en_tier import Tier\n",
    "\n",
    "dim = 0\n",
    "iterations = 50\n",
    "    \n",
    "k = [1,5,10,15,0]\n",
    "LABELS = [1, 5, 10, 15, TOTAL_EN/thread_nr]\n",
    "result_kl = []\n",
    "\n",
    "hp.FPS = np.random.normal(10, 2, 50)\n",
    "hp.greedy = False\n",
    "hp.alpha = 0.7\n",
    "hp.beta = 0.3\n",
    "\n",
    "for ke in k:\n",
    "    hp.local_search_scope = ke\n",
    "    print(\"κ: {}\".format(ke))\n",
    "    \n",
    "    gb = merged_raw_ap_data.groupby(np.arange(merged_raw_ap_data.shape[1]) // (merged_raw_ap_data.shape[1]/thread_nr), axis=1)\n",
    "    mapls = [group for _, group in gb]\n",
    "\n",
    "    for i in range(iterations):\n",
    "        ## Network partitioning\n",
    "        processes = []\n",
    "        result_queue = Queue(maxsize=0)\n",
    "\n",
    "        for nt1,nt2,nt3,ml in zip(t1_list, t2_list, t3_list, mapls):\n",
    "            en_rat = (nt1, nt2, nt3)\n",
    "            agents = generate_agents(MA, ml, dim)\n",
    "            edge_nodes_l = generate_edge_nodes(en_rat, ml, dim)\n",
    "\n",
    "            t = SolverProcessNS(result_queue, agents, edge_nodes_l, rtt_matrix, ml)\n",
    "\n",
    "            processes.append(t)\n",
    "            t.start()\n",
    "\n",
    "        while 1:\n",
    "            time.sleep(0.01)\n",
    "            running = any(p.is_alive() for p in processes)\n",
    "            while not result_queue.empty():\n",
    "                s = result_queue.get()\n",
    "                result_kl.append(s)\n",
    "            if not running:\n",
    "                break"
   ]
  },
  {
   "cell_type": "code",
   "execution_count": 125,
   "metadata": {},
   "outputs": [
    {
     "data": {
      "image/png": "[encoded data removed]",
      "text/plain": [
       "<Figure size 432x144 with 2 Axes>"
      ]
     },
     "metadata": {
      "needs_background": "light"
     },
     "output_type": "display_data"
    }
   ],
   "source": [
    "list_of_groups = zip(*(iter(result_kl),) * (iterations*thread_nr))\n",
    "\n",
    "conv_time = []\n",
    "cov = []\n",
    "\n",
    "fig, ax = plt.subplots(1, 1, figsize=(6, 2), constrained_layout=False)\n",
    "fig.tight_layout()\n",
    "\n",
    "for re in list_of_groups:\n",
    "    conv_time.append(np.median(list(map(lambda b: b[3], re))))\n",
    "    \n",
    "    agents = np.concatenate(list(map(lambda z: z[1], re))) \n",
    "    cov.append(len(list(filter(lambda a: a.offload_target == Offloaded.Edge ,agents))) / iterations / target_ma * 100)\n",
    "\n",
    "    \n",
    "ax.plot(LABELS, conv_time, marker=\"o\", label=\"Convergence Time\")\n",
    "ax.set_ylabel(\"[s]\")\n",
    "ax.set_xlabel(\"κ\")\n",
    "ax.set_title(\"EN: {} - MA: {} - T: {}\".format(TOTAL_EN, target_ma, thread_nr))\n",
    "ax.grid()\n",
    "\n",
    "ax2 = ax.twinx()  # instantiate a second axes that shares the same x-axis\n",
    "\n",
    "color = 'tab:red'\n",
    "ax2.set_ylabel('(%)')  # we already handled the x-label with ax1\n",
    "ax2.plot(LABELS, cov, marker=\"*\", color=color, label=\"Edge offloaded MA\")\n",
    "ax2.tick_params(axis='y')\n",
    "\n",
    "h1, l1 = ax.get_legend_handles_labels()\n",
    "h2, l2 = ax2.get_legend_handles_labels()\n",
    "ax.legend(h1+h2, l1+l2, loc=4)\n",
    "\n",
    "fig.savefig(\"../plots/multithread/kappa_tradeoff.pdf\",  bbox_inches=\"tight\")"
   ]
  },
  {
   "cell_type": "code",
   "execution_count": 9,
   "metadata": {},
   "outputs": [
    {
     "name": "stdout",
     "output_type": "stream",
     "text": [
      "Threads: 1\n",
      "Threads: 2\n",
      "Threads: 4\n",
      "Threads: 6\n",
      "Threads: 8\n",
      "Threads: 10\n"
     ]
    }
   ],
   "source": [
    "iterations = 50\n",
    "thread_nr = [1,2,4,6,8,10]\n",
    "\n",
    "hp.FPS = np.random.normal(10, 2, 50)\n",
    "hp.greedy = False\n",
    "hp.alpha = 0.7\n",
    "hp.beta = 0.3\n",
    "hp.local_search_scope = 0\n",
    "\n",
    "RESULT_MT = []\n",
    "\n",
    "for tnr in thread_nr:\n",
    "    \n",
    "    print(\"Threads: {}\".format(tnr))\n",
    "\n",
    "    ## Tier 1\n",
    "    t1_list = np.zeros(tnr, dtype=np.int)\n",
    "    # add = np.floor(len(a)/thread_nr)\n",
    "    for i in range(TIER_1_EN):\n",
    "        t1_list[i % tnr] += 1\n",
    "\n",
    "    ## Tier 2\n",
    "    t2_list = np.zeros(tnr, dtype=np.int)\n",
    "    # add = np.floor(6/len(a))\n",
    "    for i in range(TIER_2_EN):\n",
    "        t2_list[i % tnr] += 1\n",
    "\n",
    "    ## Tier 3\n",
    "    t3_list = np.zeros(tnr, dtype=np.int)\n",
    "    # add = np.floor(6/len(t3_list))\n",
    "    for i in range(TIER_3_EN):\n",
    "        t3_list[i % tnr] += 1\n",
    "        \n",
    "    gb = merged_raw_ap_data.groupby(np.arange(merged_raw_ap_data.shape[1]) // (merged_raw_ap_data.shape[1]/tnr), axis=1)\n",
    "    mapls = [group for _, group in gb]\n",
    "    \n",
    "    for i in range(iterations):\n",
    "        processes = []\n",
    "        result_queue = Queue(maxsize=0)\n",
    "    \n",
    "        for nt1,nt2,nt3,ml in zip(t1_list, t2_list, t3_list, mapls):\n",
    "            en_rat = (nt1, nt2, nt3)\n",
    "            agents = generate_agents(MA, ml, dim)\n",
    "            edge_nodes_l = generate_edge_nodes(en_rat, ml, dim)\n",
    "\n",
    "            t = SolverProcessNS(result_queue, agents, edge_nodes_l, rtt_matrix, ml, False)\n",
    "\n",
    "            processes.append(t)\n",
    "            t.start()\n",
    "\n",
    "        while 1:\n",
    "            time.sleep(0.01)\n",
    "            running = any(p.is_alive() for p in processes)\n",
    "            while not result_queue.empty():\n",
    "                s = result_queue.get()\n",
    "                RESULT_MT.append(s)\n",
    "            if not running:\n",
    "                break"
   ]
  },
  {
   "cell_type": "code",
   "execution_count": 10,
   "metadata": {
    "scrolled": true
   },
   "outputs": [
    {
     "data": {
      "image/png": "[encoded data removed]",
      "text/plain": [
       "<Figure size 1152x144 with 4 Axes>"
      ]
     },
     "metadata": {
      "needs_background": "light"
     },
     "output_type": "display_data"
    }
   ],
   "source": [
    "from entities.mobile_agent import Offloaded\n",
    "\n",
    "fig, ax = plt.subplots(1, 4, figsize=(16, 2), constrained_layout=False)\n",
    "fig.tight_layout()\n",
    "\n",
    "agents_ls = []\n",
    "lmt = []\n",
    "marker = 0\n",
    "\n",
    "df = pd.DataFrame(columns=['Threads', 'MA', 'Location'])\n",
    "\n",
    "for trn in thread_nr:\n",
    "    lmt.append(RESULT_MT[marker:(marker+(trn*iterations))])\n",
    "    marker = marker+trn*iterations\n",
    "\n",
    "lat_list = []\n",
    "conv_list = []\n",
    "\n",
    "## Latency\n",
    "for i, elem in enumerate(lmt):\n",
    "    curr_lat = list(map(lambda a: a.total_latency(), np.concatenate(list(map(lambda z: z[1], elem)))))\n",
    "    \n",
    "    #powerlaw.plot_cdf(data=curr_lat, ax=ax[0], label=label)\n",
    "    sns.distplot(curr_lat, hist=False, ax=ax[0], label=thread_nr[i])\n",
    "\n",
    "    lat_list.append(curr_lat)\n",
    "    conv_list.append(np.median(list(map(lambda b: b[3], elem))))\n",
    "    \n",
    "    agents = np.concatenate(list(map(lambda z: z[1], elem))) \n",
    "\n",
    "    loc = len(list(filter(lambda a: a.offload_target == Offloaded.Local ,agents))) / iterations\n",
    "    edge = len(list(filter(lambda a: a.offload_target == Offloaded.Edge ,agents))) / iterations\n",
    "    cloud = len(list(filter(lambda a: a.offload_target == Offloaded.Cloud ,agents))) / iterations\n",
    "\n",
    "    df = df.append({'Threads': thread_nr[i], 'MA': loc, 'Location': 'Local'}, ignore_index=True) \\\n",
    "        .append({'Threads': thread_nr[i], 'MA': edge, 'Location': 'Edge'}, ignore_index=True) \\\n",
    "        .append({'Threads': thread_nr[i], 'MA': cloud, 'Location': 'Cloud'}, ignore_index=True)\n",
    "\n",
    "sns.barplot(x=thread_nr, y=conv_list, ax=ax[2], label=thread_nr)\n",
    "sns.barplot(x=\"Threads\", y=\"MA\", hue=\"Location\", data=df, ax=ax[3])\n",
    "# sns.boxplot(thread_nr, lat_list, ax=ax[1])\n",
    "ax[1].boxplot(lat_list, labels=thread_nr)\n",
    "#g.text(2,10,4, color='red', ha=\"center\")\n",
    "\n",
    "ax[0].set_xlabel(\"[ms]\")\n",
    "ax[1].set_ylabel(\"[ms]\")\n",
    "\n",
    "ax[1].set_xlabel(\"Threads\")\n",
    "ax[2].set_xlabel(\"Threads\")\n",
    "ax[2].set_ylabel(\"[s]\")\n",
    "\n",
    "fig.subplots_adjust(hspace=0.2)\n",
    "fig.savefig(\"../plots/multithread/threads_scaling.pdf\",  bbox_inches=\"tight\")"
   ]
  },
  {
   "cell_type": "code",
   "execution_count": 8,
   "metadata": {},
   "outputs": [
    {
     "data": {
      "text/html": [
       "<div>\n",
       "<style scoped>\n",
       "    .dataframe tbody tr th:only-of-type {\n",
       "        vertical-align: middle;\n",
       "    }\n",
       "\n",
       "    .dataframe tbody tr th {\n",
       "        vertical-align: top;\n",
       "    }\n",
       "\n",
       "    .dataframe thead th {\n",
       "        text-align: right;\n",
       "    }\n",
       "</style>\n",
       "<table border=\"1\" class=\"dataframe\">\n",
       "  <thead>\n",
       "    <tr style=\"text-align: right;\">\n",
       "      <th></th>\n",
       "      <th>Threads</th>\n",
       "      <th>MA</th>\n",
       "      <th>Location</th>\n",
       "    </tr>\n",
       "  </thead>\n",
       "  <tbody>\n",
       "    <tr>\n",
       "      <th>0</th>\n",
       "      <td>2</td>\n",
       "      <td>42.64</td>\n",
       "      <td>Local</td>\n",
       "    </tr>\n",
       "    <tr>\n",
       "      <th>1</th>\n",
       "      <td>2</td>\n",
       "      <td>693.82</td>\n",
       "      <td>Edge</td>\n",
       "    </tr>\n",
       "    <tr>\n",
       "      <th>2</th>\n",
       "      <td>2</td>\n",
       "      <td>283.54</td>\n",
       "      <td>Cloud</td>\n",
       "    </tr>\n",
       "    <tr>\n",
       "      <th>3</th>\n",
       "      <td>4</td>\n",
       "      <td>71.86</td>\n",
       "      <td>Local</td>\n",
       "    </tr>\n",
       "    <tr>\n",
       "      <th>4</th>\n",
       "      <td>4</td>\n",
       "      <td>632.98</td>\n",
       "      <td>Edge</td>\n",
       "    </tr>\n",
       "    <tr>\n",
       "      <th>5</th>\n",
       "      <td>4</td>\n",
       "      <td>315.16</td>\n",
       "      <td>Cloud</td>\n",
       "    </tr>\n",
       "    <tr>\n",
       "      <th>6</th>\n",
       "      <td>6</td>\n",
       "      <td>128.02</td>\n",
       "      <td>Local</td>\n",
       "    </tr>\n",
       "    <tr>\n",
       "      <th>7</th>\n",
       "      <td>6</td>\n",
       "      <td>565.26</td>\n",
       "      <td>Edge</td>\n",
       "    </tr>\n",
       "    <tr>\n",
       "      <th>8</th>\n",
       "      <td>6</td>\n",
       "      <td>326.72</td>\n",
       "      <td>Cloud</td>\n",
       "    </tr>\n",
       "    <tr>\n",
       "      <th>9</th>\n",
       "      <td>8</td>\n",
       "      <td>179.78</td>\n",
       "      <td>Local</td>\n",
       "    </tr>\n",
       "    <tr>\n",
       "      <th>10</th>\n",
       "      <td>8</td>\n",
       "      <td>509.92</td>\n",
       "      <td>Edge</td>\n",
       "    </tr>\n",
       "    <tr>\n",
       "      <th>11</th>\n",
       "      <td>8</td>\n",
       "      <td>330.30</td>\n",
       "      <td>Cloud</td>\n",
       "    </tr>\n",
       "    <tr>\n",
       "      <th>12</th>\n",
       "      <td>10</td>\n",
       "      <td>179.94</td>\n",
       "      <td>Local</td>\n",
       "    </tr>\n",
       "    <tr>\n",
       "      <th>13</th>\n",
       "      <td>10</td>\n",
       "      <td>509.40</td>\n",
       "      <td>Edge</td>\n",
       "    </tr>\n",
       "    <tr>\n",
       "      <th>14</th>\n",
       "      <td>10</td>\n",
       "      <td>330.66</td>\n",
       "      <td>Cloud</td>\n",
       "    </tr>\n",
       "  </tbody>\n",
       "</table>\n",
       "</div>"
      ],
      "text/plain": [
       "   Threads      MA Location\n",
       "0        2   42.64    Local\n",
       "1        2  693.82     Edge\n",
       "2        2  283.54    Cloud\n",
       "3        4   71.86    Local\n",
       "4        4  632.98     Edge\n",
       "5        4  315.16    Cloud\n",
       "6        6  128.02    Local\n",
       "7        6  565.26     Edge\n",
       "8        6  326.72    Cloud\n",
       "9        8  179.78    Local\n",
       "10       8  509.92     Edge\n",
       "11       8  330.30    Cloud\n",
       "12      10  179.94    Local\n",
       "13      10  509.40     Edge\n",
       "14      10  330.66    Cloud"
      ]
     },
     "execution_count": 8,
     "metadata": {},
     "output_type": "execute_result"
    }
   ],
   "source": [
    "df"
   ]
  },
  {
   "cell_type": "code",
   "execution_count": 36,
   "metadata": {},
   "outputs": [
    {
     "data": {
      "image/png": "[encoded data removed]",
      "text/plain": [
       "<Figure size 648x180 with 3 Axes>"
      ]
     },
     "metadata": {
      "needs_background": "light"
     },
     "output_type": "display_data"
    }
   ],
   "source": [
    "fig,axs = plt.subplots(1,3,figsize=(9,2.5), constrained_layout=False)\n",
    "fig.tight_layout()\n",
    "\n",
    "sns.boxplot(x=thread_nr, y=lat_list, ax=axs[0], showfliers=False, palette=\"YlGnBu\")\n",
    "sns.barplot(x=thread_nr, y=conv_list, ax=axs[1], palette=\"YlGnBu\", edgecolor=\"black\")\n",
    "sns.barplot(x=\"Threads\", y=\"MA\", hue=\"Location\", data=df, ax=axs[2], palette=\"YlGnBu\", edgecolor=\"black\")\n",
    "\n",
    "axs[2].legend(ncol=3,borderpad=0.2, loc=9,\n",
    "                labelspacing=0.1, handletextpad=0.3,\n",
    "                borderaxespad=0.15, columnspacing=0.2)\n",
    "for ax in axs:\n",
    "    ax.grid(axis='y')\n",
    "\n",
    "axs[2].set_ylabel('Mobile Agents', labelpad=-0.6)\n",
    "\n",
    "axs[0].set_xlabel(\"Threads\")\n",
    "axs[0].set_ylabel(\"[ms]\")\n",
    "\n",
    "axs[1].set_xlabel(\"Threads\")\n",
    "axs[1].set_ylabel(\"[s]\")\n",
    "\n",
    "axs[2].set_xlabel(\"Threads\")\n",
    "axs[2].set_ylabel(\"MA\")\n",
    "\n",
    "fig.savefig(\"../plots/multithread/threads_scaling_compact.pdf\",  bbox_inches=\"tight\")"
   ]
  },
  {
   "cell_type": "code",
   "execution_count": 85,
   "metadata": {},
   "outputs": [],
   "source": [
    "## This will change the style of the plots a bit\n",
    "import matplotlib\n",
    "\n",
    "plt.style.use('classic')\n",
    "\n",
    "matplotlib.rcParams['axes.facecolor'] = 'w'\n",
    "matplotlib.rcParams['axes.edgecolor'] = 'k'\n",
    "matplotlib.rcParams['figure.facecolor'] = 'w'\n",
    "matplotlib.rcParams['axes.titlesize'] = 22\n",
    "matplotlib.rcParams['axes.labelsize'] = 22\n",
    "matplotlib.rcParams['lines.linewidth'] = 2\n",
    "matplotlib.rcParams['lines.markersize'] = 3\n",
    "matplotlib.rcParams['lines.color'] = 'xkcd:blue'\n",
    "matplotlib.rcParams['xtick.labelsize'] = 20\n",
    "matplotlib.rcParams['ytick.labelsize'] = 20\n",
    "\n",
    "width = 7\n",
    "height = width / 1.618\n",
    "\n",
    "# Use matplotlib fonts\n",
    "matplotlib.rcParams['text.usetex']=True"
   ]
  },
  {
   "cell_type": "code",
   "execution_count": 101,
   "metadata": {},
   "outputs": [
    {
     "data": {
      "image/png": "[encoded data removed]",
      "text/plain": [
       "<Figure size 672x336 with 2 Axes>"
      ]
     },
     "metadata": {},
     "output_type": "display_data"
    }
   ],
   "source": [
    "from numpy import median\n",
    "# weird - too packed\n",
    "fig,axs = plt.subplots(1,2,figsize=(8.4,4.2), constrained_layout=False)\n",
    "fig.tight_layout()\n",
    "\n",
    "sns.barplot(x=thread_nr, y=conv_list, ax=axs[0], palette=\"plasma\", edgecolor=\"black\", estimator=median)\n",
    "sns.barplot(x=\"Threads\", y=\"MA\", hue=\"Location\", data=df, ax=axs[1], palette=\"YlGnBu\", edgecolor=\"black\")\n",
    "\n",
    "axs[1].legend(ncol=3,borderpad=0.2, loc=9,\n",
    "                labelspacing=0.1, handletextpad=0.3,\n",
    "                borderaxespad=0.15, columnspacing=0.2, title='')\n",
    "\n",
    "axin1 = axs[0].inset_axes([0.40, 0.34, 0.59, 0.54])\n",
    "sns.boxplot(x=thread_nr, y=lat_list, ax=axin1, showfliers=False, palette=\"plasma\")\n",
    "\n",
    "axs[0].set_xlabel(\"Threads\")\n",
    "axs[0].set_ylabel(\"Convergence Time [s]\")\n",
    "\n",
    "#axin1.set_ylabel(\"[ms]\")\n",
    "axin1.grid(axis='y')\n",
    "axin1.set_title('Task Execution [ms]', fontsize=12.75, pad=3)\n",
    "\n",
    "axs[0].set_ylim(top=2) \n",
    "axs[1].set_ylim(top=1000)\n",
    "axs[1].set_ylabel('Mobile Devices', labelpad=-9)\n",
    "\n",
    "for ax in axs:\n",
    "    ax.grid(axis='y')\n",
    "\n",
    "plt.tight_layout(pad=0, w_pad=0.3)\n",
    "    \n",
    "fig.savefig(\"../plots/multithread/threads_scaling_inset.pdf\",  bbox_inches=\"tight\")"
   ]
  },
  {
   "cell_type": "code",
   "execution_count": null,
   "metadata": {},
   "outputs": [],
   "source": []
  }
 ],
 "metadata": {
  "kernelspec": {
   "display_name": "Python 3.6.9 64-bit ('ec_solver': venv)",
   "language": "python",
   "name": "python36964bitecsolvervenv8f840cae860849e0b06ea0c4969e9c05"
  },
  "language_info": {
   "codemirror_mode": {
    "name": "ipython",
    "version": 3
   },
   "file_extension": ".py",
   "mimetype": "text/x-python",
   "name": "python",
   "nbconvert_exporter": "python",
   "pygments_lexer": "ipython3",
   "version": "3.6.9"
  }
 },
 "nbformat": 4,
 "nbformat_minor": 2
}
